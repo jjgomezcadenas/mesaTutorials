{
 "cells": [
  {
   "cell_type": "markdown",
   "metadata": {},
   "source": [
    "# Barrio Tortuga SEIR"
   ]
  },
  {
   "cell_type": "markdown",
   "metadata": {},
   "source": [
    "- Barrio Tortuga SEIR is a toy model to reproduce SEIR equations. \n",
    "- In this version the turtles move at random trhough a barrio without streets  \n",
    "- We first run the model without infection to compute the average number of contacts per tick.\n",
    "- Then we run SEIR, which consideres four categories: S, E, I and R."
   ]
  },
  {
   "cell_type": "code",
   "execution_count": 1,
   "metadata": {},
   "outputs": [
    {
     "name": "stdout",
     "output_type": "stream",
     "text": [
      "Last updated on  Thu Apr 23 14:54:45 2020\n"
     ]
    }
   ],
   "source": [
    "%matplotlib inline\n",
    "%load_ext autoreload\n",
    "%autoreload 2\n",
    "import matplotlib.pyplot as plt\n",
    "from matplotlib.pyplot import imshow\n",
    "plt.rcParams[\"figure.figsize\"] = 10, 8\n",
    "plt.rcParams[\"font.size\"     ] = 14\n",
    "import os\n",
    "import sys\n",
    "import glob\n",
    "import time\n",
    "import warnings\n",
    "import datetime \n",
    "print(\"Last updated on \", time.asctime())\n",
    "import numpy as np\n",
    "import pandas as pd\n",
    "import matplotlib"
   ]
  },
  {
   "cell_type": "code",
   "execution_count": 2,
   "metadata": {},
   "outputs": [],
   "source": [
    "fontsize=20\n",
    "font = {'family': 'serif',\n",
    "        'color':  'black',\n",
    "        'weight': 'bold',\n",
    "        'size': fontsize,\n",
    "        }\n",
    "\n",
    "plt.rcParams[\"font.size\"     ] = fontsize\n"
   ]
  },
  {
   "cell_type": "code",
   "execution_count": 3,
   "metadata": {},
   "outputs": [],
   "source": [
    "from mesa import Agent, Model\n",
    "from mesa.time import RandomActivation\n",
    "from mesa.space import MultiGrid\n",
    "from mesa.datacollection import DataCollector\n",
    "from mesa.visualization.TextVisualization import TextVisualization, TextGrid"
   ]
  },
  {
   "cell_type": "code",
   "execution_count": 4,
   "metadata": {},
   "outputs": [],
   "source": [
    "from termcolor import colored"
   ]
  },
  {
   "cell_type": "code",
   "execution_count": 44,
   "metadata": {},
   "outputs": [],
   "source": [
    "from barrio_tortuga.barrio_tortuga.BarrioTortugaSEIR import BarrioTortugaSEIR"
   ]
  },
  {
   "cell_type": "code",
   "execution_count": 46,
   "metadata": {},
   "outputs": [],
   "source": [
    "from barrio_tortuga.barrio_tortuga.utils import PrtLvl, print_level"
   ]
  },
  {
   "cell_type": "markdown",
   "metadata": {},
   "source": [
    "# Definition of Barrio Tortuga for SEIR"
   ]
  },
  {
   "cell_type": "markdown",
   "metadata": {},
   "source": [
    "### Assumptions of SEIR:\n",
    "\n",
    "- Population mixed in an homogenous way.\n",
    "- The larger the number of contacts the faster the simulation will progress.\n",
    "- The space here can be defined as a toroidal grid of 20 x 20 = 400 patches, so that populations of a few thousands will result in enough stats.  \n",
    "    "
   ]
  },
  {
   "cell_type": "markdown",
   "metadata": {},
   "source": [
    "# Barrio Tortuga SEIR"
   ]
  },
  {
   "cell_type": "code",
   "execution_count": 260,
   "metadata": {},
   "outputs": [],
   "source": [
    "def run_series(ns=100, steps= 100, turtles=1000, i0=10, r0 = 3.5, nc=2.3, ti = 5, tr = 5, width=40, height=40, fprint=25):\n",
    "    DFT = [run_turtles_calib(steps, turtles, i0, r0, nc, ti, tr, width, height, False, PrtLvl.Mute, fprint) for i in range(ns)]\n",
    "    df = pd.concat(DFT)\n",
    "    return df.groupby(df.index).mean()\n",
    "    \n",
    "def r0(dft, tmax=20, tr=5):\n",
    "    T = dft.index.values\n",
    "    E = dft.NumberOfExposed.values\n",
    "    I = dft.NumberOfInfected.values\n",
    "    S = dft.NumberOfSusceptible.values\n",
    "    R = dft.NumberOfRecovered.values\n",
    "    N = S[0] + I[0]\n",
    "    r0 = np.array([(E[t] - E[t-1]) / (S[t-1]/N) / I[t-1] for t in T[1:tmax]])\n",
    "    return T[1:tmax], r0 * tr"
   ]
  },
  {
   "cell_type": "code",
   "execution_count": 225,
   "metadata": {},
   "outputs": [],
   "source": [
    "def run_turtles_calib(steps= 150, turtles=5000, i0=10, r0 = 3.5, nc=2.3, ti = 5, tr = 5, width=40, height=40, calib=False, prtl=PrtLvl.Concise, fprint=25):\n",
    "    \"\"\"Calibrate SEIR\"\"\"\n",
    "    \n",
    "    print(f\" Running Barrio Tortuga SEIR with {turtles}  turtles, for {steps} steps.\")\n",
    "    bt = BarrioTortugaSEIR(turtles, i0, r0, nc, ti, tr, width, height, calib, prtl)\n",
    "    \n",
    "    for i in range(steps):\n",
    "        if i%fprint == 0:\n",
    "            print(f' step {i}')\n",
    "        bt.step()\n",
    "    print('Done!')\n",
    "    return bt.datacollector.get_model_vars_dataframe()"
   ]
  },
  {
   "cell_type": "code",
   "execution_count": null,
   "metadata": {},
   "outputs": [],
   "source": [
    "def peak_position(dft):\n",
    "    return dft.NumberOfInfected.idxmax(), dft.NumberOfInfected.max()"
   ]
  },
  {
   "cell_type": "markdown",
   "metadata": {},
   "source": [
    "## Calibrate for 5000 events"
   ]
  },
  {
   "cell_type": "code",
   "execution_count": 301,
   "metadata": {},
   "outputs": [
    {
     "name": "stdout",
     "output_type": "stream",
     "text": [
      " Running Barrio Tortuga SEIR with 5000  turtles, for 100 steps.\n",
      "Barrio Tortuga SEIR parameters\n",
      "            number of turtles       = 5000\n",
      "            initial infected        = 10\n",
      "            fraction infected       = 0.002\n",
      "            R0                      = 3.5\n",
      "            Ti (incubation time)    = 5\n",
      "            Tr (recovery time)      = 5\n",
      "            number of contacts      = 2.3\n",
      "            P (trans. prob/contact) = 1\n",
      "            Calib                   = True\n",
      "            Grid (w x h)            = 40 x 40\n",
      "            \n",
      " step 0\n",
      "Done!\n"
     ]
    }
   ],
   "source": [
    "cft5k = run_turtles_calib(steps= 100, turtles=5000, i0=10, r0 = 3.5, nc=2.3, ti = 5, tr = 5, width=40, height=40, calib=True, prtl=PrtLvl.Concise, fprint=100)"
   ]
  },
  {
   "cell_type": "code",
   "execution_count": 316,
   "metadata": {},
   "outputs": [
    {
     "data": {
      "text/plain": [
       "23.88247524752476"
      ]
     },
     "execution_count": 316,
     "metadata": {},
     "output_type": "execute_result"
    }
   ],
   "source": [
    "NC5k = cft5k.mean().values[0]\n",
    "NC5k"
   ]
  },
  {
   "cell_type": "code",
   "execution_count": 303,
   "metadata": {},
   "outputs": [
    {
     "data": {
      "text/plain": [
       "[<matplotlib.lines.Line2D at 0x11b830f90>]"
      ]
     },
     "execution_count": 303,
     "metadata": {},
     "output_type": "execute_result"
    },
    {
     "data": {
      "image/png": "[encoded data removed]",
      "text/plain": [
       "<Figure size 720x576 with 1 Axes>"
      ]
     },
     "metadata": {
      "needs_background": "light"
     },
     "output_type": "display_data"
    }
   ],
   "source": [
    "plt.plot(cft5k.index, cft5k.NumberOfneighbors)"
   ]
  },
  {
   "cell_type": "markdown",
   "metadata": {},
   "source": [
    "## Calibrate for 1000 events"
   ]
  },
  {
   "cell_type": "code",
   "execution_count": 304,
   "metadata": {},
   "outputs": [
    {
     "name": "stdout",
     "output_type": "stream",
     "text": [
      " Running Barrio Tortuga SEIR with 1000  turtles, for 100 steps.\n",
      "Barrio Tortuga SEIR parameters\n",
      "            number of turtles       = 1000\n",
      "            initial infected        = 10\n",
      "            fraction infected       = 0.01\n",
      "            R0                      = 3.5\n",
      "            Ti (incubation time)    = 5\n",
      "            Tr (recovery time)      = 5\n",
      "            number of contacts      = 2.3\n",
      "            P (trans. prob/contact) = 1\n",
      "            Calib                   = True\n",
      "            Grid (w x h)            = 40 x 40\n",
      "            \n",
      " step 0\n",
      "Done!\n"
     ]
    }
   ],
   "source": [
    "cft1k = run_turtles_calib(steps= 100, turtles=1000, i0=10, r0 = 3.5, nc=2.3, ti = 5, tr = 5, width=40, height=40, calib=True, prtl=PrtLvl.Concise, fprint=100)"
   ]
  },
  {
   "cell_type": "code",
   "execution_count": 314,
   "metadata": {},
   "outputs": [
    {
     "data": {
      "text/plain": [
       "2.3287128712871286"
      ]
     },
     "execution_count": 314,
     "metadata": {},
     "output_type": "execute_result"
    }
   ],
   "source": [
    "NC1k = cft1k.mean().values[0]\n",
    "NC1k"
   ]
  },
  {
   "cell_type": "markdown",
   "metadata": {},
   "source": [
    "## Calibrate for 10000 events"
   ]
  },
  {
   "cell_type": "code",
   "execution_count": 426,
   "metadata": {},
   "outputs": [
    {
     "name": "stdout",
     "output_type": "stream",
     "text": [
      " Running Barrio Tortuga SEIR with 8000  turtles, for 3 steps.\n",
      "Barrio Tortuga SEIR parameters\n",
      "            number of turtles       = 8000\n",
      "            initial infected        = 10\n",
      "            fraction infected       = 0.00125\n",
      "            R0                      = 3.5\n",
      "            Ti (incubation time)    = 5\n",
      "            Tr (recovery time)      = 5\n",
      "            number of contacts      = 2.3\n",
      "            P (trans. prob/contact) = 1\n",
      "            Calib                   = True\n",
      "            Grid (w x h)            = 40 x 40\n",
      "            \n",
      "number of turtles in this cell  = 10\n",
      "number of turtles in this cell  = 4\n",
      "x = 2 y = 2\n",
      "number of turtles in this cell  = 3\n",
      "coordinates of neighbors inlcuding center = [(1, 1), (2, 1), (3, 1), (1, 2), (2, 2), (3, 2), (1, 3), (2, 3), (3, 3)]\n",
      "coordinates of neighbors = (1, 1)\n",
      "nof turtles = 5\n",
      "coordinates of neighbors = (2, 1)\n",
      "nof turtles = 6\n",
      "coordinates of neighbors = (3, 1)\n",
      "nof turtles = 4\n",
      "coordinates of neighbors = (1, 2)\n",
      "nof turtles = 4\n",
      "coordinates of neighbors = (2, 2)\n",
      "nof turtles = 3\n",
      "coordinates of neighbors = (3, 2)\n",
      "nof turtles = 1\n",
      "coordinates of neighbors = (1, 3)\n",
      "nof turtles = 4\n",
      "coordinates of neighbors = (2, 3)\n",
      "nof turtles = 7\n",
      "coordinates of neighbors = (3, 3)\n",
      "nof turtles = 4\n",
      "nof turtles in cell and neighbors = 38\n",
      "NC = [41, 42, 44, 37, 41, 43, 40, 35, 38, 41, 38, 34, 39, 43, 46, 41, 49, 48, 55, 41, 42, 37, 47, 49, 50, 43, 44, 46, 45, 50, 56, 55, 59, 49, 47, 33, 35, 38, 42, 36, 53, 43, 35, 30, 42, 47, 47, 38, 41, 39, 42, 37, 43, 42, 44, 40, 47, 44, 54, 42, 43, 34, 48, 49, 50, 39, 39, 41, 40, 47, 54, 58, 62, 50, 46, 42, 44, 47, 48, 53, 48, 44, 37, 33, 38, 45, 50, 42, 43, 37, 41, 44, 51, 53, 46, 42, 47, 47, 53, 41, 43, 40, 47, 51, 47, 36, 30, 38, 42, 49, 49, 62, 68, 59, 48, 51, 53, 50, 54, 43, 43, 34, 35, 35, 41, 42, 37, 32, 28, 39, 48, 55, 54, 49, 49, 42, 42, 45, 47, 51, 49, 53, 50, 46, 36, 35, 38, 39, 44, 45, 60, 65, 62, 61, 57, 56, 51, 45, 52, 38, 42, 38, 36, 36, 38, 40, 37, 39, 38, 44, 45, 48, 49, 46, 48, 45, 48, 44, 41, 46, 49, 48, 43, 38, 36, 35, 41, 45, 48, 60, 69, 73, 69, 54, 47, 42, 39, 42, 42, 42, 33, 32, 32, 33, 30, 36, 44, 47, 46, 41, 43, 46, 46, 50, 42, 47, 41, 44, 42, 44, 49, 42, 40, 32, 39, 34, 42, 39, 46, 49, 55, 61, 57, 49, 42, 43, 41, 46, 51, 52, 37, 32, 36, 39, 38, 38, 48, 52, 50, 42, 39, 38, 40, 42, 41, 36, 31, 32, 33, 36, 47, 49, 47, 34, 34, 32, 39, 36, 38, 41, 48, 53, 47, 40, 42, 47, 46, 52, 47, 50, 42, 40, 41, 42, 38, 39, 45, 52, 49, 50, 48, 49, 44, 42, 33, 31, 31, 40, 39, 40, 45, 44, 40, 31, 35, 36, 40, 35, 37, 32, 33, 38, 40, 41, 40, 42, 43, 47, 50, 56, 51, 47, 43, 43, 42, 44, 49, 53, 51, 48, 49, 45, 40, 31, 34, 34, 41, 43, 48, 49, 48, 41, 34, 29, 34, 39, 44, 44, 43, 41, 37, 42, 43, 43, 41, 35, 37, 40, 47, 47, 47, 40, 32, 34, 39, 46, 45, 45, 43, 52, 54, 53, 29, 34, 39, 45, 40, 44, 48, 50, 43, 38, 33, 38, 42, 51, 55, 55, 50, 40, 44, 42, 46, 36, 36, 39, 42, 48, 52, 48, 44, 39, 43, 49, 48, 44, 39, 36, 41, 41, 44, 37, 31, 40, 43, 54, 45, 53, 54, 59, 51, 46, 39, 41, 45, 55, 59, 58, 51, 44, 43, 42, 43, 38, 44, 45, 50, 45, 45, 42, 43, 44, 46, 47, 44, 36, 34, 34, 45, 41, 44, 35, 34, 38, 39, 45, 39, 49, 50, 54, 47, 46, 42, 41, 40, 45, 45, 47, 42, 42, 39, 36, 40, 37, 49, 45, 53, 47, 50, 55, 61, 61, 52, 50, 46, 46, 40, 39, 36, 37, 40, 41, 40, 43, 45, 52, 53, 59, 54, 45, 36, 34, 38, 44, 47, 49, 40, 36, 30, 34, 37, 37, 40, 40, 50, 48, 52, 50, 46, 54, 52, 52, 40, 40, 37, 42, 38, 44, 44, 49, 47, 40, 38, 38, 42, 39, 43, 45, 47, 38, 32, 31, 35, 38, 42, 41, 39, 33, 35, 31, 38, 34, 42, 39, 48, 48, 50, 49, 51, 61, 54, 54, 42, 42, 33, 38, 31, 34, 34, 42, 46, 43, 45, 39, 38, 34, 41, 45, 47, 42, 36, 35, 37, 43, 46, 48, 46, 43, 43, 35, 38, 36, 42, 41, 52, 52, 51, 45, 48, 51, 42, 47, 42, 44, 33, 34, 32, 38, 45, 48, 47, 41, 44, 39, 35, 33, 35, 40, 43, 45, 44, 46, 54, 54, 49, 41, 45, 49, 53, 42, 36, 33, 41, 46, 56, 52, 50, 46, 48, 49, 41, 47, 42, 43, 32, 34, 33, 46, 52, 51, 44, 41, 44, 41, 38, 40, 44, 46, 42, 41, 42, 47, 55, 59, 55, 47, 43, 44, 48, 49, 47, 45, 43, 46, 56, 52, 51, 40, 40, 41, 40, 38, 39, 43, 45, 46, 47, 59, 63, 61, 47, 44, 41, 46, 44, 49, 47, 49, 47, 44, 43, 43, 49, 47, 49, 43, 47, 39, 42, 44, 49, 48, 48, 50, 55, 52, 45, 39, 42, 46, 43, 39, 39, 40, 43, 49, 52, 61, 56, 56, 40, 42, 38, 47, 45, 53, 54, 54, 47, 42, 40, 34, 32, 33, 41, 43, 49, 44, 47, 48, 52, 54, 51, 46, 48, 43, 42, 25, 34, 46, 51, 43, 40, 40, 50, 53, 56, 58, 52, 53, 38, 42, 41, 50, 46, 51, 49, 53, 49, 48, 39, 27, 26, 29, 40, 39, 50, 48, 53, 51, 48, 47, 42, 44, 49, 43, 35, 26, 34, 45, 49, 49, 42, 44, 44, 50, 48, 55, 50, 49, 37, 43, 47, 48, 46, 48, 50, 51, 44, 46, 41, 36, 38, 40, 45, 42, 50, 56, 58, 57, 48, 49, 44, 51, 58, 48, 38, 30, 35, 46, 53, 47, 43, 41, 44, 44, 41, 45, 47, 45, 38, 40, 47, 45, 46, 43, 47, 52, 51, 52, 43, 42, 48, 47, 48, 43, 52, 56, 52, 48, 41, 44, 42, 50, 59, 56, 42, 31, 35, 39, 48, 43, 47, 41, 45, 45, 44, 45, 48, 51, 49, 50, 52, 48, 47, 44, 48, 47, 49, 54, 57, 56, 56, 53, 48, 47, 48, 55, 45, 41, 32, 37, 40, 43, 49, 46, 41, 33, 32, 38, 47, 43, 43, 36, 42, 48, 49, 49, 45, 49, 46, 48, 49, 48, 45, 40, 43, 44, 51, 59, 59, 56, 49, 51, 44, 47, 45, 50, 38, 35, 30, 33, 32, 29, 37, 38, 29, 24, 26, 30, 39, 41, 47, 48, 56, 53, 54, 48, 53, 52, 52, 53, 48, 48, 42, 47, 44, 49, 55, 57, 53, 43, 46, 44, 49, 46, 45, 42, 41, 40, 32, 28, 25, 31, 32, 32, 42, 33, 35, 34, 45, 41, 50, 50, 63, 59, 57, 51, 51, 49, 46, 44, 39, 35, 35, 42, 47, 53, 49, 47, 46, 46, 45, 43, 52, 55, 52, 45, 46, 44, 40, 37, 41, 43, 45, 40, 45, 44, 46, 42, 50, 50, 57, 59, 61, 54, 52, 59, 66, 60, 47, 43, 42, 42, 47, 48, 48, 40, 42, 47, 46, 47, 52, 56, 49, 49, 53, 54, 49, 41, 41, 45, 45, 44, 43, 45, 49, 53, 55, 57, 52, 56, 53, 51, 52, 54, 62, 56, 48, 39, 40, 37, 36, 31, 37, 46, 43, 44, 44, 49, 44, 42, 47, 53, 50, 47, 49, 46, 48, 42, 43, 42, 42, 44, 39, 41, 41, 45, 45, 51, 49, 55, 47, 45, 46, 48, 48, 43, 43, 46, 52, 46, 37, 36, 40, 45, 46, 48, 51, 45, 42, 39, 47, 40, 46, 41, 45, 42, 38, 38, 39, 42, 44, 33, 31, 31, 36, 40, 45, 40, 45, 43, 51, 54, 52, 48, 43, 46, 51, 47, 47, 36, 34, 34, 37, 45, 44, 55, 52, 47, 39, 40, 44, 38, 42, 37, 37, 33, 35, 42, 45, 46, 40, 36, 36, 35, 33, 32, 35, 36, 46, 50, 53, 53, 58, 54, 46, 43, 51, 53, 52, 45, 40, 39, 37, 46, 45, 54, 53, 49, 44, 42, 48, 43, 44, 38, 41, 41, 39, 42, 49, 51, 43, 39, 39, 45, 40, 40, 40, 38, 43, 47, 47, 48, 53, 57, 55, 50, 48, 51, 48, 46, 39, 42, 43, 50, 48, 52, 45, 44, 38, 43, 43, 45, 41, 40, 38, 41, 39, 40, 45, 46, 39, 45, 41, 44, 43, 38, 42, 42, 44, 48, 39, 40, 38, 46, 44, 42, 36, 42, 42, 46, 40, 41, 48, 50, 52, 43, 45, 44, 45, 43, 42, 45, 45, 45, 40, 40, 40, 40, 45, 50, 45, 47, 42, 39, 37, 34, 42, 44, 42, 42, 39, 42, 34, 39, 36, 33, 42, 46, 49, 42, 35, 41, 44, 47, 41, 41, 42, 41, 40, 33, 41, 45, 50, 40, 32, 41, 42, 47, 46, 47, 52, 49, 43, 36, 41, 50, 46, 46, 42, 45, 38, 36, 34, 40, 38, 42, 41, 40, 33, 35, 40, 47, 42, 38, 43, 45, 54, 46, 40, 41, 48, 52, 41, 30, 48, 49, 55, 43, 50, 50, 48, 44, 36, 37, 37, 49, 45, 46, 43, 43, 35, 31, 36, 38, 39, 46, 48, 51, 43, 51, 50, 52, 43, 44, 50, 48, 48, 40, 37, 39, 47, 50, 41, 28, 43, 45, 53, 42, 52, 56, 47, 50, 43, 46, 44, 50, 50, 48, 42, 42, 41, 41, 48, 44, 46, 45, 44, 45, 35, 46, 48, 52, 44, 47, 52, 48, 45, 38, 38, 32, 40, 43, 42, 35, 44, 50, 51, 50, 50, 48, 38, 42, 38, 40, 42, 44, 42, 41, 40, 44, 39, 34, 35, 34, 37, 44, 47, 51, 44, 41, 39, 43, 47, 49, 46, 35, 34, 34, 37, 46, 46, 45, 36, 41, 42, 48, 50, 48, 44, 44, 48, 39, 34, 39, 37, 42, 37, 40, 38, 40, 38, 41, 42, 43, 48, 46, 44, 32, 27, 29, 36, 47, 48, 42, 41, 39, 43, 44, 47, 51, 49, 45, 42, 44, 48, 49, 46, 37, 41, 42, 44, 34, 37, 39, 39, 33, 32, 37, 39, 36, 31, 28, 35, 36, 46, 40, 45, 38, 38, 33, 42, 51, 52, 46, 48, 49, 47, 49, 56, 57, 54, 45, 44, 39, 38, 44, 41, 39]\n",
      "NC mean = 44.01194968553459\n",
      " step 0\n",
      "number of turtles in this cell  = 8\n",
      "number of turtles in this cell  = 6\n",
      "x = 2 y = 2\n",
      "number of turtles in this cell  = 1\n",
      "coordinates of neighbors inlcuding center = [(1, 1), (2, 1), (3, 1), (1, 2), (2, 2), (3, 2), (1, 3), (2, 3), (3, 3)]\n",
      "coordinates of neighbors = (1, 1)\n",
      "nof turtles = 3\n",
      "coordinates of neighbors = (2, 1)\n",
      "nof turtles = 5\n",
      "coordinates of neighbors = (3, 1)\n",
      "nof turtles = 2\n",
      "coordinates of neighbors = (1, 2)\n",
      "nof turtles = 6\n",
      "coordinates of neighbors = (2, 2)\n",
      "nof turtles = 1\n",
      "coordinates of neighbors = (3, 2)\n",
      "nof turtles = 3\n",
      "coordinates of neighbors = (1, 3)\n",
      "nof turtles = 3\n",
      "coordinates of neighbors = (2, 3)\n",
      "nof turtles = 6\n",
      "coordinates of neighbors = (3, 3)\n",
      "nof turtles = 4\n",
      "nof turtles in cell and neighbors = 33\n",
      "NC = [46, 48, 44, 38, 33, 35, 38, 42, 36, 36, 36, 41, 43, 41, 42, 45, 44, 46, 42, 47, 43, 44, 40, 42, 48, 54, 59, 50, 47, 50, 59, 57, 57, 51, 52, 39, 40, 41, 46, 45, 46, 43, 34, 32, 36, 39, 40, 44, 41, 38, 39, 46, 50, 43, 39, 44, 50, 45, 35, 41, 40, 43, 38, 42, 43, 43, 49, 48, 47, 45, 53, 59, 63, 52, 43, 35, 40, 40, 38, 44, 44, 42, 32, 32, 34, 41, 43, 42, 39, 40, 50, 55, 59, 47, 49, 51, 56, 49, 35, 43, 42, 48, 48, 46, 44, 32, 38, 39, 37, 38, 50, 62, 66, 58, 53, 50, 47, 48, 44, 50, 41, 41, 35, 33, 41, 48, 46, 39, 37, 39, 47, 45, 51, 48, 49, 47, 46, 44, 37, 40, 41, 46, 46, 46, 41, 34, 35, 36, 37, 34, 45, 59, 64, 64, 53, 53, 48, 47, 41, 42, 42, 40, 35, 32, 34, 40, 40, 36, 35, 38, 39, 38, 43, 49, 49, 48, 48, 47, 45, 43, 50, 48, 51, 47, 43, 37, 32, 32, 31, 36, 48, 57, 61, 65, 65, 64, 53, 46, 44, 44, 47, 37, 34, 31, 34, 44, 38, 45, 44, 48, 37, 33, 32, 43, 37, 42, 40, 41, 37, 35, 46, 52, 49, 51, 44, 47, 36, 38, 31, 40, 45, 58, 60, 61, 50, 45, 43, 46, 52, 45, 53, 37, 32, 30, 32, 42, 40, 53, 52, 50, 39, 40, 46, 46, 38, 40, 44, 40, 38, 36, 49, 53, 52, 49, 43, 39, 39, 40, 38, 41, 45, 54, 54, 50, 46, 47, 49, 57, 54, 51, 42, 40, 40, 36, 44, 40, 54, 51, 51, 46, 47, 55, 46, 40, 34, 40, 37, 34, 29, 35, 43, 46, 49, 42, 34, 37, 41, 39, 38, 41, 44, 46, 41, 37, 38, 42, 54, 48, 50, 51, 43, 40, 31, 37, 40, 44, 42, 39, 45, 50, 62, 48, 44, 32, 37, 33, 38, 38, 41, 39, 44, 48, 46, 32, 30, 32, 41, 38, 39, 40, 44, 47, 47, 43, 42, 36, 42, 50, 52, 50, 41, 34, 38, 46, 46, 40, 37, 44, 50, 52, 40, 35, 34, 39, 45, 47, 51, 46, 41, 45, 51, 48, 39, 36, 39, 40, 39, 39, 39, 42, 44, 44, 36, 36, 35, 41, 40, 50, 47, 49, 41, 40, 45, 58, 54, 43, 36, 40, 46, 45, 35, 32, 34, 36, 45, 51, 63, 64, 56, 54, 46, 42, 34, 37, 44, 46, 51, 52, 54, 49, 38, 37, 34, 39, 39, 47, 46, 48, 43, 50, 47, 51, 48, 51, 44, 39, 39, 45, 47, 43, 35, 35, 36, 36, 46, 53, 64, 63, 58, 51, 37, 28, 30, 39, 53, 54, 57, 54, 46, 47, 36, 32, 34, 35, 45, 47, 46, 52, 52, 54, 51, 49, 46, 35, 35, 39, 39, 39, 39, 42, 36, 32, 37, 46, 53, 59, 53, 46, 31, 27, 33, 36, 48, 47, 54, 47, 40, 43, 40, 49, 38, 45, 41, 46, 46, 50, 56, 49, 51, 49, 47, 39, 30, 30, 34, 41, 43, 41, 44, 43, 39, 35, 38, 45, 45, 45, 40, 35, 30, 27, 38, 39, 50, 44, 50, 39, 34, 37, 47, 40, 46, 46, 48, 53, 51, 53, 51, 46, 48, 49, 49, 38, 34, 32, 38, 43, 45, 44, 39, 37, 36, 38, 40, 40, 46, 41, 38, 35, 38, 47, 45, 48, 40, 42, 38, 37, 39, 41, 50, 47, 57, 58, 62, 54, 50, 48, 46, 46, 51, 48, 35, 28, 39, 45, 54, 49, 49, 43, 43, 40, 38, 38, 37, 43, 42, 42, 37, 39, 51, 51, 54, 43, 47, 46, 50, 48, 43, 38, 40, 47, 54, 60, 55, 43, 44, 44, 38, 39, 45, 45, 31, 41, 44, 48, 48, 46, 43, 45, 43, 39, 34, 47, 54, 56, 45, 42, 45, 55, 53, 47, 37, 38, 42, 48, 53, 53, 42, 45, 51, 56, 57, 44, 40, 46, 44, 43, 34, 35, 36, 35, 41, 51, 54, 52, 44, 46, 41, 47, 45, 43, 38, 41, 43, 43, 37, 39, 44, 51, 48, 42, 37, 40, 41, 44, 42, 46, 36, 45, 44, 46, 42, 40, 42, 40, 42, 39, 38, 37, 43, 45, 59, 55, 59, 47, 50, 47, 43, 47, 47, 48, 46, 53, 49, 45, 32, 37, 38, 40, 43, 40, 42, 39, 41, 41, 38, 47, 46, 58, 52, 47, 42, 37, 40, 43, 48, 47, 40, 38, 46, 50, 58, 53, 59, 49, 44, 41, 44, 48, 50, 50, 52, 49, 43, 38, 32, 34, 34, 33, 35, 41, 46, 45, 45, 51, 47, 52, 48, 56, 48, 42, 40, 37, 39, 41, 47, 51, 49, 51, 54, 54, 51, 45, 46, 41, 44, 40, 45, 41, 45, 45, 52, 57, 57, 57, 45, 40, 35, 37, 39, 43, 46, 47, 54, 60, 57, 54, 48, 57, 52, 46, 43, 37, 36, 39, 45, 50, 47, 44, 46, 43, 39, 37, 46, 47, 48, 38, 44, 39, 48, 46, 50, 49, 53, 52, 47, 46, 48, 49, 44, 46, 43, 45, 47, 53, 51, 47, 43, 50, 45, 41, 39, 38, 41, 34, 40, 44, 49, 43, 48, 42, 45, 43, 49, 48, 54, 48, 52, 44, 51, 46, 47, 40, 49, 52, 54, 51, 52, 58, 56, 51, 44, 44, 51, 47, 43, 33, 38, 45, 39, 37, 41, 45, 32, 23, 30, 30, 37, 31, 42, 40, 46, 43, 51, 53, 61, 52, 54, 48, 54, 47, 45, 37, 46, 45, 50, 47, 47, 53, 48, 49, 37, 39, 36, 42, 39, 36, 35, 35, 31, 32, 39, 40, 27, 30, 31, 41, 39, 48, 49, 57, 53, 45, 47, 52, 55, 53, 46, 47, 41, 43, 40, 49, 49, 53, 47, 45, 47, 40, 46, 42, 48, 44, 48, 46, 40, 35, 31, 31, 37, 46, 44, 40, 42, 44, 42, 42, 44, 49, 55, 58, 56, 47, 55, 58, 63, 54, 48, 43, 38, 43, 44, 52, 45, 49, 48, 51, 50, 37, 41, 40, 49, 44, 50, 52, 49, 39, 28, 31, 33, 41, 38, 56, 61, 56, 49, 47, 48, 50, 55, 63, 63, 52, 52, 52, 62, 55, 53, 45, 38, 39, 38, 49, 45, 48, 52, 54, 54, 44, 46, 53, 54, 53, 52, 54, 52, 42, 36, 34, 34, 38, 45, 52, 58, 55, 49, 43, 46, 50, 58, 56, 55, 46, 50, 52, 58, 54, 53, 52, 45, 31, 43, 40, 45, 46, 48, 52, 45, 42, 52, 48, 53, 43, 49, 48, 40, 30, 28, 27, 33, 40, 44, 46, 44, 41, 42, 42, 45, 49, 49, 46, 45, 46, 48, 46, 43, 46, 52, 48, 40, 28, 38, 39, 39, 43, 45, 57, 47, 46, 56, 54, 57, 41, 41, 44, 37, 38, 38, 43, 41, 41, 35, 34, 36, 36, 38, 38, 42, 48, 48, 48, 53, 54, 52, 45, 47, 47, 54, 50, 47, 37, 39, 36, 35, 43, 52, 62, 45, 43, 46, 50, 53, 39, 44, 39, 34, 31, 38, 49, 46, 38, 32, 34, 38, 35, 38, 34, 38, 38, 45, 46, 57, 56, 57, 48, 49, 48, 49, 43, 39, 40, 43, 44, 42, 48, 50, 55, 39, 39, 38, 47, 50, 44, 47, 41, 37, 37, 42, 52, 44, 36, 32, 32, 35, 35, 37, 31, 32, 39, 46, 54, 53, 58, 57, 54, 48, 46, 44, 50, 43, 44, 40, 46, 50, 51, 48, 45, 36, 36, 35, 40, 41, 40, 45, 39, 37, 35, 36, 43, 38, 37, 40, 40, 37, 38, 38, 35, 36, 38, 38, 43, 36, 48, 47, 49, 41, 43, 53, 43, 40, 31, 42, 51, 47, 37, 33, 42, 46, 45, 41, 41, 45, 46, 45, 44, 42, 47, 44, 46, 42, 47, 43, 39, 43, 39, 41, 40, 47, 44, 44, 33, 40, 35, 44, 33, 37, 33, 49, 42, 37, 26, 40, 47, 46, 40, 38, 48, 48, 47, 39, 37, 51, 49, 47, 42, 45, 55, 53, 57, 53, 43, 46, 41, 43, 38, 48, 50, 51, 45, 41, 39, 40, 36, 37, 35, 36, 36, 39, 36, 38, 34, 46, 42, 41, 40, 41, 54, 53, 50, 38, 39, 54, 51, 42, 40, 45, 60, 59, 59, 51, 41, 48, 47, 51, 44, 49, 45, 48, 47, 44, 43, 36, 38, 40, 44, 42, 38, 39, 36, 46, 45, 53, 44, 40, 43, 45, 51, 46, 39, 35, 41, 53, 50, 36, 35, 42, 51, 54, 47, 47, 47, 50, 40, 42, 38, 46, 43, 49, 45, 46, 39, 35, 37, 32, 42, 41, 48, 50, 47, 55, 49, 53, 45, 43, 46, 49, 51, 44, 37, 33, 41, 41, 43, 30, 35, 39, 47, 48, 44, 49, 45, 46, 38, 41, 36, 39, 37, 50, 46, 44, 32, 34, 39, 38, 41, 47, 50, 47, 46, 40, 43, 41, 42, 44, 47, 46, 39, 38, 39, 44, 38, 40, 38, 42, 38, 44, 43, 43, 45, 46, 46, 39, 38, 34, 42, 43, 53, 44, 42, 32, 35, 38, 37, 38, 36, 38, 49, 50, 46, 37, 40, 39, 44, 51, 58, 57, 43, 43, 42, 47, 39, 40, 41, 47, 39, 44, 46, 53, 48, 39, 45, 45, 41, 37, 39, 41, 49, 39, 36, 30, 38, 45, 41, 40, 40, 45, 45, 39, 34, 33, 32, 38, 47, 57, 63, 52, 55, 53, 56, 48, 43, 45, 46, 36, 40, 42, 45, 39]\n",
      "NC mean = 44.029615626969125\n",
      "number of turtles in this cell  = 3\n",
      "number of turtles in this cell  = 5\n",
      "x = 2 y = 2\n",
      "number of turtles in this cell  = 3\n",
      "coordinates of neighbors inlcuding center = [(1, 1), (2, 1), (3, 1), (1, 2), (2, 2), (3, 2), (1, 3), (2, 3), (3, 3)]\n",
      "coordinates of neighbors = (1, 1)\n",
      "nof turtles = 8\n",
      "coordinates of neighbors = (2, 1)\n",
      "nof turtles = 4\n",
      "coordinates of neighbors = (3, 1)\n",
      "nof turtles = 4\n",
      "coordinates of neighbors = (1, 2)\n",
      "nof turtles = 5\n",
      "coordinates of neighbors = (2, 2)\n",
      "nof turtles = 3\n",
      "coordinates of neighbors = (3, 2)\n",
      "nof turtles = 3\n",
      "coordinates of neighbors = (1, 3)\n",
      "nof turtles = 4\n",
      "coordinates of neighbors = (2, 3)\n",
      "nof turtles = 5\n",
      "coordinates of neighbors = (3, 3)\n",
      "nof turtles = 6\n",
      "nof turtles in cell and neighbors = 42\n",
      "NC = [49, 48, 49, 35, 37, 32, 38, 35, 44, 44, 48, 40, 42, 33, 41, 39, 48, 50, 51, 43, 37, 40, 48, 47, 46, 46, 49, 47, 46, 52, 61, 58, 48, 39, 38, 38, 41, 40, 43, 41, 51, 43, 45, 32, 38, 33, 36, 31, 39, 37, 45, 41, 49, 38, 38, 34, 41, 47, 49, 39, 37, 38, 51, 51, 43, 42, 43, 49, 47, 52, 56, 62, 57, 54, 46, 41, 41, 42, 47, 43, 44, 41, 41, 36, 43, 41, 42, 32, 36, 35, 48, 48, 52, 43, 42, 44, 44, 45, 42, 38, 40, 40, 46, 46, 40, 40, 33, 38, 33, 44, 50, 61, 59, 59, 52, 51, 43, 45, 42, 43, 38, 40, 38, 39, 43, 46, 44, 38, 36, 39, 43, 43, 47, 49, 50, 51, 49, 46, 41, 36, 38, 45, 48, 49, 40, 33, 31, 38, 41, 45, 55, 68, 77, 68, 57, 45, 47, 41, 42, 40, 40, 36, 33, 34, 42, 46, 46, 43, 44, 43, 41, 45, 51, 53, 56, 50, 46, 36, 36, 41, 50, 49, 43, 39, 34, 33, 38, 40, 42, 47, 55, 60, 54, 56, 45, 50, 40, 45, 47, 39, 35, 29, 35, 39, 44, 43, 41, 43, 38, 33, 38, 46, 49, 47, 42, 40, 36, 36, 42, 50, 52, 47, 43, 39, 42, 41, 45, 44, 41, 45, 49, 56, 49, 53, 45, 50, 46, 51, 55, 45, 39, 27, 32, 35, 49, 48, 51, 45, 45, 41, 43, 46, 41, 43, 37, 41, 38, 43, 48, 52, 50, 41, 40, 41, 44, 43, 40, 44, 40, 47, 42, 46, 38, 49, 43, 48, 45, 54, 54, 44, 39, 28, 42, 40, 53, 42, 45, 41, 49, 44, 43, 43, 41, 41, 34, 37, 39, 43, 49, 48, 51, 52, 50, 43, 33, 35, 34, 42, 43, 49, 47, 51, 46, 44, 40, 44, 48, 54, 48, 45, 44, 33, 41, 42, 50, 44, 43, 46, 53, 52, 48, 44, 43, 43, 35, 35, 35, 45, 53, 53, 51, 47, 43, 36, 34, 36, 40, 41, 41, 41, 47, 51, 47, 40, 38, 41, 42, 42, 50, 47, 46, 36, 40, 44, 48, 44, 37, 39, 49, 47, 47, 36, 43, 40, 34, 35, 37, 48, 50, 52, 51, 54, 46, 37, 29, 33, 43, 45, 45, 38, 45, 48, 47, 40, 38, 38, 42, 41, 47, 52, 51, 43, 38, 47, 49, 49, 39, 41, 46, 47, 44, 32, 38, 38, 37, 42, 44, 57, 50, 54, 46, 43, 34, 29, 33, 35, 46, 46, 48, 36, 39, 40, 41, 36, 35, 36, 40, 37, 48, 52, 47, 43, 38, 50, 50, 48, 38, 36, 40, 39, 37, 31, 38, 36, 37, 44, 51, 58, 51, 55, 48, 45, 36, 33, 34, 43, 52, 55, 55, 47, 38, 34, 34, 34, 40, 46, 45, 46, 46, 48, 52, 50, 54, 45, 43, 34, 37, 37, 40, 36, 37, 39, 39, 41, 45, 52, 51, 51, 43, 34, 32, 32, 38, 44, 48, 47, 47, 44, 38, 42, 36, 38, 33, 42, 50, 47, 52, 45, 45, 50, 50, 49, 41, 40, 37, 35, 36, 36, 35, 41, 42, 38, 34, 35, 42, 49, 53, 54, 42, 35, 31, 40, 46, 52, 47, 44, 44, 45, 39, 45, 38, 47, 38, 45, 48, 50, 50, 43, 48, 53, 53, 50, 45, 43, 39, 33, 39, 45, 48, 48, 43, 41, 39, 37, 38, 40, 38, 48, 40, 43, 36, 44, 49, 47, 39, 34, 37, 40, 41, 49, 47, 52, 47, 48, 52, 45, 52, 53, 48, 51, 47, 50, 48, 43, 42, 35, 38, 41, 46, 47, 43, 39, 40, 36, 37, 40, 36, 44, 53, 40, 48, 50, 49, 41, 39, 46, 46, 49, 47, 45, 47, 52, 56, 55, 50, 50, 57, 52, 55, 46, 48, 42, 38, 39, 43, 46, 52, 52, 48, 43, 43, 46, 38, 35, 38, 35, 43, 42, 52, 50, 47, 46, 42, 42, 38, 44, 49, 54, 48, 42, 44, 50, 58, 58, 55, 45, 52, 46, 51, 42, 43, 44, 44, 57, 58, 58, 53, 48, 47, 41, 46, 44, 43, 43, 49, 45, 35, 38, 42, 51, 44, 44, 42, 41, 39, 39, 42, 47, 43, 41, 42, 46, 54, 53, 53, 38, 38, 40, 39, 38, 33, 38, 44, 54, 58, 53, 55, 52, 51, 44, 47, 48, 47, 44, 45, 46, 34, 36, 33, 42, 35, 38, 41, 41, 39, 34, 45, 52, 54, 54, 51, 45, 44, 42, 42, 35, 34, 42, 43, 45, 39, 44, 53, 59, 60, 49, 45, 40, 38, 36, 43, 48, 48, 50, 49, 51, 40, 42, 35, 36, 32, 38, 40, 40, 46, 45, 53, 52, 52, 59, 56, 56, 43, 39, 35, 38, 44, 53, 48, 45, 35, 35, 43, 43, 51, 44, 51, 42, 39, 40, 46, 48, 44, 46, 52, 52, 46, 38, 34, 34, 35, 36, 42, 46, 52, 55, 59, 57, 60, 57, 52, 42, 32, 33, 39, 43, 50, 50, 48, 49, 46, 46, 41, 50, 53, 59, 41, 38, 32, 48, 50, 50, 46, 50, 52, 58, 58, 55, 51, 46, 46, 40, 45, 52, 61, 58, 49, 43, 42, 44, 43, 41, 39, 37, 38, 37, 41, 42, 39, 43, 41, 44, 39, 45, 51, 61, 50, 53, 46, 58, 49, 52, 41, 51, 48, 58, 54, 56, 57, 50, 48, 40, 46, 43, 46, 40, 40, 40, 38, 35, 29, 33, 38, 39, 31, 27, 28, 34, 38, 47, 41, 43, 39, 45, 52, 54, 49, 48, 49, 54, 43, 45, 40, 49, 40, 50, 51, 59, 58, 53, 51, 44, 47, 49, 49, 40, 36, 38, 44, 37, 33, 33, 39, 38, 25, 28, 32, 36, 39, 39, 39, 43, 45, 46, 48, 44, 48, 49, 60, 56, 45, 40, 37, 47, 39, 43, 37, 47, 49, 47, 42, 37, 41, 40, 41, 34, 37, 42, 48, 42, 33, 40, 37, 39, 31, 37, 40, 40, 46, 47, 51, 47, 55, 56, 58, 50, 55, 53, 60, 52, 43, 35, 34, 43, 45, 47, 43, 45, 43, 44, 42, 49, 51, 53, 47, 41, 45, 49, 55, 46, 35, 40, 38, 41, 43, 49, 50, 44, 51, 52, 60, 56, 60, 61, 57, 48, 53, 54, 65, 55, 50, 37, 34, 43, 50, 53, 51, 53, 50, 42, 38, 43, 47, 49, 47, 47, 49, 51, 48, 38, 28, 39, 41, 48, 53, 54, 45, 38, 44, 50, 58, 56, 61, 61, 58, 50, 55, 51, 55, 48, 50, 41, 39, 42, 48, 50, 50, 54, 52, 50, 44, 46, 50, 50, 48, 40, 43, 47, 48, 40, 34, 41, 50, 51, 51, 39, 36, 42, 47, 50, 50, 51, 52, 51, 42, 45, 38, 49, 46, 54, 48, 43, 38, 35, 40, 43, 56, 60, 55, 40, 31, 43, 48, 53, 43, 47, 49, 46, 37, 37, 37, 43, 48, 43, 38, 30, 29, 36, 37, 46, 42, 48, 46, 52, 47, 44, 45, 40, 47, 46, 44, 39, 34, 33, 37, 51, 59, 54, 39, 31, 41, 49, 51, 41, 41, 40, 40, 38, 43, 38, 41, 41, 32, 33, 31, 31, 33, 33, 39, 37, 42, 42, 49, 48, 56, 54, 52, 45, 46, 50, 50, 41, 34, 35, 44, 57, 62, 53, 40, 31, 38, 48, 49, 48, 46, 43, 41, 35, 39, 39, 39, 38, 27, 29, 31, 32, 33, 32, 36, 35, 44, 44, 53, 53, 61, 58, 49, 42, 39, 45, 49, 45, 38, 36, 44, 53, 51, 46, 38, 35, 38, 48, 51, 48, 44, 41, 42, 42, 39, 42, 34, 35, 31, 38, 36, 39, 34, 36, 36, 41, 45, 45, 50, 51, 53, 49, 46, 45, 48, 50, 49, 43, 35, 38, 47, 50, 50, 42, 42, 40, 46, 48, 44, 43, 43, 46, 45, 50, 44, 52, 37, 44, 38, 35, 37, 46, 41, 41, 39, 47, 50, 47, 48, 45, 44, 40, 35, 39, 43, 46, 43, 40, 36, 37, 46, 45, 43, 36, 41, 51, 56, 55, 47, 45, 47, 47, 43, 50, 49, 55, 46, 47, 46, 43, 46, 45, 43, 45, 46, 47, 41, 44, 42, 44, 38, 42, 37, 36, 40, 38, 38, 32, 33, 38, 43, 43, 37, 33, 37, 48, 47, 43, 40, 46, 49, 44, 39, 42, 46, 52, 52, 52, 44, 39, 45, 42, 42, 46, 51, 46, 38, 37, 34, 35, 30, 42, 36, 36, 34, 37, 33, 39, 42, 45, 46, 40, 40, 44, 49, 40, 34, 38, 45, 46, 38, 33, 36, 42, 47, 52, 47, 54, 50, 51, 40, 43, 44, 46, 34, 34, 36, 36, 32, 43, 43, 42, 41, 40, 46, 43, 42, 41, 42, 43, 42, 45, 48, 43, 35, 31, 38, 46, 44, 36, 32, 33, 40, 45, 50, 50, 56, 50, 50, 41, 42, 40, 43, 39, 46, 42, 42, 35, 33, 39, 43, 44, 45, 45, 51, 46, 42, 38, 44, 45, 50, 52, 56, 52, 46, 40, 36, 42, 41, 39, 35, 37, 44, 46, 49, 48, 52, 53, 50, 42, 40, 39, 38, 38, 48, 49, 46, 36, 35, 39, 49, 49, 48, 49, 53, 48, 37, 38, 39, 42, 46, 52, 55, 48, 49, 47, 48, 48, 49, 46, 45, 42, 46, 43, 44, 43, 52, 51, 51, 38, 38, 35, 41, 45, 55, 53, 47, 36, 37, 35, 44, 40, 48, 49, 52, 42, 33, 39, 44, 44, 44, 45, 52, 48, 53, 51, 55, 53, 53, 48, 47, 42, 44, 39, 43, 42]\n",
      "NC mean = 44.03584905660377\n",
      "number of turtles in this cell  = 4\n",
      "number of turtles in this cell  = 4\n",
      "x = 2 y = 2\n",
      "number of turtles in this cell  = 4\n",
      "coordinates of neighbors inlcuding center = [(1, 1), (2, 1), (3, 1), (1, 2), (2, 2), (3, 2), (1, 3), (2, 3), (3, 3)]\n",
      "coordinates of neighbors = (1, 1)\n",
      "nof turtles = 6\n",
      "coordinates of neighbors = (2, 1)\n",
      "nof turtles = 2\n",
      "coordinates of neighbors = (3, 1)\n",
      "nof turtles = 2\n",
      "coordinates of neighbors = (1, 2)\n",
      "nof turtles = 4\n",
      "coordinates of neighbors = (2, 2)\n",
      "nof turtles = 4\n",
      "coordinates of neighbors = (3, 2)\n",
      "nof turtles = 4\n",
      "coordinates of neighbors = (1, 3)\n",
      "nof turtles = 3\n",
      "coordinates of neighbors = (2, 3)\n",
      "nof turtles = 6\n",
      "coordinates of neighbors = (3, 3)\n",
      "nof turtles = 5\n",
      "nof turtles in cell and neighbors = 36\n",
      "NC = [55, 54, 43, 39, 31, 37, 37, 50, 48, 52, 46, 45, 40, 35, 39, 42, 49, 46, 47, 44, 44, 43, 47, 51, 44, 42, 44, 55, 57, 59, 58, 59, 51, 42, 38, 39, 38, 31, 35, 46, 50, 46, 36, 38, 37, 42, 39, 43, 37, 44, 45, 52, 49, 42, 44, 46, 51, 47, 41, 34, 30, 40, 49, 54, 40, 39, 40, 42, 44, 53, 64, 63, 50, 43, 41, 44, 41, 36, 40, 47, 50, 40, 35, 33, 33, 35, 33, 39, 33, 40, 36, 44, 42, 39, 43, 51, 55, 48, 37, 32, 29, 44, 49, 41, 35, 34, 37, 42, 44, 49, 55, 54, 57, 56, 56, 47, 40, 48, 52, 45, 37, 38, 38, 38, 44, 39, 42, 36, 45, 44, 44, 41, 39, 48, 51, 51, 40, 32, 33, 33, 40, 41, 45, 44, 41, 38, 33, 31, 37, 43, 51, 50, 64, 68, 69, 53, 48, 51, 49, 48, 38, 40, 40, 42, 50, 44, 45, 40, 49, 44, 42, 39, 46, 56, 54, 48, 36, 33, 35, 43, 47, 52, 45, 45, 36, 38, 39, 40, 39, 40, 48, 52, 62, 67, 63, 48, 41, 50, 50, 51, 45, 41, 32, 38, 46, 46, 46, 51, 54, 50, 44, 44, 48, 54, 47, 39, 28, 29, 33, 46, 49, 56, 46, 43, 36, 36, 38, 36, 36, 40, 45, 49, 53, 53, 52, 43, 46, 47, 47, 48, 50, 46, 41, 48, 47, 43, 42, 46, 42, 47, 43, 48, 51, 50, 41, 29, 31, 34, 46, 49, 58, 50, 42, 31, 36, 43, 49, 43, 47, 49, 53, 46, 50, 42, 38, 32, 36, 48, 51, 46, 33, 34, 44, 47, 48, 40, 48, 46, 52, 40, 40, 48, 46, 36, 37, 41, 48, 46, 50, 49, 43, 36, 35, 39, 44, 42, 45, 44, 50, 46, 50, 43, 39, 37, 37, 44, 48, 46, 47, 41, 41, 43, 45, 46, 35, 42, 43, 51, 43, 39, 42, 48, 45, 34, 37, 45, 51, 51, 47, 52, 45, 39, 30, 36, 45, 50, 43, 37, 39, 43, 55, 50, 46, 33, 37, 43, 49, 42, 43, 41, 47, 45, 49, 46, 36, 46, 43, 52, 43, 45, 41, 44, 37, 35, 39, 50, 53, 48, 40, 41, 38, 36, 31, 34, 40, 45, 40, 35, 35, 39, 47, 47, 48, 46, 50, 52, 46, 45, 47, 43, 50, 43, 45, 42, 40, 41, 36, 40, 39, 41, 38, 36, 30, 29, 36, 52, 56, 56, 43, 46, 42, 39, 40, 44, 47, 49, 40, 41, 40, 41, 42, 35, 38, 38, 39, 41, 45, 45, 46, 48, 56, 49, 45, 36, 37, 43, 41, 42, 33, 37, 38, 37, 32, 34, 44, 56, 58, 54, 42, 38, 36, 35, 42, 45, 54, 50, 43, 42, 43, 42, 40, 40, 40, 42, 42, 45, 49, 51, 46, 48, 38, 36, 32, 41, 38, 38, 35, 38, 37, 40, 38, 41, 42, 49, 54, 52, 48, 39, 39, 40, 38, 44, 49, 55, 49, 37, 36, 43, 47, 45, 32, 38, 37, 39, 36, 47, 50, 49, 46, 48, 38, 37, 31, 36, 36, 37, 39, 38, 41, 43, 40, 40, 43, 56, 56, 52, 39, 34, 31, 36, 36, 37, 38, 50, 44, 40, 31, 41, 44, 48, 45, 53, 49, 46, 43, 49, 52, 53, 47, 52, 41, 40, 33, 37, 39, 38, 42, 42, 46, 46, 42, 41, 41, 47, 44, 42, 35, 35, 32, 40, 42, 46, 44, 44, 38, 40, 39, 48, 44, 44, 40, 50, 54, 51, 47, 51, 49, 46, 45, 53, 46, 44, 36, 39, 41, 49, 51, 47, 46, 42, 41, 38, 40, 44, 41, 42, 44, 45, 37, 37, 37, 42, 39, 42, 39, 43, 44, 55, 50, 47, 43, 51, 53, 49, 50, 52, 54, 53, 53, 57, 48, 45, 39, 47, 46, 49, 46, 46, 45, 39, 38, 43, 42, 36, 37, 45, 51, 46, 43, 46, 51, 46, 41, 35, 40, 47, 53, 51, 47, 42, 48, 50, 54, 52, 53, 50, 43, 44, 47, 44, 40, 42, 53, 50, 53, 53, 55, 49, 39, 45, 47, 49, 46, 38, 40, 47, 51, 47, 43, 43, 46, 42, 46, 40, 46, 45, 50, 48, 45, 44, 45, 45, 47, 50, 48, 49, 41, 43, 42, 44, 42, 52, 66, 66, 58, 48, 46, 41, 43, 51, 53, 45, 40, 36, 45, 48, 47, 45, 48, 55, 53, 42, 41, 33, 46, 42, 52, 47, 50, 48, 46, 48, 47, 49, 42, 43, 37, 41, 39, 44, 39, 52, 63, 67, 62, 52, 47, 38, 41, 46, 52, 45, 43, 40, 48, 47, 42, 38, 42, 46, 45, 39, 39, 38, 47, 41, 49, 49, 58, 59, 51, 50, 41, 42, 36, 46, 39, 44, 38, 44, 49, 52, 58, 53, 57, 49, 43, 35, 36, 40, 40, 39, 39, 42, 50, 50, 49, 45, 46, 46, 43, 39, 35, 43, 46, 46, 49, 57, 64, 57, 46, 42, 36, 37, 36, 44, 47, 50, 43, 46, 51, 48, 45, 38, 48, 53, 49, 45, 42, 50, 49, 45, 48, 46, 52, 43, 48, 46, 44, 40, 40, 44, 41, 49, 45, 48, 38, 48, 52, 52, 44, 36, 37, 32, 34, 38, 40, 42, 43, 53, 45, 43, 35, 47, 57, 57, 54, 48, 51, 47, 41, 43, 50, 43, 54, 57, 58, 51, 47, 49, 46, 53, 53, 56, 48, 46, 44, 40, 40, 33, 37, 30, 36, 30, 36, 39, 45, 42, 43, 42, 45, 47, 50, 56, 52, 58, 52, 56, 48, 40, 42, 38, 46, 39, 46, 52, 56, 55, 52, 47, 42, 41, 47, 47, 46, 41, 45, 39, 43, 36, 44, 35, 36, 33, 34, 39, 45, 42, 39, 43, 44, 50, 48, 53, 52, 57, 52, 47, 38, 35, 40, 44, 49, 44, 46, 52, 57, 56, 55, 47, 44, 41, 51, 51, 51, 46, 49, 39, 38, 30, 36, 37, 38, 39, 37, 41, 46, 49, 49, 49, 47, 51, 48, 50, 48, 57, 56, 55, 38, 34, 32, 38, 44, 42, 45, 49, 50, 47, 48, 43, 42, 36, 39, 40, 39, 41, 44, 35, 31, 38, 40, 41, 41, 41, 40, 41, 52, 54, 61, 53, 57, 53, 53, 53, 53, 59, 58, 48, 39, 47, 55, 50, 50, 53, 49, 47, 44, 48, 46, 44, 48, 49, 42, 39, 36, 37, 30, 33, 37, 41, 50, 48, 40, 36, 39, 50, 55, 61, 61, 61, 54, 49, 44, 41, 47, 50, 47, 38, 39, 39, 50, 48, 48, 51, 47, 47, 38, 40, 39, 42, 47, 47, 40, 37, 36, 40, 31, 43, 50, 55, 53, 44, 36, 33, 34, 39, 52, 59, 63, 57, 52, 48, 44, 46, 48, 50, 44, 43, 39, 46, 48, 47, 51, 48, 48, 38, 38, 41, 54, 57, 59, 43, 41, 35, 41, 29, 37, 41, 54, 50, 48, 42, 36, 39, 32, 38, 41, 48, 50, 49, 51, 52, 49, 48, 46, 44, 42, 41, 36, 31, 37, 41, 50, 46, 45, 38, 37, 39, 51, 51, 57, 45, 44, 41, 44, 40, 39, 41, 49, 40, 35, 37, 33, 33, 27, 33, 40, 39, 45, 42, 52, 53, 57, 53, 52, 41, 41, 33, 40, 36, 44, 49, 56, 53, 46, 39, 42, 40, 53, 47, 53, 43, 42, 38, 39, 39, 36, 37, 39, 37, 30, 37, 32, 34, 34, 36, 42, 40, 45, 46, 51, 51, 49, 49, 53, 48, 43, 38, 43, 41, 45, 49, 52, 50, 47, 46, 43, 39, 44, 45, 43, 42, 42, 45, 43, 47, 39, 41, 31, 36, 32, 37, 39, 36, 39, 42, 45, 46, 45, 47, 42, 38, 39, 39, 45, 42, 39, 37, 43, 43, 44, 45, 50, 54, 49, 47, 42, 46, 47, 48, 42, 43, 43, 50, 45, 48, 39, 45, 37, 33, 37, 40, 45, 40, 40, 41, 40, 46, 39, 47, 39, 41, 40, 42, 46, 44, 42, 43, 38, 33, 33, 45, 49, 49, 39, 41, 38, 48, 45, 47, 40, 46, 46, 50, 44, 51, 53, 53, 42, 36, 37, 39, 46, 46, 44, 51, 53, 53, 39, 36, 32, 37, 47, 44, 45, 34, 37, 34, 33, 32, 38, 48, 50, 49, 41, 40, 41, 46, 44, 40, 42, 49, 46, 47, 45, 50, 55, 50, 51, 43, 47, 45, 41, 43, 39, 47, 48, 48, 37, 33, 33, 38, 51, 46, 56, 42, 44, 33, 32, 32, 37, 46, 46, 44, 37, 41, 41, 42, 40, 36, 43, 49, 49, 37, 36, 40, 56, 47, 52, 48, 46, 43, 39, 49, 43, 52, 48, 47, 39, 33, 32, 32, 46, 42, 52, 42, 49, 35, 40, 38, 47, 41, 40, 43, 48, 53, 45, 38, 38, 38, 47, 46, 43, 33, 39, 41, 47, 38, 49, 47, 45, 40, 42, 47, 41, 44, 36, 39, 40, 37, 37, 30, 41, 38, 51, 44, 48, 36, 45, 42, 44, 37, 39, 45, 50, 56, 49, 41, 37, 40, 43, 47, 46, 41, 39, 37, 43, 44, 52, 47, 44, 42, 43, 41, 36, 37, 40, 46, 50, 42, 37, 29, 35, 38, 45, 45, 45, 42, 51, 50, 47, 37, 39, 45, 49, 53, 54, 46, 41, 36, 39, 42, 43, 44, 44, 40, 38, 40, 47, 46, 50, 46, 47, 37, 42, 41, 49, 47, 54, 46, 42, 34, 37, 40, 45, 46, 43, 44, 47, 48, 43, 42, 45, 46, 48, 54, 58, 51, 51, 50, 52, 48, 46, 49, 44, 39, 34, 38, 45]\n",
      "NC mean = 44.04468219005664\n",
      "Done!\n"
     ]
    }
   ],
   "source": [
    "cft10k = run_turtles_calib(steps= 3, turtles=8000, i0=10, r0 = 3.5, nc=2.3, ti = 5, tr = 5, width=40, height=40, calib=True, prtl=PrtLvl.Concise, fprint=25)"
   ]
  },
  {
   "cell_type": "code",
   "execution_count": 424,
   "metadata": {},
   "outputs": [
    {
     "data": {
      "text/plain": [
       "89.0"
      ]
     },
     "execution_count": 424,
     "metadata": {},
     "output_type": "execute_result"
    }
   ],
   "source": [
    "NC10k = cft10k.mean().values[0]\n",
    "NC10k"
   ]
  },
  {
   "cell_type": "code",
   "execution_count": 419,
   "metadata": {},
   "outputs": [
    {
     "data": {
      "text/html": [
       "<div>\n",
       "<style scoped>\n",
       "    .dataframe tbody tr th:only-of-type {\n",
       "        vertical-align: middle;\n",
       "    }\n",
       "\n",
       "    .dataframe tbody tr th {\n",
       "        vertical-align: top;\n",
       "    }\n",
       "\n",
       "    .dataframe thead th {\n",
       "        text-align: right;\n",
       "    }\n",
       "</style>\n",
       "<table border=\"1\" class=\"dataframe\">\n",
       "  <thead>\n",
       "    <tr style=\"text-align: right;\">\n",
       "      <th></th>\n",
       "      <th>NumberOfneighbors</th>\n",
       "    </tr>\n",
       "  </thead>\n",
       "  <tbody>\n",
       "    <tr>\n",
       "      <th>0</th>\n",
       "      <td>89.0</td>\n",
       "    </tr>\n",
       "    <tr>\n",
       "      <th>1</th>\n",
       "      <td>89.0</td>\n",
       "    </tr>\n",
       "    <tr>\n",
       "      <th>2</th>\n",
       "      <td>89.0</td>\n",
       "    </tr>\n",
       "    <tr>\n",
       "      <th>3</th>\n",
       "      <td>89.0</td>\n",
       "    </tr>\n",
       "    <tr>\n",
       "      <th>4</th>\n",
       "      <td>89.0</td>\n",
       "    </tr>\n",
       "  </tbody>\n",
       "</table>\n",
       "</div>"
      ],
      "text/plain": [
       "   NumberOfneighbors\n",
       "0               89.0\n",
       "1               89.0\n",
       "2               89.0\n",
       "3               89.0\n",
       "4               89.0"
      ]
     },
     "execution_count": 419,
     "metadata": {},
     "output_type": "execute_result"
    }
   ],
   "source": [
    "cft10k.head()"
   ]
  },
  {
   "cell_type": "code",
   "execution_count": 420,
   "metadata": {},
   "outputs": [
    {
     "data": {
      "text/plain": [
       "[<matplotlib.lines.Line2D at 0x1233cbdd0>]"
      ]
     },
     "execution_count": 420,
     "metadata": {},
     "output_type": "execute_result"
    },
    {
     "data": {
      "image/png": "[encoded data removed]",
      "text/plain": [
       "<Figure size 720x576 with 1 Axes>"
      ]
     },
     "metadata": {
      "needs_background": "light"
     },
     "output_type": "display_data"
    }
   ],
   "source": [
    "plt.plot(cft10k.index, cft10k.NumberOfneighbors )"
   ]
  },
  {
   "cell_type": "code",
   "execution_count": null,
   "metadata": {},
   "outputs": [],
   "source": []
  },
  {
   "cell_type": "code",
   "execution_count": 381,
   "metadata": {},
   "outputs": [
    {
     "ename": "TypeError",
     "evalue": "Empty 'DataFrame': no numeric data to plot",
     "output_type": "error",
     "traceback": [
      "\u001b[0;31m---------------------------------------------------------------------------\u001b[0m",
      "\u001b[0;31mTypeError\u001b[0m                                 Traceback (most recent call last)",
      "\u001b[0;32m<ipython-input-381-7cde01fcb942>\u001b[0m in \u001b[0;36m<module>\u001b[0;34m\u001b[0m\n\u001b[0;32m----> 1\u001b[0;31m \u001b[0mcft10k\u001b[0m\u001b[0;34m.\u001b[0m\u001b[0mplot\u001b[0m\u001b[0;34m(\u001b[0m\u001b[0;34m\"NumberOfneighbors\"\u001b[0m\u001b[0;34m)\u001b[0m\u001b[0;34m\u001b[0m\u001b[0;34m\u001b[0m\u001b[0m\n\u001b[0m",
      "\u001b[0;32m~/miniconda/envs/IC-3.7-2018-11-14/lib/python3.7/site-packages/pandas/plotting/_core.py\u001b[0m in \u001b[0;36m__call__\u001b[0;34m(self, x, y, kind, ax, subplots, sharex, sharey, layout, figsize, use_index, title, grid, legend, style, logx, logy, loglog, xticks, yticks, xlim, ylim, rot, fontsize, colormap, table, yerr, xerr, secondary_y, sort_columns, **kwds)\u001b[0m\n\u001b[1;32m   2939\u001b[0m                           \u001b[0mfontsize\u001b[0m\u001b[0;34m=\u001b[0m\u001b[0mfontsize\u001b[0m\u001b[0;34m,\u001b[0m \u001b[0mcolormap\u001b[0m\u001b[0;34m=\u001b[0m\u001b[0mcolormap\u001b[0m\u001b[0;34m,\u001b[0m \u001b[0mtable\u001b[0m\u001b[0;34m=\u001b[0m\u001b[0mtable\u001b[0m\u001b[0;34m,\u001b[0m\u001b[0;34m\u001b[0m\u001b[0;34m\u001b[0m\u001b[0m\n\u001b[1;32m   2940\u001b[0m                           \u001b[0myerr\u001b[0m\u001b[0;34m=\u001b[0m\u001b[0myerr\u001b[0m\u001b[0;34m,\u001b[0m \u001b[0mxerr\u001b[0m\u001b[0;34m=\u001b[0m\u001b[0mxerr\u001b[0m\u001b[0;34m,\u001b[0m \u001b[0msecondary_y\u001b[0m\u001b[0;34m=\u001b[0m\u001b[0msecondary_y\u001b[0m\u001b[0;34m,\u001b[0m\u001b[0;34m\u001b[0m\u001b[0;34m\u001b[0m\u001b[0m\n\u001b[0;32m-> 2941\u001b[0;31m                           sort_columns=sort_columns, **kwds)\n\u001b[0m\u001b[1;32m   2942\u001b[0m     \u001b[0m__call__\u001b[0m\u001b[0;34m.\u001b[0m\u001b[0m__doc__\u001b[0m \u001b[0;34m=\u001b[0m \u001b[0mplot_frame\u001b[0m\u001b[0;34m.\u001b[0m\u001b[0m__doc__\u001b[0m\u001b[0;34m\u001b[0m\u001b[0;34m\u001b[0m\u001b[0m\n\u001b[1;32m   2943\u001b[0m \u001b[0;34m\u001b[0m\u001b[0m\n",
      "\u001b[0;32m~/miniconda/envs/IC-3.7-2018-11-14/lib/python3.7/site-packages/pandas/plotting/_core.py\u001b[0m in \u001b[0;36mplot_frame\u001b[0;34m(data, x, y, kind, ax, subplots, sharex, sharey, layout, figsize, use_index, title, grid, legend, style, logx, logy, loglog, xticks, yticks, xlim, ylim, rot, fontsize, colormap, table, yerr, xerr, secondary_y, sort_columns, **kwds)\u001b[0m\n\u001b[1;32m   1975\u001b[0m                  \u001b[0myerr\u001b[0m\u001b[0;34m=\u001b[0m\u001b[0myerr\u001b[0m\u001b[0;34m,\u001b[0m \u001b[0mxerr\u001b[0m\u001b[0;34m=\u001b[0m\u001b[0mxerr\u001b[0m\u001b[0;34m,\u001b[0m\u001b[0;34m\u001b[0m\u001b[0;34m\u001b[0m\u001b[0m\n\u001b[1;32m   1976\u001b[0m                  \u001b[0msecondary_y\u001b[0m\u001b[0;34m=\u001b[0m\u001b[0msecondary_y\u001b[0m\u001b[0;34m,\u001b[0m \u001b[0msort_columns\u001b[0m\u001b[0;34m=\u001b[0m\u001b[0msort_columns\u001b[0m\u001b[0;34m,\u001b[0m\u001b[0;34m\u001b[0m\u001b[0;34m\u001b[0m\u001b[0m\n\u001b[0;32m-> 1977\u001b[0;31m                  **kwds)\n\u001b[0m\u001b[1;32m   1978\u001b[0m \u001b[0;34m\u001b[0m\u001b[0m\n\u001b[1;32m   1979\u001b[0m \u001b[0;34m\u001b[0m\u001b[0m\n",
      "\u001b[0;32m~/miniconda/envs/IC-3.7-2018-11-14/lib/python3.7/site-packages/pandas/plotting/_core.py\u001b[0m in \u001b[0;36m_plot\u001b[0;34m(data, x, y, subplots, ax, kind, **kwds)\u001b[0m\n\u001b[1;32m   1802\u001b[0m         \u001b[0mplot_obj\u001b[0m \u001b[0;34m=\u001b[0m \u001b[0mklass\u001b[0m\u001b[0;34m(\u001b[0m\u001b[0mdata\u001b[0m\u001b[0;34m,\u001b[0m \u001b[0msubplots\u001b[0m\u001b[0;34m=\u001b[0m\u001b[0msubplots\u001b[0m\u001b[0;34m,\u001b[0m \u001b[0max\u001b[0m\u001b[0;34m=\u001b[0m\u001b[0max\u001b[0m\u001b[0;34m,\u001b[0m \u001b[0mkind\u001b[0m\u001b[0;34m=\u001b[0m\u001b[0mkind\u001b[0m\u001b[0;34m,\u001b[0m \u001b[0;34m**\u001b[0m\u001b[0mkwds\u001b[0m\u001b[0;34m)\u001b[0m\u001b[0;34m\u001b[0m\u001b[0;34m\u001b[0m\u001b[0m\n\u001b[1;32m   1803\u001b[0m \u001b[0;34m\u001b[0m\u001b[0m\n\u001b[0;32m-> 1804\u001b[0;31m     \u001b[0mplot_obj\u001b[0m\u001b[0;34m.\u001b[0m\u001b[0mgenerate\u001b[0m\u001b[0;34m(\u001b[0m\u001b[0;34m)\u001b[0m\u001b[0;34m\u001b[0m\u001b[0;34m\u001b[0m\u001b[0m\n\u001b[0m\u001b[1;32m   1805\u001b[0m     \u001b[0mplot_obj\u001b[0m\u001b[0;34m.\u001b[0m\u001b[0mdraw\u001b[0m\u001b[0;34m(\u001b[0m\u001b[0;34m)\u001b[0m\u001b[0;34m\u001b[0m\u001b[0;34m\u001b[0m\u001b[0m\n\u001b[1;32m   1806\u001b[0m     \u001b[0;32mreturn\u001b[0m \u001b[0mplot_obj\u001b[0m\u001b[0;34m.\u001b[0m\u001b[0mresult\u001b[0m\u001b[0;34m\u001b[0m\u001b[0;34m\u001b[0m\u001b[0m\n",
      "\u001b[0;32m~/miniconda/envs/IC-3.7-2018-11-14/lib/python3.7/site-packages/pandas/plotting/_core.py\u001b[0m in \u001b[0;36mgenerate\u001b[0;34m(self)\u001b[0m\n\u001b[1;32m    256\u001b[0m     \u001b[0;32mdef\u001b[0m \u001b[0mgenerate\u001b[0m\u001b[0;34m(\u001b[0m\u001b[0mself\u001b[0m\u001b[0;34m)\u001b[0m\u001b[0;34m:\u001b[0m\u001b[0;34m\u001b[0m\u001b[0;34m\u001b[0m\u001b[0m\n\u001b[1;32m    257\u001b[0m         \u001b[0mself\u001b[0m\u001b[0;34m.\u001b[0m\u001b[0m_args_adjust\u001b[0m\u001b[0;34m(\u001b[0m\u001b[0;34m)\u001b[0m\u001b[0;34m\u001b[0m\u001b[0;34m\u001b[0m\u001b[0m\n\u001b[0;32m--> 258\u001b[0;31m         \u001b[0mself\u001b[0m\u001b[0;34m.\u001b[0m\u001b[0m_compute_plot_data\u001b[0m\u001b[0;34m(\u001b[0m\u001b[0;34m)\u001b[0m\u001b[0;34m\u001b[0m\u001b[0;34m\u001b[0m\u001b[0m\n\u001b[0m\u001b[1;32m    259\u001b[0m         \u001b[0mself\u001b[0m\u001b[0;34m.\u001b[0m\u001b[0m_setup_subplots\u001b[0m\u001b[0;34m(\u001b[0m\u001b[0;34m)\u001b[0m\u001b[0;34m\u001b[0m\u001b[0;34m\u001b[0m\u001b[0m\n\u001b[1;32m    260\u001b[0m         \u001b[0mself\u001b[0m\u001b[0;34m.\u001b[0m\u001b[0m_make_plot\u001b[0m\u001b[0;34m(\u001b[0m\u001b[0;34m)\u001b[0m\u001b[0;34m\u001b[0m\u001b[0;34m\u001b[0m\u001b[0m\n",
      "\u001b[0;32m~/miniconda/envs/IC-3.7-2018-11-14/lib/python3.7/site-packages/pandas/plotting/_core.py\u001b[0m in \u001b[0;36m_compute_plot_data\u001b[0;34m(self)\u001b[0m\n\u001b[1;32m    371\u001b[0m         \u001b[0;32mif\u001b[0m \u001b[0mis_empty\u001b[0m\u001b[0;34m:\u001b[0m\u001b[0;34m\u001b[0m\u001b[0;34m\u001b[0m\u001b[0m\n\u001b[1;32m    372\u001b[0m             raise TypeError('Empty {0!r}: no numeric data to '\n\u001b[0;32m--> 373\u001b[0;31m                             'plot'.format(numeric_data.__class__.__name__))\n\u001b[0m\u001b[1;32m    374\u001b[0m \u001b[0;34m\u001b[0m\u001b[0m\n\u001b[1;32m    375\u001b[0m         \u001b[0mself\u001b[0m\u001b[0;34m.\u001b[0m\u001b[0mdata\u001b[0m \u001b[0;34m=\u001b[0m \u001b[0mnumeric_data\u001b[0m\u001b[0;34m\u001b[0m\u001b[0;34m\u001b[0m\u001b[0m\n",
      "\u001b[0;31mTypeError\u001b[0m: Empty 'DataFrame': no numeric data to plot"
     ]
    }
   ],
   "source": [
    "cft10k.plot(\"NumberOfneighbors\")"
   ]
  },
  {
   "cell_type": "code",
   "execution_count": 430,
   "metadata": {},
   "outputs": [
    {
     "name": "stdout",
     "output_type": "stream",
     "text": [
      " Running Barrio Tortuga SEIR with 1000  turtles, for 2 steps.\n",
      "Barrio Tortuga SEIR parameters\n",
      "            number of turtles       = 1000\n",
      "            initial infected        = 5\n",
      "            fraction infected       = 0.005\n",
      "            R0                      = 3.5\n",
      "            Ti (incubation time)    = 5\n",
      "            Tr (recovery time)      = 5\n",
      "            number of contacts      = 1\n",
      "            P (trans. prob/contact) = 0.7\n",
      "            Calib                   = False\n",
      "            Grid (w x h)            = 40 x 40\n",
      "            \n",
      " step 0\n",
      "coordinates of neighbors, including me = [(34, 36), (35, 36), (36, 36), (34, 37), (35, 37), (36, 37), (34, 38), (35, 38), (36, 38)]\n",
      "neighbors = (34, 36)\n",
      " number of turtles = 2\n",
      " turtle kind = S\n",
      " throwing dice\n",
      " turtle kind = S\n",
      " throwing dice\n",
      " turning turtle into E\n",
      "neighbors = (35, 36)\n",
      " number of turtles = 0\n",
      "neighbors = (36, 36)\n",
      " number of turtles = 0\n",
      "neighbors = (34, 37)\n",
      " number of turtles = 0\n",
      "neighbors = (35, 37)\n",
      " number of turtles = 1\n",
      " turtle kind = I\n",
      "neighbors = (36, 37)\n",
      " number of turtles = 0\n",
      "neighbors = (34, 38)\n",
      " number of turtles = 0\n",
      "neighbors = (35, 38)\n",
      " number of turtles = 0\n",
      "neighbors = (36, 38)\n",
      " number of turtles = 0\n",
      "coordinates of neighbors, including me = [(23, 34), (24, 34), (25, 34), (23, 35), (24, 35), (25, 35), (23, 36), (24, 36), (25, 36)]\n",
      "neighbors = (23, 34)\n",
      " number of turtles = 0\n",
      "neighbors = (24, 34)\n",
      " number of turtles = 0\n",
      "neighbors = (25, 34)\n",
      " number of turtles = 0\n",
      "neighbors = (23, 35)\n",
      " number of turtles = 0\n",
      "neighbors = (24, 35)\n",
      " number of turtles = 1\n",
      " turtle kind = I\n",
      "neighbors = (25, 35)\n",
      " number of turtles = 1\n",
      " turtle kind = S\n",
      " throwing dice\n",
      " turning turtle into E\n",
      "neighbors = (23, 36)\n",
      " number of turtles = 2\n",
      " turtle kind = S\n",
      " throwing dice\n",
      " turtle kind = S\n",
      " throwing dice\n",
      " turning turtle into E\n",
      "neighbors = (24, 36)\n",
      " number of turtles = 0\n",
      "neighbors = (25, 36)\n",
      " number of turtles = 2\n",
      " turtle kind = S\n",
      " throwing dice\n",
      " turning turtle into E\n",
      " turtle kind = S\n",
      " throwing dice\n",
      " turning turtle into E\n",
      "coordinates of neighbors, including me = [(30, 36), (31, 36), (32, 36), (30, 37), (31, 37), (32, 37), (30, 38), (31, 38), (32, 38)]\n",
      "neighbors = (30, 36)\n",
      " number of turtles = 1\n",
      " turtle kind = S\n",
      " throwing dice\n",
      " turning turtle into E\n",
      "neighbors = (31, 36)\n",
      " number of turtles = 0\n",
      "neighbors = (32, 36)\n",
      " number of turtles = 1\n",
      " turtle kind = S\n",
      " throwing dice\n",
      " turning turtle into E\n",
      "neighbors = (30, 37)\n",
      " number of turtles = 2\n",
      " turtle kind = S\n",
      " throwing dice\n",
      " turtle kind = S\n",
      " throwing dice\n",
      " turning turtle into E\n",
      "neighbors = (31, 37)\n",
      " number of turtles = 1\n",
      " turtle kind = I\n",
      "neighbors = (32, 37)\n",
      " number of turtles = 0\n",
      "neighbors = (30, 38)\n",
      " number of turtles = 1\n",
      " turtle kind = S\n",
      " throwing dice\n",
      " turning turtle into E\n",
      "neighbors = (31, 38)\n",
      " number of turtles = 2\n",
      " turtle kind = S\n",
      " throwing dice\n",
      " turtle kind = S\n",
      " throwing dice\n",
      " turning turtle into E\n",
      "neighbors = (32, 38)\n",
      " number of turtles = 0\n",
      "coordinates of neighbors, including me = [(26, 24), (27, 24), (28, 24), (26, 25), (27, 25), (28, 25), (26, 26), (27, 26), (28, 26)]\n",
      "neighbors = (26, 24)\n",
      " number of turtles = 0\n",
      "neighbors = (27, 24)\n",
      " number of turtles = 1\n",
      " turtle kind = S\n",
      " throwing dice\n",
      " turning turtle into E\n",
      "neighbors = (28, 24)\n",
      " number of turtles = 1\n",
      " turtle kind = S\n",
      " throwing dice\n",
      " turning turtle into E\n",
      "neighbors = (26, 25)\n",
      " number of turtles = 1\n",
      " turtle kind = S\n",
      " throwing dice\n",
      "neighbors = (27, 25)\n",
      " number of turtles = 2\n",
      " turtle kind = S\n",
      " throwing dice\n",
      " turtle kind = I\n",
      "neighbors = (28, 25)\n",
      " number of turtles = 2\n",
      " turtle kind = S\n",
      " throwing dice\n",
      " turtle kind = S\n",
      " throwing dice\n",
      "neighbors = (26, 26)\n",
      " number of turtles = 0\n",
      "neighbors = (27, 26)\n",
      " number of turtles = 1\n",
      " turtle kind = S\n",
      " throwing dice\n",
      "neighbors = (28, 26)\n",
      " number of turtles = 3\n",
      " turtle kind = S\n",
      " throwing dice\n",
      " turning turtle into E\n",
      " turtle kind = S\n",
      " throwing dice\n",
      " turtle kind = S\n",
      " throwing dice\n",
      "coordinates of neighbors, including me = [(36, 28), (37, 28), (38, 28), (36, 29), (37, 29), (38, 29), (36, 30), (37, 30), (38, 30)]\n",
      "neighbors = (36, 28)\n",
      " number of turtles = 0\n",
      "neighbors = (37, 28)\n",
      " number of turtles = 0\n",
      "neighbors = (38, 28)\n",
      " number of turtles = 0\n",
      "neighbors = (36, 29)\n",
      " number of turtles = 1\n",
      " turtle kind = S\n",
      " throwing dice\n",
      " turning turtle into E\n",
      "neighbors = (37, 29)\n",
      " number of turtles = 1\n",
      " turtle kind = I\n",
      "neighbors = (38, 29)\n",
      " number of turtles = 1\n",
      " turtle kind = S\n",
      " throwing dice\n",
      " turning turtle into E\n",
      "neighbors = (36, 30)\n",
      " number of turtles = 0\n",
      "neighbors = (37, 30)\n",
      " number of turtles = 0\n",
      "neighbors = (38, 30)\n",
      " number of turtles = 0\n",
      "coordinates of neighbors, including me = [(24, 35), (25, 35), (26, 35), (24, 36), (25, 36), (26, 36), (24, 37), (25, 37), (26, 37)]\n",
      "neighbors = (24, 35)\n",
      " number of turtles = 1\n",
      " turtle kind = E\n",
      "neighbors = (25, 35)\n",
      " number of turtles = 1\n",
      " turtle kind = E\n",
      "neighbors = (26, 35)\n",
      " number of turtles = 0\n",
      "neighbors = (24, 36)\n",
      " number of turtles = 0\n",
      "neighbors = (25, 36)\n",
      " number of turtles = 2\n",
      " turtle kind = E\n",
      " turtle kind = I\n",
      "neighbors = (26, 36)\n",
      " number of turtles = 0\n",
      "neighbors = (24, 37)\n",
      " number of turtles = 1\n",
      " turtle kind = S\n",
      " throwing dice\n",
      "neighbors = (25, 37)\n",
      " number of turtles = 0\n",
      "neighbors = (26, 37)\n",
      " number of turtles = 0\n",
      "coordinates of neighbors, including me = [(30, 37), (31, 37), (32, 37), (30, 38), (31, 38), (32, 38), (30, 39), (31, 39), (32, 39)]\n",
      "neighbors = (30, 37)\n",
      " number of turtles = 2\n",
      " turtle kind = E\n",
      " turtle kind = E\n",
      "neighbors = (31, 37)\n",
      " number of turtles = 0\n",
      "neighbors = (32, 37)\n",
      " number of turtles = 0\n",
      "neighbors = (30, 38)\n",
      " number of turtles = 0\n",
      "neighbors = (31, 38)\n",
      " number of turtles = 2\n",
      " turtle kind = I\n",
      " turtle kind = S\n",
      " throwing dice\n",
      "neighbors = (32, 38)\n",
      " number of turtles = 0\n",
      "neighbors = (30, 39)\n",
      " number of turtles = 0\n",
      "neighbors = (31, 39)\n",
      " number of turtles = 1\n",
      " turtle kind = E\n",
      "neighbors = (32, 39)\n",
      " number of turtles = 2\n",
      " turtle kind = S\n",
      " throwing dice\n",
      " turtle kind = S\n",
      " throwing dice\n",
      " turning turtle into E\n",
      "coordinates of neighbors, including me = [(26, 23), (27, 23), (28, 23), (26, 24), (27, 24), (28, 24), (26, 25), (27, 25), (28, 25)]\n",
      "neighbors = (26, 23)\n",
      " number of turtles = 0\n",
      "neighbors = (27, 23)\n",
      " number of turtles = 0\n",
      "neighbors = (28, 23)\n",
      " number of turtles = 1\n",
      " turtle kind = E\n",
      "neighbors = (26, 24)\n",
      " number of turtles = 0\n",
      "neighbors = (27, 24)\n",
      " number of turtles = 1\n",
      " turtle kind = I\n",
      "neighbors = (28, 24)\n",
      " number of turtles = 1\n",
      " turtle kind = E\n",
      "neighbors = (26, 25)\n",
      " number of turtles = 2\n",
      " turtle kind = S\n",
      " throwing dice\n",
      " turning turtle into E\n",
      " turtle kind = S\n",
      " throwing dice\n",
      " turning turtle into E\n",
      "neighbors = (27, 25)\n",
      " number of turtles = 0\n",
      "neighbors = (28, 25)\n",
      " number of turtles = 2\n",
      " turtle kind = S\n",
      " throwing dice\n",
      " turning turtle into E\n",
      " turtle kind = S\n",
      " throwing dice\n",
      " turning turtle into E\n",
      "coordinates of neighbors, including me = [(35, 27), (36, 27), (37, 27), (35, 28), (36, 28), (37, 28), (35, 29), (36, 29), (37, 29)]\n",
      "neighbors = (35, 27)\n",
      " number of turtles = 0\n",
      "neighbors = (36, 27)\n",
      " number of turtles = 0\n",
      "neighbors = (37, 27)\n",
      " number of turtles = 0\n",
      "neighbors = (35, 28)\n",
      " number of turtles = 1\n",
      " turtle kind = S\n",
      " throwing dice\n",
      " turning turtle into E\n",
      "neighbors = (36, 28)\n",
      " number of turtles = 1\n",
      " turtle kind = I\n",
      "neighbors = (37, 28)\n",
      " number of turtles = 0\n",
      "neighbors = (35, 29)\n",
      " number of turtles = 1\n",
      " turtle kind = S\n",
      " throwing dice\n",
      "neighbors = (36, 29)\n",
      " number of turtles = 1\n",
      " turtle kind = E\n",
      "neighbors = (37, 29)\n",
      " number of turtles = 0\n",
      "coordinates of neighbors, including me = [(35, 35), (36, 35), (37, 35), (35, 36), (36, 36), (37, 36), (35, 37), (36, 37), (37, 37)]\n",
      "neighbors = (35, 35)\n",
      " number of turtles = 0\n",
      "neighbors = (36, 35)\n",
      " number of turtles = 1\n",
      " turtle kind = S\n",
      " throwing dice\n",
      "neighbors = (37, 35)\n",
      " number of turtles = 0\n",
      "neighbors = (35, 36)\n",
      " number of turtles = 0\n",
      "neighbors = (36, 36)\n",
      " number of turtles = 1\n",
      " turtle kind = I\n",
      "neighbors = (37, 36)\n",
      " number of turtles = 1\n",
      " turtle kind = S\n",
      " throwing dice\n",
      "neighbors = (35, 37)\n",
      " number of turtles = 0\n",
      "neighbors = (36, 37)\n",
      " number of turtles = 0\n",
      "neighbors = (37, 37)\n",
      " number of turtles = 1\n",
      " turtle kind = S\n",
      " throwing dice\n",
      " turning turtle into E\n",
      "Done!\n"
     ]
    }
   ],
   "source": [
    "dft1k = run_turtles_calib(steps= 2, turtles=1000, i0=5, r0 = 3.5, nc=1, ti = 5, tr = 5, width=40, height=40, calib=False, prtl=PrtLvl.Verbose, fprint=25)"
   ]
  },
  {
   "cell_type": "code",
   "execution_count": null,
   "metadata": {},
   "outputs": [],
   "source": []
  },
  {
   "cell_type": "markdown",
   "metadata": {},
   "source": [
    "## Single run with 1000 events"
   ]
  },
  {
   "cell_type": "code",
   "execution_count": 323,
   "metadata": {},
   "outputs": [
    {
     "name": "stdout",
     "output_type": "stream",
     "text": [
      " Running Barrio Tortuga SEIR with 1000  turtles, for 100 steps.\n",
      "Barrio Tortuga SEIR parameters\n",
      "            number of turtles       = 1000\n",
      "            initial infected        = 10\n",
      "            fraction infected       = 0.01\n",
      "            R0                      = 3.5\n",
      "            Ti (incubation time)    = 5\n",
      "            Tr (recovery time)      = 5\n",
      "            number of contacts      = 2.3287128712871286\n",
      "            P (trans. prob/contact) = 0.3005952380952381\n",
      "            Calib                   = False\n",
      "            Grid (w x h)            = 40 x 40\n",
      "            \n",
      " step 0\n",
      " step 25\n",
      " step 50\n",
      " step 75\n",
      "Done!\n"
     ]
    }
   ],
   "source": [
    "dft1k = run_turtles_calib(steps= 100, turtles=1000, i0=10, r0 = 3.5, nc=NC1k, ti = 5, tr = 5, width=40, height=40, calib=False, prtl=PrtLvl.Concise, fprint=25)"
   ]
  },
  {
   "cell_type": "code",
   "execution_count": 324,
   "metadata": {},
   "outputs": [
    {
     "data": {
      "text/plain": [
       "152"
      ]
     },
     "execution_count": 324,
     "metadata": {},
     "output_type": "execute_result"
    }
   ],
   "source": [
    "dft1k.NumberOfInfected.max()"
   ]
  },
  {
   "cell_type": "code",
   "execution_count": 325,
   "metadata": {},
   "outputs": [
    {
     "data": {
      "text/plain": [
       "45"
      ]
     },
     "execution_count": 325,
     "metadata": {},
     "output_type": "execute_result"
    }
   ],
   "source": [
    "dft1k.NumberOfInfected.idxmax()"
   ]
  },
  {
   "cell_type": "code",
   "execution_count": 326,
   "metadata": {},
   "outputs": [
    {
     "data": {
      "text/plain": [
       "[<matplotlib.lines.Line2D at 0x11e70d2d0>]"
      ]
     },
     "execution_count": 326,
     "metadata": {},
     "output_type": "execute_result"
    },
    {
     "data": {
      "image/png": "[encoded data removed]",
      "text/plain": [
       "<Figure size 720x576 with 1 Axes>"
      ]
     },
     "metadata": {
      "needs_background": "light"
     },
     "output_type": "display_data"
    }
   ],
   "source": [
    "plt.plot(dft1k.index, dft1k.NumberOfInfected )\n",
    "plt.plot(dft1k.index, dft1k.NumberOfExposed)"
   ]
  },
  {
   "cell_type": "markdown",
   "metadata": {},
   "source": [
    "## 100 runes of 1000 turtles"
   ]
  },
  {
   "cell_type": "code",
   "execution_count": 321,
   "metadata": {},
   "outputs": [
    {
     "name": "stdout",
     "output_type": "stream",
     "text": [
      " Running Barrio Tortuga SEIR with 1000  turtles, for 100 steps.\n",
      " step 0\n",
      "Done!\n",
      " Running Barrio Tortuga SEIR with 1000  turtles, for 100 steps.\n",
      " step 0\n",
      "Done!\n",
      " Running Barrio Tortuga SEIR with 1000  turtles, for 100 steps.\n",
      " step 0\n",
      "Done!\n",
      " Running Barrio Tortuga SEIR with 1000  turtles, for 100 steps.\n",
      " step 0\n",
      "Done!\n",
      " Running Barrio Tortuga SEIR with 1000  turtles, for 100 steps.\n",
      " step 0\n",
      "Done!\n",
      " Running Barrio Tortuga SEIR with 1000  turtles, for 100 steps.\n",
      " step 0\n",
      "Done!\n",
      " Running Barrio Tortuga SEIR with 1000  turtles, for 100 steps.\n",
      " step 0\n",
      "Done!\n",
      " Running Barrio Tortuga SEIR with 1000  turtles, for 100 steps.\n",
      " step 0\n",
      "Done!\n",
      " Running Barrio Tortuga SEIR with 1000  turtles, for 100 steps.\n",
      " step 0\n",
      "Done!\n",
      " Running Barrio Tortuga SEIR with 1000  turtles, for 100 steps.\n",
      " step 0\n",
      "Done!\n",
      " Running Barrio Tortuga SEIR with 1000  turtles, for 100 steps.\n",
      " step 0\n",
      "Done!\n",
      " Running Barrio Tortuga SEIR with 1000  turtles, for 100 steps.\n",
      " step 0\n",
      "Done!\n",
      " Running Barrio Tortuga SEIR with 1000  turtles, for 100 steps.\n",
      " step 0\n",
      "Done!\n",
      " Running Barrio Tortuga SEIR with 1000  turtles, for 100 steps.\n",
      " step 0\n",
      "Done!\n",
      " Running Barrio Tortuga SEIR with 1000  turtles, for 100 steps.\n",
      " step 0\n",
      "Done!\n",
      " Running Barrio Tortuga SEIR with 1000  turtles, for 100 steps.\n",
      " step 0\n",
      "Done!\n",
      " Running Barrio Tortuga SEIR with 1000  turtles, for 100 steps.\n",
      " step 0\n",
      "Done!\n",
      " Running Barrio Tortuga SEIR with 1000  turtles, for 100 steps.\n",
      " step 0\n",
      "Done!\n",
      " Running Barrio Tortuga SEIR with 1000  turtles, for 100 steps.\n",
      " step 0\n",
      "Done!\n",
      " Running Barrio Tortuga SEIR with 1000  turtles, for 100 steps.\n",
      " step 0\n",
      "Done!\n",
      " Running Barrio Tortuga SEIR with 1000  turtles, for 100 steps.\n",
      " step 0\n",
      "Done!\n",
      " Running Barrio Tortuga SEIR with 1000  turtles, for 100 steps.\n",
      " step 0\n",
      "Done!\n",
      " Running Barrio Tortuga SEIR with 1000  turtles, for 100 steps.\n",
      " step 0\n",
      "Done!\n",
      " Running Barrio Tortuga SEIR with 1000  turtles, for 100 steps.\n",
      " step 0\n",
      "Done!\n",
      " Running Barrio Tortuga SEIR with 1000  turtles, for 100 steps.\n",
      " step 0\n",
      "Done!\n",
      " Running Barrio Tortuga SEIR with 1000  turtles, for 100 steps.\n",
      " step 0\n",
      "Done!\n",
      " Running Barrio Tortuga SEIR with 1000  turtles, for 100 steps.\n",
      " step 0\n",
      "Done!\n",
      " Running Barrio Tortuga SEIR with 1000  turtles, for 100 steps.\n",
      " step 0\n",
      "Done!\n",
      " Running Barrio Tortuga SEIR with 1000  turtles, for 100 steps.\n",
      " step 0\n",
      "Done!\n",
      " Running Barrio Tortuga SEIR with 1000  turtles, for 100 steps.\n",
      " step 0\n",
      "Done!\n",
      " Running Barrio Tortuga SEIR with 1000  turtles, for 100 steps.\n",
      " step 0\n",
      "Done!\n",
      " Running Barrio Tortuga SEIR with 1000  turtles, for 100 steps.\n",
      " step 0\n",
      "Done!\n",
      " Running Barrio Tortuga SEIR with 1000  turtles, for 100 steps.\n",
      " step 0\n",
      "Done!\n",
      " Running Barrio Tortuga SEIR with 1000  turtles, for 100 steps.\n",
      " step 0\n",
      "Done!\n",
      " Running Barrio Tortuga SEIR with 1000  turtles, for 100 steps.\n",
      " step 0\n",
      "Done!\n",
      " Running Barrio Tortuga SEIR with 1000  turtles, for 100 steps.\n",
      " step 0\n",
      "Done!\n",
      " Running Barrio Tortuga SEIR with 1000  turtles, for 100 steps.\n",
      " step 0\n",
      "Done!\n",
      " Running Barrio Tortuga SEIR with 1000  turtles, for 100 steps.\n",
      " step 0\n",
      "Done!\n",
      " Running Barrio Tortuga SEIR with 1000  turtles, for 100 steps.\n",
      " step 0\n",
      "Done!\n",
      " Running Barrio Tortuga SEIR with 1000  turtles, for 100 steps.\n",
      " step 0\n",
      "Done!\n",
      " Running Barrio Tortuga SEIR with 1000  turtles, for 100 steps.\n",
      " step 0\n",
      "Done!\n",
      " Running Barrio Tortuga SEIR with 1000  turtles, for 100 steps.\n",
      " step 0\n",
      "Done!\n",
      " Running Barrio Tortuga SEIR with 1000  turtles, for 100 steps.\n",
      " step 0\n",
      "Done!\n",
      " Running Barrio Tortuga SEIR with 1000  turtles, for 100 steps.\n",
      " step 0\n",
      "Done!\n",
      " Running Barrio Tortuga SEIR with 1000  turtles, for 100 steps.\n",
      " step 0\n",
      "Done!\n",
      " Running Barrio Tortuga SEIR with 1000  turtles, for 100 steps.\n",
      " step 0\n",
      "Done!\n",
      " Running Barrio Tortuga SEIR with 1000  turtles, for 100 steps.\n",
      " step 0\n",
      "Done!\n",
      " Running Barrio Tortuga SEIR with 1000  turtles, for 100 steps.\n",
      " step 0\n",
      "Done!\n",
      " Running Barrio Tortuga SEIR with 1000  turtles, for 100 steps.\n",
      " step 0\n",
      "Done!\n",
      " Running Barrio Tortuga SEIR with 1000  turtles, for 100 steps.\n",
      " step 0\n",
      "Done!\n",
      " Running Barrio Tortuga SEIR with 1000  turtles, for 100 steps.\n",
      " step 0\n",
      "Done!\n",
      " Running Barrio Tortuga SEIR with 1000  turtles, for 100 steps.\n",
      " step 0\n",
      "Done!\n",
      " Running Barrio Tortuga SEIR with 1000  turtles, for 100 steps.\n",
      " step 0\n",
      "Done!\n",
      " Running Barrio Tortuga SEIR with 1000  turtles, for 100 steps.\n",
      " step 0\n",
      "Done!\n",
      " Running Barrio Tortuga SEIR with 1000  turtles, for 100 steps.\n",
      " step 0\n",
      "Done!\n",
      " Running Barrio Tortuga SEIR with 1000  turtles, for 100 steps.\n",
      " step 0\n",
      "Done!\n",
      " Running Barrio Tortuga SEIR with 1000  turtles, for 100 steps.\n",
      " step 0\n",
      "Done!\n",
      " Running Barrio Tortuga SEIR with 1000  turtles, for 100 steps.\n",
      " step 0\n",
      "Done!\n",
      " Running Barrio Tortuga SEIR with 1000  turtles, for 100 steps.\n",
      " step 0\n",
      "Done!\n",
      " Running Barrio Tortuga SEIR with 1000  turtles, for 100 steps.\n",
      " step 0\n",
      "Done!\n",
      " Running Barrio Tortuga SEIR with 1000  turtles, for 100 steps.\n",
      " step 0\n",
      "Done!\n",
      " Running Barrio Tortuga SEIR with 1000  turtles, for 100 steps.\n",
      " step 0\n",
      "Done!\n",
      " Running Barrio Tortuga SEIR with 1000  turtles, for 100 steps.\n",
      " step 0\n",
      "Done!\n",
      " Running Barrio Tortuga SEIR with 1000  turtles, for 100 steps.\n",
      " step 0\n",
      "Done!\n",
      " Running Barrio Tortuga SEIR with 1000  turtles, for 100 steps.\n",
      " step 0\n",
      "Done!\n",
      " Running Barrio Tortuga SEIR with 1000  turtles, for 100 steps.\n",
      " step 0\n",
      "Done!\n",
      " Running Barrio Tortuga SEIR with 1000  turtles, for 100 steps.\n",
      " step 0\n",
      "Done!\n",
      " Running Barrio Tortuga SEIR with 1000  turtles, for 100 steps.\n",
      " step 0\n",
      "Done!\n",
      " Running Barrio Tortuga SEIR with 1000  turtles, for 100 steps.\n",
      " step 0\n",
      "Done!\n",
      " Running Barrio Tortuga SEIR with 1000  turtles, for 100 steps.\n",
      " step 0\n",
      "Done!\n",
      " Running Barrio Tortuga SEIR with 1000  turtles, for 100 steps.\n",
      " step 0\n",
      "Done!\n",
      " Running Barrio Tortuga SEIR with 1000  turtles, for 100 steps.\n",
      " step 0\n",
      "Done!\n",
      " Running Barrio Tortuga SEIR with 1000  turtles, for 100 steps.\n",
      " step 0\n",
      "Done!\n",
      " Running Barrio Tortuga SEIR with 1000  turtles, for 100 steps.\n",
      " step 0\n",
      "Done!\n",
      " Running Barrio Tortuga SEIR with 1000  turtles, for 100 steps.\n",
      " step 0\n",
      "Done!\n",
      " Running Barrio Tortuga SEIR with 1000  turtles, for 100 steps.\n",
      " step 0\n",
      "Done!\n",
      " Running Barrio Tortuga SEIR with 1000  turtles, for 100 steps.\n",
      " step 0\n",
      "Done!\n",
      " Running Barrio Tortuga SEIR with 1000  turtles, for 100 steps.\n",
      " step 0\n",
      "Done!\n",
      " Running Barrio Tortuga SEIR with 1000  turtles, for 100 steps.\n",
      " step 0\n",
      "Done!\n",
      " Running Barrio Tortuga SEIR with 1000  turtles, for 100 steps.\n",
      " step 0\n",
      "Done!\n",
      " Running Barrio Tortuga SEIR with 1000  turtles, for 100 steps.\n",
      " step 0\n",
      "Done!\n",
      " Running Barrio Tortuga SEIR with 1000  turtles, for 100 steps.\n",
      " step 0\n",
      "Done!\n",
      " Running Barrio Tortuga SEIR with 1000  turtles, for 100 steps.\n",
      " step 0\n",
      "Done!\n",
      " Running Barrio Tortuga SEIR with 1000  turtles, for 100 steps.\n",
      " step 0\n",
      "Done!\n",
      " Running Barrio Tortuga SEIR with 1000  turtles, for 100 steps.\n",
      " step 0\n",
      "Done!\n",
      " Running Barrio Tortuga SEIR with 1000  turtles, for 100 steps.\n",
      " step 0\n",
      "Done!\n",
      " Running Barrio Tortuga SEIR with 1000  turtles, for 100 steps.\n",
      " step 0\n",
      "Done!\n",
      " Running Barrio Tortuga SEIR with 1000  turtles, for 100 steps.\n",
      " step 0\n",
      "Done!\n",
      " Running Barrio Tortuga SEIR with 1000  turtles, for 100 steps.\n",
      " step 0\n",
      "Done!\n",
      " Running Barrio Tortuga SEIR with 1000  turtles, for 100 steps.\n",
      " step 0\n",
      "Done!\n",
      " Running Barrio Tortuga SEIR with 1000  turtles, for 100 steps.\n",
      " step 0\n",
      "Done!\n",
      " Running Barrio Tortuga SEIR with 1000  turtles, for 100 steps.\n",
      " step 0\n",
      "Done!\n",
      " Running Barrio Tortuga SEIR with 1000  turtles, for 100 steps.\n",
      " step 0\n",
      "Done!\n",
      " Running Barrio Tortuga SEIR with 1000  turtles, for 100 steps.\n",
      " step 0\n",
      "Done!\n",
      " Running Barrio Tortuga SEIR with 1000  turtles, for 100 steps.\n",
      " step 0\n",
      "Done!\n",
      " Running Barrio Tortuga SEIR with 1000  turtles, for 100 steps.\n",
      " step 0\n",
      "Done!\n",
      " Running Barrio Tortuga SEIR with 1000  turtles, for 100 steps.\n",
      " step 0\n",
      "Done!\n",
      " Running Barrio Tortuga SEIR with 1000  turtles, for 100 steps.\n",
      " step 0\n",
      "Done!\n",
      " Running Barrio Tortuga SEIR with 1000  turtles, for 100 steps.\n",
      " step 0\n",
      "Done!\n",
      " Running Barrio Tortuga SEIR with 1000  turtles, for 100 steps.\n",
      " step 0\n",
      "Done!\n"
     ]
    }
   ],
   "source": [
    "dfs1k = run_series(ns=100, steps= 100, turtles=1000, i0=100, r0 = 3.5, nc=NC1k, ti = 5, tr = 5, width=40, height=40, fprint=100)"
   ]
  },
  {
   "cell_type": "markdown",
   "metadata": {},
   "source": [
    "## average of 100 runs"
   ]
  },
  {
   "cell_type": "code",
   "execution_count": 322,
   "metadata": {},
   "outputs": [
    {
     "data": {
      "text/plain": [
       "[<matplotlib.lines.Line2D at 0x11bb2f7d0>]"
      ]
     },
     "execution_count": 322,
     "metadata": {},
     "output_type": "execute_result"
    },
    {
     "data": {
      "image/png": "[encoded data removed]",
      "text/plain": [
       "<Figure size 720x576 with 1 Axes>"
      ]
     },
     "metadata": {
      "needs_background": "light"
     },
     "output_type": "display_data"
    }
   ],
   "source": [
    "plt.plot(dfs1k.index, dfs1k.NumberOfInfected )\n",
    "plt.plot(dfs1k.index, dfs1k.NumberOfExposed)"
   ]
  },
  {
   "cell_type": "code",
   "execution_count": 263,
   "metadata": {},
   "outputs": [
    {
     "data": {
      "text/plain": [
       "(63, 69.3)"
      ]
     },
     "execution_count": 263,
     "metadata": {},
     "output_type": "execute_result"
    }
   ],
   "source": [
    "peak_position(dfs1k)"
   ]
  },
  {
   "cell_type": "code",
   "execution_count": 264,
   "metadata": {},
   "outputs": [],
   "source": [
    "T, R0 = r0(dfs1k, tmax=6)"
   ]
  },
  {
   "cell_type": "code",
   "execution_count": 265,
   "metadata": {},
   "outputs": [
    {
     "data": {
      "text/plain": [
       "2.643566673619665"
      ]
     },
     "execution_count": 265,
     "metadata": {},
     "output_type": "execute_result"
    }
   ],
   "source": [
    "np.mean(R0)"
   ]
  },
  {
   "cell_type": "markdown",
   "metadata": {},
   "source": [
    "## 5000 turtles"
   ]
  },
  {
   "cell_type": "code",
   "execution_count": 248,
   "metadata": {},
   "outputs": [
    {
     "name": "stdout",
     "output_type": "stream",
     "text": [
      " Running Barrio Tortuga SEIR with 5000  turtles, for 100 steps.\n",
      "Barrio Tortuga SEIR parameters\n",
      "            number of turtles       = 5000\n",
      "            initial infected        = 10\n",
      "            fraction infected       = 0.002\n",
      "            R0                      = 3.5\n",
      "            Ti (incubation time)    = 5\n",
      "            Tr (recovery time)      = 5\n",
      "            number of contacts      = 23.9\n",
      "            P (trans. prob/contact) = 0.029288702928870293\n",
      "            Calib                   = False\n",
      "            Grid (w x h)            = 40 x 40\n",
      "            \n",
      " step 0\n",
      "Done!\n"
     ]
    }
   ],
   "source": [
    "dft5k = run_turtles_calib(steps= 100, turtles=5000, i0=10, r0 = 3.5, nc=23.9, ti = 5, tr = 5, width=40, height=40, calib=False, prtl=PrtLvl.Concise, fprint=100)"
   ]
  },
  {
   "cell_type": "code",
   "execution_count": 250,
   "metadata": {},
   "outputs": [
    {
     "data": {
      "text/plain": [
       "(43, 1083)"
      ]
     },
     "execution_count": 250,
     "metadata": {},
     "output_type": "execute_result"
    }
   ],
   "source": [
    "peak_position(dft5k)"
   ]
  },
  {
   "cell_type": "code",
   "execution_count": 252,
   "metadata": {},
   "outputs": [
    {
     "data": {
      "text/plain": [
       "[<matplotlib.lines.Line2D at 0x11c917750>]"
      ]
     },
     "execution_count": 252,
     "metadata": {},
     "output_type": "execute_result"
    },
    {
     "data": {
      "image/png": "[encoded data removed]",
      "text/plain": [
       "<Figure size 720x576 with 1 Axes>"
      ]
     },
     "metadata": {
      "needs_background": "light"
     },
     "output_type": "display_data"
    }
   ],
   "source": [
    "plt.plot(dft5k.index, dft5k.NumberOfInfected )\n",
    "plt.plot(dft5k.index, dft5k.NumberOfExposed)"
   ]
  },
  {
   "cell_type": "markdown",
   "metadata": {},
   "source": [
    "## 20 runs"
   ]
  },
  {
   "cell_type": "code",
   "execution_count": 253,
   "metadata": {},
   "outputs": [
    {
     "name": "stdout",
     "output_type": "stream",
     "text": [
      " Running Barrio Tortuga SEIR with 5000  turtles, for 100 steps.\n",
      "Barrio Tortuga SEIR parameters\n",
      "            number of turtles       = 5000\n",
      "            initial infected        = 10\n",
      "            fraction infected       = 0.002\n",
      "            R0                      = 3.5\n",
      "            Ti (incubation time)    = 5\n",
      "            Tr (recovery time)      = 5\n",
      "            number of contacts      = 23.9\n",
      "            P (trans. prob/contact) = 0.029288702928870293\n",
      "            Calib                   = False\n",
      "            Grid (w x h)            = 40 x 40\n",
      "            \n",
      " step 0\n",
      " step 25\n",
      " step 50\n",
      " step 75\n",
      "Done!\n",
      " Running Barrio Tortuga SEIR with 5000  turtles, for 100 steps.\n",
      "Barrio Tortuga SEIR parameters\n",
      "            number of turtles       = 5000\n",
      "            initial infected        = 10\n",
      "            fraction infected       = 0.002\n",
      "            R0                      = 3.5\n",
      "            Ti (incubation time)    = 5\n",
      "            Tr (recovery time)      = 5\n",
      "            number of contacts      = 23.9\n",
      "            P (trans. prob/contact) = 0.029288702928870293\n",
      "            Calib                   = False\n",
      "            Grid (w x h)            = 40 x 40\n",
      "            \n",
      " step 0\n",
      " step 25\n",
      " step 50\n",
      " step 75\n",
      "Done!\n",
      " Running Barrio Tortuga SEIR with 5000  turtles, for 100 steps.\n",
      "Barrio Tortuga SEIR parameters\n",
      "            number of turtles       = 5000\n",
      "            initial infected        = 10\n",
      "            fraction infected       = 0.002\n",
      "            R0                      = 3.5\n",
      "            Ti (incubation time)    = 5\n",
      "            Tr (recovery time)      = 5\n",
      "            number of contacts      = 23.9\n",
      "            P (trans. prob/contact) = 0.029288702928870293\n",
      "            Calib                   = False\n",
      "            Grid (w x h)            = 40 x 40\n",
      "            \n",
      " step 0\n",
      " step 25\n",
      " step 50\n",
      " step 75\n",
      "Done!\n",
      " Running Barrio Tortuga SEIR with 5000  turtles, for 100 steps.\n",
      "Barrio Tortuga SEIR parameters\n",
      "            number of turtles       = 5000\n",
      "            initial infected        = 10\n",
      "            fraction infected       = 0.002\n",
      "            R0                      = 3.5\n",
      "            Ti (incubation time)    = 5\n",
      "            Tr (recovery time)      = 5\n",
      "            number of contacts      = 23.9\n",
      "            P (trans. prob/contact) = 0.029288702928870293\n",
      "            Calib                   = False\n",
      "            Grid (w x h)            = 40 x 40\n",
      "            \n",
      " step 0\n",
      " step 25\n",
      " step 50\n",
      " step 75\n",
      "Done!\n",
      " Running Barrio Tortuga SEIR with 5000  turtles, for 100 steps.\n",
      "Barrio Tortuga SEIR parameters\n",
      "            number of turtles       = 5000\n",
      "            initial infected        = 10\n",
      "            fraction infected       = 0.002\n",
      "            R0                      = 3.5\n",
      "            Ti (incubation time)    = 5\n",
      "            Tr (recovery time)      = 5\n",
      "            number of contacts      = 23.9\n",
      "            P (trans. prob/contact) = 0.029288702928870293\n",
      "            Calib                   = False\n",
      "            Grid (w x h)            = 40 x 40\n",
      "            \n",
      " step 0\n",
      " step 25\n",
      " step 50\n",
      " step 75\n",
      "Done!\n",
      " Running Barrio Tortuga SEIR with 5000  turtles, for 100 steps.\n",
      "Barrio Tortuga SEIR parameters\n",
      "            number of turtles       = 5000\n",
      "            initial infected        = 10\n",
      "            fraction infected       = 0.002\n",
      "            R0                      = 3.5\n",
      "            Ti (incubation time)    = 5\n",
      "            Tr (recovery time)      = 5\n",
      "            number of contacts      = 23.9\n",
      "            P (trans. prob/contact) = 0.029288702928870293\n",
      "            Calib                   = False\n",
      "            Grid (w x h)            = 40 x 40\n",
      "            \n",
      " step 0\n",
      " step 25\n",
      " step 50\n",
      " step 75\n",
      "Done!\n",
      " Running Barrio Tortuga SEIR with 5000  turtles, for 100 steps.\n",
      "Barrio Tortuga SEIR parameters\n",
      "            number of turtles       = 5000\n",
      "            initial infected        = 10\n",
      "            fraction infected       = 0.002\n",
      "            R0                      = 3.5\n",
      "            Ti (incubation time)    = 5\n",
      "            Tr (recovery time)      = 5\n",
      "            number of contacts      = 23.9\n",
      "            P (trans. prob/contact) = 0.029288702928870293\n",
      "            Calib                   = False\n",
      "            Grid (w x h)            = 40 x 40\n",
      "            \n",
      " step 0\n",
      " step 25\n",
      " step 50\n",
      " step 75\n",
      "Done!\n",
      " Running Barrio Tortuga SEIR with 5000  turtles, for 100 steps.\n",
      "Barrio Tortuga SEIR parameters\n",
      "            number of turtles       = 5000\n",
      "            initial infected        = 10\n",
      "            fraction infected       = 0.002\n",
      "            R0                      = 3.5\n",
      "            Ti (incubation time)    = 5\n",
      "            Tr (recovery time)      = 5\n",
      "            number of contacts      = 23.9\n",
      "            P (trans. prob/contact) = 0.029288702928870293\n",
      "            Calib                   = False\n",
      "            Grid (w x h)            = 40 x 40\n",
      "            \n",
      " step 0\n",
      " step 25\n",
      " step 50\n",
      " step 75\n",
      "Done!\n",
      " Running Barrio Tortuga SEIR with 5000  turtles, for 100 steps.\n",
      "Barrio Tortuga SEIR parameters\n",
      "            number of turtles       = 5000\n",
      "            initial infected        = 10\n",
      "            fraction infected       = 0.002\n",
      "            R0                      = 3.5\n",
      "            Ti (incubation time)    = 5\n",
      "            Tr (recovery time)      = 5\n",
      "            number of contacts      = 23.9\n",
      "            P (trans. prob/contact) = 0.029288702928870293\n",
      "            Calib                   = False\n",
      "            Grid (w x h)            = 40 x 40\n",
      "            \n",
      " step 0\n",
      " step 25\n",
      " step 50\n",
      " step 75\n",
      "Done!\n",
      " Running Barrio Tortuga SEIR with 5000  turtles, for 100 steps.\n",
      "Barrio Tortuga SEIR parameters\n",
      "            number of turtles       = 5000\n",
      "            initial infected        = 10\n",
      "            fraction infected       = 0.002\n",
      "            R0                      = 3.5\n",
      "            Ti (incubation time)    = 5\n",
      "            Tr (recovery time)      = 5\n",
      "            number of contacts      = 23.9\n",
      "            P (trans. prob/contact) = 0.029288702928870293\n",
      "            Calib                   = False\n",
      "            Grid (w x h)            = 40 x 40\n",
      "            \n",
      " step 0\n",
      " step 25\n",
      " step 50\n",
      " step 75\n",
      "Done!\n",
      " Running Barrio Tortuga SEIR with 5000  turtles, for 100 steps.\n",
      "Barrio Tortuga SEIR parameters\n",
      "            number of turtles       = 5000\n",
      "            initial infected        = 10\n",
      "            fraction infected       = 0.002\n",
      "            R0                      = 3.5\n",
      "            Ti (incubation time)    = 5\n",
      "            Tr (recovery time)      = 5\n",
      "            number of contacts      = 23.9\n",
      "            P (trans. prob/contact) = 0.029288702928870293\n",
      "            Calib                   = False\n",
      "            Grid (w x h)            = 40 x 40\n",
      "            \n",
      " step 0\n",
      " step 25\n",
      " step 50\n",
      " step 75\n",
      "Done!\n",
      " Running Barrio Tortuga SEIR with 5000  turtles, for 100 steps.\n",
      "Barrio Tortuga SEIR parameters\n",
      "            number of turtles       = 5000\n",
      "            initial infected        = 10\n",
      "            fraction infected       = 0.002\n",
      "            R0                      = 3.5\n",
      "            Ti (incubation time)    = 5\n",
      "            Tr (recovery time)      = 5\n",
      "            number of contacts      = 23.9\n",
      "            P (trans. prob/contact) = 0.029288702928870293\n",
      "            Calib                   = False\n",
      "            Grid (w x h)            = 40 x 40\n",
      "            \n",
      " step 0\n",
      " step 25\n",
      " step 50\n",
      " step 75\n",
      "Done!\n",
      " Running Barrio Tortuga SEIR with 5000  turtles, for 100 steps.\n",
      "Barrio Tortuga SEIR parameters\n",
      "            number of turtles       = 5000\n",
      "            initial infected        = 10\n",
      "            fraction infected       = 0.002\n",
      "            R0                      = 3.5\n",
      "            Ti (incubation time)    = 5\n",
      "            Tr (recovery time)      = 5\n",
      "            number of contacts      = 23.9\n",
      "            P (trans. prob/contact) = 0.029288702928870293\n",
      "            Calib                   = False\n",
      "            Grid (w x h)            = 40 x 40\n",
      "            \n",
      " step 0\n",
      " step 25\n",
      " step 50\n",
      " step 75\n",
      "Done!\n",
      " Running Barrio Tortuga SEIR with 5000  turtles, for 100 steps.\n",
      "Barrio Tortuga SEIR parameters\n",
      "            number of turtles       = 5000\n",
      "            initial infected        = 10\n",
      "            fraction infected       = 0.002\n",
      "            R0                      = 3.5\n",
      "            Ti (incubation time)    = 5\n",
      "            Tr (recovery time)      = 5\n",
      "            number of contacts      = 23.9\n",
      "            P (trans. prob/contact) = 0.029288702928870293\n",
      "            Calib                   = False\n",
      "            Grid (w x h)            = 40 x 40\n",
      "            \n",
      " step 0\n",
      " step 25\n",
      " step 50\n",
      " step 75\n",
      "Done!\n",
      " Running Barrio Tortuga SEIR with 5000  turtles, for 100 steps.\n",
      "Barrio Tortuga SEIR parameters\n",
      "            number of turtles       = 5000\n",
      "            initial infected        = 10\n",
      "            fraction infected       = 0.002\n",
      "            R0                      = 3.5\n",
      "            Ti (incubation time)    = 5\n",
      "            Tr (recovery time)      = 5\n",
      "            number of contacts      = 23.9\n",
      "            P (trans. prob/contact) = 0.029288702928870293\n",
      "            Calib                   = False\n",
      "            Grid (w x h)            = 40 x 40\n",
      "            \n",
      " step 0\n",
      " step 25\n",
      " step 50\n",
      " step 75\n",
      "Done!\n",
      " Running Barrio Tortuga SEIR with 5000  turtles, for 100 steps.\n",
      "Barrio Tortuga SEIR parameters\n",
      "            number of turtles       = 5000\n",
      "            initial infected        = 10\n",
      "            fraction infected       = 0.002\n",
      "            R0                      = 3.5\n",
      "            Ti (incubation time)    = 5\n",
      "            Tr (recovery time)      = 5\n",
      "            number of contacts      = 23.9\n",
      "            P (trans. prob/contact) = 0.029288702928870293\n",
      "            Calib                   = False\n",
      "            Grid (w x h)            = 40 x 40\n",
      "            \n",
      " step 0\n",
      " step 25\n",
      " step 50\n",
      " step 75\n",
      "Done!\n",
      " Running Barrio Tortuga SEIR with 5000  turtles, for 100 steps.\n",
      "Barrio Tortuga SEIR parameters\n",
      "            number of turtles       = 5000\n",
      "            initial infected        = 10\n",
      "            fraction infected       = 0.002\n",
      "            R0                      = 3.5\n",
      "            Ti (incubation time)    = 5\n",
      "            Tr (recovery time)      = 5\n",
      "            number of contacts      = 23.9\n",
      "            P (trans. prob/contact) = 0.029288702928870293\n",
      "            Calib                   = False\n",
      "            Grid (w x h)            = 40 x 40\n",
      "            \n",
      " step 0\n",
      " step 25\n",
      " step 50\n",
      " step 75\n",
      "Done!\n",
      " Running Barrio Tortuga SEIR with 5000  turtles, for 100 steps.\n",
      "Barrio Tortuga SEIR parameters\n",
      "            number of turtles       = 5000\n",
      "            initial infected        = 10\n",
      "            fraction infected       = 0.002\n",
      "            R0                      = 3.5\n",
      "            Ti (incubation time)    = 5\n",
      "            Tr (recovery time)      = 5\n",
      "            number of contacts      = 23.9\n",
      "            P (trans. prob/contact) = 0.029288702928870293\n",
      "            Calib                   = False\n",
      "            Grid (w x h)            = 40 x 40\n",
      "            \n",
      " step 0\n",
      " step 25\n",
      " step 50\n",
      " step 75\n",
      "Done!\n",
      " Running Barrio Tortuga SEIR with 5000  turtles, for 100 steps.\n",
      "Barrio Tortuga SEIR parameters\n",
      "            number of turtles       = 5000\n",
      "            initial infected        = 10\n",
      "            fraction infected       = 0.002\n",
      "            R0                      = 3.5\n",
      "            Ti (incubation time)    = 5\n",
      "            Tr (recovery time)      = 5\n",
      "            number of contacts      = 23.9\n",
      "            P (trans. prob/contact) = 0.029288702928870293\n",
      "            Calib                   = False\n",
      "            Grid (w x h)            = 40 x 40\n",
      "            \n",
      " step 0\n",
      " step 25\n",
      " step 50\n",
      " step 75\n",
      "Done!\n",
      " Running Barrio Tortuga SEIR with 5000  turtles, for 100 steps.\n",
      "Barrio Tortuga SEIR parameters\n",
      "            number of turtles       = 5000\n",
      "            initial infected        = 10\n",
      "            fraction infected       = 0.002\n",
      "            R0                      = 3.5\n",
      "            Ti (incubation time)    = 5\n",
      "            Tr (recovery time)      = 5\n",
      "            number of contacts      = 23.9\n",
      "            P (trans. prob/contact) = 0.029288702928870293\n",
      "            Calib                   = False\n",
      "            Grid (w x h)            = 40 x 40\n",
      "            \n",
      " step 0\n",
      " step 25\n",
      " step 50\n",
      " step 75\n",
      "Done!\n"
     ]
    }
   ],
   "source": [
    "dfs5k = run_series(ns=20, steps= 100, turtles=5000, i0=10, r0 = 3.5, nc=23.9, ti = 5, tr = 5, width=40, height=40, fprint=25)"
   ]
  },
  {
   "cell_type": "code",
   "execution_count": 254,
   "metadata": {},
   "outputs": [
    {
     "data": {
      "text/plain": [
       "(46, 1002.75)"
      ]
     },
     "execution_count": 254,
     "metadata": {},
     "output_type": "execute_result"
    }
   ],
   "source": [
    "peak_position(dfs5k)"
   ]
  },
  {
   "cell_type": "code",
   "execution_count": 255,
   "metadata": {},
   "outputs": [
    {
     "data": {
      "text/plain": [
       "[<matplotlib.lines.Line2D at 0x11813f8d0>]"
      ]
     },
     "execution_count": 255,
     "metadata": {},
     "output_type": "execute_result"
    },
    {
     "data": {
      "image/png": "[encoded data removed]",
      "text/plain": [
       "<Figure size 720x576 with 1 Axes>"
      ]
     },
     "metadata": {
      "needs_background": "light"
     },
     "output_type": "display_data"
    }
   ],
   "source": [
    "plt.plot(dfs5k.index, dfs5k.NumberOfInfected )\n",
    "plt.plot(dfs5k.index, dfs5k.NumberOfExposed)"
   ]
  },
  {
   "cell_type": "code",
   "execution_count": 258,
   "metadata": {},
   "outputs": [
    {
     "data": {
      "text/plain": [
       "[<matplotlib.lines.Line2D at 0x118450250>]"
      ]
     },
     "execution_count": 258,
     "metadata": {},
     "output_type": "execute_result"
    },
    {
     "data": {
      "image/png": "[encoded data removed]",
      "text/plain": [
       "<Figure size 720x576 with 1 Axes>"
      ]
     },
     "metadata": {
      "needs_background": "light"
     },
     "output_type": "display_data"
    }
   ],
   "source": [
    "plt.plot(dfs5k.index, dfs5k.NumberOfSusceptible )\n",
    "plt.plot(dfs5k.index, dfs5k.NumberOfRecovered)"
   ]
  },
  {
   "cell_type": "code",
   "execution_count": 259,
   "metadata": {},
   "outputs": [
    {
     "data": {
      "text/plain": [
       "[<matplotlib.lines.Line2D at 0x11aa206d0>]"
      ]
     },
     "execution_count": 259,
     "metadata": {},
     "output_type": "execute_result"
    },
    {
     "data": {
      "image/png": "[encoded data removed]",
      "text/plain": [
       "<Figure size 720x576 with 1 Axes>"
      ]
     },
     "metadata": {
      "needs_background": "light"
     },
     "output_type": "display_data"
    }
   ],
   "source": [
    "plt.plot(T, R0)"
   ]
  },
  {
   "cell_type": "code",
   "execution_count": null,
   "metadata": {},
   "outputs": [],
   "source": []
  },
  {
   "cell_type": "code",
   "execution_count": 256,
   "metadata": {},
   "outputs": [],
   "source": [
    "T, R0 = r0(dfs5k, tmax=6)"
   ]
  },
  {
   "cell_type": "code",
   "execution_count": 257,
   "metadata": {},
   "outputs": [
    {
     "data": {
      "text/plain": [
       "3.2409595971180964"
      ]
     },
     "execution_count": 257,
     "metadata": {},
     "output_type": "execute_result"
    }
   ],
   "source": [
    "np.mean(R0)"
   ]
  },
  {
   "cell_type": "markdown",
   "metadata": {},
   "source": [
    "## 10,0000 turtles"
   ]
  },
  {
   "cell_type": "code",
   "execution_count": 436,
   "metadata": {},
   "outputs": [
    {
     "name": "stdout",
     "output_type": "stream",
     "text": [
      "for turtles = 10000, area = 1600, NC =54.6875\n"
     ]
    }
   ],
   "source": [
    "turtles = 10000\n",
    "infected = 100\n",
    "susceptibles = turtles - infected\n",
    "width=40\n",
    "height=40\n",
    "ncc = 9\n",
    "a = width * height\n",
    "NC = (ncc * susceptibles / a ) -1 \n",
    "print(f'for turtles = {turtles}, area = {a}, NC ={NC}')"
   ]
  },
  {
   "cell_type": "code",
   "execution_count": 440,
   "metadata": {},
   "outputs": [
    {
     "name": "stdout",
     "output_type": "stream",
     "text": [
      " Running Barrio Tortuga SEIR with 10000  turtles, for 100 steps.\n",
      "Barrio Tortuga SEIR parameters\n",
      "            number of turtles       = 10000\n",
      "            initial infected        = 100\n",
      "            fraction infected       = 0.01\n",
      "            R0                      = 3.5\n",
      "            Ti (incubation time)    = 5\n",
      "            Tr (recovery time)      = 5\n",
      "            number of contacts      = 54.6875\n",
      "            P (trans. prob/contact) = 0.0128\n",
      "            Calib                   = False\n",
      "            Grid (w x h)            = 40 x 40\n",
      "            \n",
      " step 0\n",
      " step 25\n",
      " step 50\n",
      " step 75\n",
      "Done!\n"
     ]
    }
   ],
   "source": [
    "dft10k = run_turtles_calib(steps= 100, turtles=10000, i0=100, r0 = 3.5, nc=NC, ti = 5, tr = 5, width=40, height=40, calib=False, prtl=PrtLvl.Concise, fprint=25)"
   ]
  },
  {
   "cell_type": "code",
   "execution_count": 441,
   "metadata": {},
   "outputs": [
    {
     "data": {
      "text/html": [
       "<div>\n",
       "<style scoped>\n",
       "    .dataframe tbody tr th:only-of-type {\n",
       "        vertical-align: middle;\n",
       "    }\n",
       "\n",
       "    .dataframe tbody tr th {\n",
       "        vertical-align: top;\n",
       "    }\n",
       "\n",
       "    .dataframe thead th {\n",
       "        text-align: right;\n",
       "    }\n",
       "</style>\n",
       "<table border=\"1\" class=\"dataframe\">\n",
       "  <thead>\n",
       "    <tr style=\"text-align: right;\">\n",
       "      <th></th>\n",
       "      <th>NumberOfInfected</th>\n",
       "      <th>NumberOfSusceptible</th>\n",
       "      <th>NumberOfRecovered</th>\n",
       "      <th>NumberOfExposed</th>\n",
       "    </tr>\n",
       "  </thead>\n",
       "  <tbody>\n",
       "    <tr>\n",
       "      <th>0</th>\n",
       "      <td>100</td>\n",
       "      <td>9900</td>\n",
       "      <td>0</td>\n",
       "      <td>0</td>\n",
       "    </tr>\n",
       "    <tr>\n",
       "      <th>1</th>\n",
       "      <td>100</td>\n",
       "      <td>9827</td>\n",
       "      <td>0</td>\n",
       "      <td>73</td>\n",
       "    </tr>\n",
       "    <tr>\n",
       "      <th>2</th>\n",
       "      <td>100</td>\n",
       "      <td>9759</td>\n",
       "      <td>0</td>\n",
       "      <td>141</td>\n",
       "    </tr>\n",
       "    <tr>\n",
       "      <th>3</th>\n",
       "      <td>100</td>\n",
       "      <td>9694</td>\n",
       "      <td>0</td>\n",
       "      <td>206</td>\n",
       "    </tr>\n",
       "    <tr>\n",
       "      <th>4</th>\n",
       "      <td>100</td>\n",
       "      <td>9621</td>\n",
       "      <td>0</td>\n",
       "      <td>279</td>\n",
       "    </tr>\n",
       "  </tbody>\n",
       "</table>\n",
       "</div>"
      ],
      "text/plain": [
       "   NumberOfInfected  NumberOfSusceptible  NumberOfRecovered  NumberOfExposed\n",
       "0               100                 9900                  0                0\n",
       "1               100                 9827                  0               73\n",
       "2               100                 9759                  0              141\n",
       "3               100                 9694                  0              206\n",
       "4               100                 9621                  0              279"
      ]
     },
     "execution_count": 441,
     "metadata": {},
     "output_type": "execute_result"
    }
   ],
   "source": [
    "dft10k.head()"
   ]
  },
  {
   "cell_type": "code",
   "execution_count": 447,
   "metadata": {},
   "outputs": [],
   "source": [
    "dft10k.to_csv('seir10k.csv')"
   ]
  },
  {
   "cell_type": "code",
   "execution_count": null,
   "metadata": {},
   "outputs": [],
   "source": []
  },
  {
   "cell_type": "code",
   "execution_count": 367,
   "metadata": {},
   "outputs": [
    {
     "name": "stdout",
     "output_type": "stream",
     "text": [
      " Running Barrio Tortuga SEIR with 10000  turtles, for 100 steps.\n",
      "Barrio Tortuga SEIR parameters\n",
      "            number of turtles       = 10000\n",
      "            initial infected        = 100\n",
      "            fraction infected       = 0.01\n",
      "            R0                      = 3.5\n",
      "            Ti (incubation time)    = 5\n",
      "            Tr (recovery time)      = 5\n",
      "            number of contacts      = 56.13683168316832\n",
      "            P (trans. prob/contact) = 0.012469531660617091\n",
      "            Calib                   = False\n",
      "            Grid (w x h)            = 40 x 40\n",
      "            \n",
      " step 0\n",
      " step 25\n",
      " step 50\n",
      " step 75\n",
      "Done!\n"
     ]
    }
   ],
   "source": [
    "dft10k = run_turtles_calib(steps= 100, turtles=10000, i0=100, r0 = 3.5, nc=NC10k, ti = 5, tr = 5, width=40, height=40, calib=False, prtl=PrtLvl.Concise, fprint=25)"
   ]
  },
  {
   "cell_type": "code",
   "execution_count": 442,
   "metadata": {},
   "outputs": [
    {
     "data": {
      "text/plain": [
       "[<matplotlib.lines.Line2D at 0x11d1ab790>]"
      ]
     },
     "execution_count": 442,
     "metadata": {},
     "output_type": "execute_result"
    },
    {
     "data": {
      "image/png": "[encoded data removed]",
      "text/plain": [
       "<Figure size 720x576 with 1 Axes>"
      ]
     },
     "metadata": {
      "needs_background": "light"
     },
     "output_type": "display_data"
    }
   ],
   "source": [
    "plt.plot(dft10k.index, dft10k.NumberOfSusceptible )\n",
    "plt.plot(dft10k.index, dft10k.NumberOfRecovered)"
   ]
  },
  {
   "cell_type": "code",
   "execution_count": 443,
   "metadata": {},
   "outputs": [
    {
     "data": {
      "text/plain": [
       "[<matplotlib.lines.Line2D at 0x11c706790>]"
      ]
     },
     "execution_count": 443,
     "metadata": {},
     "output_type": "execute_result"
    },
    {
     "data": {
      "image/png": "[encoded data removed]",
      "text/plain": [
       "<Figure size 720x576 with 1 Axes>"
      ]
     },
     "metadata": {
      "needs_background": "light"
     },
     "output_type": "display_data"
    }
   ],
   "source": [
    "plt.plot(dft10k.index, dft10k.NumberOfInfected )\n",
    "plt.plot(dft10k.index, dft10k.NumberOfExposed)"
   ]
  },
  {
   "cell_type": "code",
   "execution_count": 444,
   "metadata": {},
   "outputs": [
    {
     "data": {
      "text/plain": [
       "(32, 2877)"
      ]
     },
     "execution_count": 444,
     "metadata": {},
     "output_type": "execute_result"
    }
   ],
   "source": [
    "peak_position(dft10k)"
   ]
  },
  {
   "cell_type": "code",
   "execution_count": 445,
   "metadata": {},
   "outputs": [],
   "source": [
    "T, R0 = r0(dft10k, tmax=6)"
   ]
  },
  {
   "cell_type": "code",
   "execution_count": 446,
   "metadata": {},
   "outputs": [
    {
     "data": {
      "text/plain": [
       "[<matplotlib.lines.Line2D at 0x119c05650>]"
      ]
     },
     "execution_count": 446,
     "metadata": {},
     "output_type": "execute_result"
    },
    {
     "data": {
      "image/png": "[encoded data removed]",
      "text/plain": [
       "<Figure size 720x576 with 1 Axes>"
      ]
     },
     "metadata": {
      "needs_background": "light"
     },
     "output_type": "display_data"
    }
   ],
   "source": [
    "plt.plot(T, R0)"
   ]
  },
  {
   "cell_type": "code",
   "execution_count": 347,
   "metadata": {},
   "outputs": [
    {
     "data": {
      "text/html": [
       "<div>\n",
       "<style scoped>\n",
       "    .dataframe tbody tr th:only-of-type {\n",
       "        vertical-align: middle;\n",
       "    }\n",
       "\n",
       "    .dataframe tbody tr th {\n",
       "        vertical-align: top;\n",
       "    }\n",
       "\n",
       "    .dataframe thead th {\n",
       "        text-align: right;\n",
       "    }\n",
       "</style>\n",
       "<table border=\"1\" class=\"dataframe\">\n",
       "  <thead>\n",
       "    <tr style=\"text-align: right;\">\n",
       "      <th></th>\n",
       "      <th>NumberOfInfected</th>\n",
       "      <th>NumberOfSusceptible</th>\n",
       "      <th>NumberOfRecovered</th>\n",
       "      <th>NumberOfExposed</th>\n",
       "    </tr>\n",
       "  </thead>\n",
       "  <tbody>\n",
       "    <tr>\n",
       "      <th>0</th>\n",
       "      <td>100</td>\n",
       "      <td>9900</td>\n",
       "      <td>0</td>\n",
       "      <td>0</td>\n",
       "    </tr>\n",
       "    <tr>\n",
       "      <th>1</th>\n",
       "      <td>100</td>\n",
       "      <td>9815</td>\n",
       "      <td>0</td>\n",
       "      <td>85</td>\n",
       "    </tr>\n",
       "    <tr>\n",
       "      <th>2</th>\n",
       "      <td>100</td>\n",
       "      <td>9748</td>\n",
       "      <td>0</td>\n",
       "      <td>152</td>\n",
       "    </tr>\n",
       "    <tr>\n",
       "      <th>3</th>\n",
       "      <td>100</td>\n",
       "      <td>9690</td>\n",
       "      <td>0</td>\n",
       "      <td>210</td>\n",
       "    </tr>\n",
       "    <tr>\n",
       "      <th>4</th>\n",
       "      <td>100</td>\n",
       "      <td>9633</td>\n",
       "      <td>0</td>\n",
       "      <td>267</td>\n",
       "    </tr>\n",
       "  </tbody>\n",
       "</table>\n",
       "</div>"
      ],
      "text/plain": [
       "   NumberOfInfected  NumberOfSusceptible  NumberOfRecovered  NumberOfExposed\n",
       "0               100                 9900                  0                0\n",
       "1               100                 9815                  0               85\n",
       "2               100                 9748                  0              152\n",
       "3               100                 9690                  0              210\n",
       "4               100                 9633                  0              267"
      ]
     },
     "execution_count": 347,
     "metadata": {},
     "output_type": "execute_result"
    }
   ],
   "source": [
    "dft10k.head()"
   ]
  },
  {
   "cell_type": "code",
   "execution_count": null,
   "metadata": {},
   "outputs": [],
   "source": []
  },
  {
   "cell_type": "code",
   "execution_count": 346,
   "metadata": {},
   "outputs": [
    {
     "name": "stdout",
     "output_type": "stream",
     "text": [
      " Running Barrio Tortuga SEIR with 10000  turtles, for 100 steps.\n",
      " step 0\n",
      " step 25\n",
      " step 50\n",
      " step 75\n",
      "Done!\n",
      " Running Barrio Tortuga SEIR with 10000  turtles, for 100 steps.\n",
      " step 0\n",
      " step 25\n",
      " step 50\n",
      " step 75\n",
      "Done!\n",
      " Running Barrio Tortuga SEIR with 10000  turtles, for 100 steps.\n",
      " step 0\n",
      " step 25\n",
      " step 50\n",
      " step 75\n",
      "Done!\n",
      " Running Barrio Tortuga SEIR with 10000  turtles, for 100 steps.\n",
      " step 0\n",
      " step 25\n",
      " step 50\n",
      " step 75\n",
      "Done!\n",
      " Running Barrio Tortuga SEIR with 10000  turtles, for 100 steps.\n",
      " step 0\n",
      " step 25\n",
      " step 50\n",
      " step 75\n",
      "Done!\n",
      " Running Barrio Tortuga SEIR with 10000  turtles, for 100 steps.\n",
      " step 0\n",
      " step 25\n",
      " step 50\n",
      " step 75\n",
      "Done!\n",
      " Running Barrio Tortuga SEIR with 10000  turtles, for 100 steps.\n",
      " step 0\n",
      " step 25\n",
      " step 50\n",
      " step 75\n",
      "Done!\n",
      " Running Barrio Tortuga SEIR with 10000  turtles, for 100 steps.\n",
      " step 0\n",
      " step 25\n",
      " step 50\n",
      " step 75\n",
      "Done!\n",
      " Running Barrio Tortuga SEIR with 10000  turtles, for 100 steps.\n",
      " step 0\n",
      " step 25\n",
      " step 50\n",
      " step 75\n",
      "Done!\n",
      " Running Barrio Tortuga SEIR with 10000  turtles, for 100 steps.\n",
      " step 0\n",
      " step 25\n",
      " step 50\n",
      " step 75\n",
      "Done!\n",
      " Running Barrio Tortuga SEIR with 10000  turtles, for 100 steps.\n",
      " step 0\n",
      " step 25\n",
      " step 50\n",
      " step 75\n",
      "Done!\n",
      " Running Barrio Tortuga SEIR with 10000  turtles, for 100 steps.\n",
      " step 0\n",
      " step 25\n",
      " step 50\n",
      " step 75\n",
      "Done!\n",
      " Running Barrio Tortuga SEIR with 10000  turtles, for 100 steps.\n",
      " step 0\n",
      " step 25\n",
      " step 50\n",
      " step 75\n",
      "Done!\n",
      " Running Barrio Tortuga SEIR with 10000  turtles, for 100 steps.\n",
      " step 0\n",
      " step 25\n",
      " step 50\n",
      " step 75\n",
      "Done!\n",
      " Running Barrio Tortuga SEIR with 10000  turtles, for 100 steps.\n",
      " step 0\n",
      " step 25\n",
      " step 50\n",
      " step 75\n",
      "Done!\n",
      " Running Barrio Tortuga SEIR with 10000  turtles, for 100 steps.\n",
      " step 0\n",
      " step 25\n",
      " step 50\n",
      " step 75\n",
      "Done!\n",
      " Running Barrio Tortuga SEIR with 10000  turtles, for 100 steps.\n",
      " step 0\n",
      " step 25\n",
      " step 50\n",
      " step 75\n",
      "Done!\n",
      " Running Barrio Tortuga SEIR with 10000  turtles, for 100 steps.\n",
      " step 0\n",
      " step 25\n",
      " step 50\n",
      " step 75\n",
      "Done!\n",
      " Running Barrio Tortuga SEIR with 10000  turtles, for 100 steps.\n",
      " step 0\n",
      " step 25\n",
      " step 50\n",
      " step 75\n",
      "Done!\n",
      " Running Barrio Tortuga SEIR with 10000  turtles, for 100 steps.\n",
      " step 0\n",
      " step 25\n",
      " step 50\n",
      " step 75\n",
      "Done!\n"
     ]
    }
   ],
   "source": [
    "dfs10k = run_series(ns=20, steps= 100, turtles=10000, i0=100, r0 = 3.5, nc=NC10k, ti = 5, tr = 5, width=40, height=40, fprint=25)"
   ]
  },
  {
   "cell_type": "code",
   "execution_count": 348,
   "metadata": {},
   "outputs": [
    {
     "data": {
      "text/plain": [
       "[<matplotlib.lines.Line2D at 0x11cf5d290>]"
      ]
     },
     "execution_count": 348,
     "metadata": {},
     "output_type": "execute_result"
    },
    {
     "data": {
      "image/png": "[encoded data removed]",
      "text/plain": [
       "<Figure size 720x576 with 1 Axes>"
      ]
     },
     "metadata": {
      "needs_background": "light"
     },
     "output_type": "display_data"
    }
   ],
   "source": [
    "plt.plot(dfs10k.index, dfs10k.NumberOfInfected )\n",
    "plt.plot(dfs10k.index, dfs10k.NumberOfExposed)"
   ]
  },
  {
   "cell_type": "code",
   "execution_count": 349,
   "metadata": {},
   "outputs": [
    {
     "data": {
      "text/plain": [
       "[<matplotlib.lines.Line2D at 0x11a5f1490>]"
      ]
     },
     "execution_count": 349,
     "metadata": {},
     "output_type": "execute_result"
    },
    {
     "data": {
      "image/png": "[encoded data removed]",
      "text/plain": [
       "<Figure size 720x576 with 1 Axes>"
      ]
     },
     "metadata": {
      "needs_background": "light"
     },
     "output_type": "display_data"
    }
   ],
   "source": [
    "plt.plot(dfs10k.index, dfs10k.NumberOfInfected )\n",
    "plt.plot(dft10k.index, dft10k.NumberOfInfected )"
   ]
  },
  {
   "cell_type": "code",
   "execution_count": 352,
   "metadata": {},
   "outputs": [
    {
     "data": {
      "text/plain": [
       "(31, 2526)"
      ]
     },
     "execution_count": 352,
     "metadata": {},
     "output_type": "execute_result"
    }
   ],
   "source": [
    "peak_position(dft10k)"
   ]
  },
  {
   "cell_type": "code",
   "execution_count": 353,
   "metadata": {},
   "outputs": [
    {
     "data": {
      "text/plain": [
       "(34, 2606.75)"
      ]
     },
     "execution_count": 353,
     "metadata": {},
     "output_type": "execute_result"
    }
   ],
   "source": [
    "peak_position(dfs10k)"
   ]
  },
  {
   "cell_type": "code",
   "execution_count": 356,
   "metadata": {},
   "outputs": [],
   "source": [
    "dfs10k.to_csv('seir10k.csv')"
   ]
  },
  {
   "cell_type": "code",
   "execution_count": 360,
   "metadata": {},
   "outputs": [],
   "source": [
    "def run_series_csv(ns=100, steps= 100, turtles=1000, i0=10, r0 = 3.5, nc=2.3, ti = 5, tr = 5, width=40, height=40,fprint=25):\n",
    "    DFT = [run_turtles_calib(steps, turtles, i0, r0, nc, ti, tr, width, height, False, PrtLvl.Mute, fprint) for i in range(ns)]\n",
    "    \n",
    "    for i in range(len(DFT)):\n",
    "        file=f'Turtles_n_{turtles}_i0_{i0}_r0_{r0}_ti_{ti}_tr_{tr}_run_{i}'\n",
    "        DFT[i].to_csv(file)\n",
    "        \n",
    "    df = pd.concat(DFT)\n",
    "    file=f'Turtles_n_{turtles}_i0_{i0}_r0_{r0}_ti_{ti}_tr_{tr}_run_average'\n",
    "    df.to_csv(file)\n",
    "    \n",
    "    return df.groupby(df.index).mean()\n"
   ]
  },
  {
   "cell_type": "code",
   "execution_count": 364,
   "metadata": {},
   "outputs": [
    {
     "name": "stdout",
     "output_type": "stream",
     "text": [
      " Running Barrio Tortuga SEIR with 10000  turtles, for 100 steps.\n",
      " step 0\n",
      " step 25\n",
      " step 50\n",
      " step 75\n",
      "Done!\n",
      " Running Barrio Tortuga SEIR with 10000  turtles, for 100 steps.\n",
      " step 0\n",
      " step 25\n",
      " step 50\n",
      " step 75\n",
      "Done!\n",
      " Running Barrio Tortuga SEIR with 10000  turtles, for 100 steps.\n",
      " step 0\n",
      " step 25\n",
      " step 50\n",
      " step 75\n",
      "Done!\n",
      " Running Barrio Tortuga SEIR with 10000  turtles, for 100 steps.\n",
      " step 0\n",
      " step 25\n",
      " step 50\n",
      " step 75\n",
      "Done!\n",
      " Running Barrio Tortuga SEIR with 10000  turtles, for 100 steps.\n",
      " step 0\n",
      " step 25\n",
      " step 50\n",
      " step 75\n",
      "Done!\n",
      " Running Barrio Tortuga SEIR with 10000  turtles, for 100 steps.\n",
      " step 0\n",
      " step 25\n",
      " step 50\n",
      " step 75\n",
      "Done!\n",
      " Running Barrio Tortuga SEIR with 10000  turtles, for 100 steps.\n",
      " step 0\n",
      " step 25\n",
      " step 50\n",
      " step 75\n",
      "Done!\n",
      " Running Barrio Tortuga SEIR with 10000  turtles, for 100 steps.\n",
      " step 0\n",
      " step 25\n",
      " step 50\n",
      " step 75\n",
      "Done!\n",
      " Running Barrio Tortuga SEIR with 10000  turtles, for 100 steps.\n",
      " step 0\n",
      " step 25\n",
      " step 50\n",
      " step 75\n",
      "Done!\n",
      " Running Barrio Tortuga SEIR with 10000  turtles, for 100 steps.\n",
      " step 0\n",
      " step 25\n",
      " step 50\n",
      " step 75\n",
      "Done!\n",
      " Running Barrio Tortuga SEIR with 10000  turtles, for 100 steps.\n",
      " step 0\n",
      " step 25\n",
      " step 50\n",
      " step 75\n",
      "Done!\n",
      " Running Barrio Tortuga SEIR with 10000  turtles, for 100 steps.\n",
      " step 0\n",
      " step 25\n",
      " step 50\n",
      " step 75\n",
      "Done!\n",
      " Running Barrio Tortuga SEIR with 10000  turtles, for 100 steps.\n",
      " step 0\n",
      " step 25\n",
      " step 50\n",
      " step 75\n",
      "Done!\n",
      " Running Barrio Tortuga SEIR with 10000  turtles, for 100 steps.\n",
      " step 0\n",
      " step 25\n",
      " step 50\n",
      " step 75\n",
      "Done!\n",
      " Running Barrio Tortuga SEIR with 10000  turtles, for 100 steps.\n",
      " step 0\n",
      " step 25\n",
      " step 50\n",
      " step 75\n",
      "Done!\n",
      " Running Barrio Tortuga SEIR with 10000  turtles, for 100 steps.\n",
      " step 0\n",
      " step 25\n",
      " step 50\n",
      " step 75\n",
      "Done!\n",
      " Running Barrio Tortuga SEIR with 10000  turtles, for 100 steps.\n",
      " step 0\n",
      " step 25\n",
      " step 50\n",
      " step 75\n",
      "Done!\n",
      " Running Barrio Tortuga SEIR with 10000  turtles, for 100 steps.\n",
      " step 0\n",
      " step 25\n",
      " step 50\n",
      " step 75\n",
      "Done!\n",
      " Running Barrio Tortuga SEIR with 10000  turtles, for 100 steps.\n",
      " step 0\n",
      " step 25\n",
      " step 50\n",
      " step 75\n",
      "Done!\n",
      " Running Barrio Tortuga SEIR with 10000  turtles, for 100 steps.\n",
      " step 0\n",
      " step 25\n",
      " step 50\n",
      " step 75\n",
      "Done!\n",
      " Running Barrio Tortuga SEIR with 10000  turtles, for 100 steps.\n",
      " step 0\n",
      " step 25\n",
      " step 50\n",
      " step 75\n",
      "Done!\n",
      " Running Barrio Tortuga SEIR with 10000  turtles, for 100 steps.\n",
      " step 0\n",
      " step 25\n",
      " step 50\n",
      " step 75\n",
      "Done!\n",
      " Running Barrio Tortuga SEIR with 10000  turtles, for 100 steps.\n",
      " step 0\n",
      " step 25\n",
      " step 50\n",
      " step 75\n",
      "Done!\n",
      " Running Barrio Tortuga SEIR with 10000  turtles, for 100 steps.\n",
      " step 0\n",
      " step 25\n",
      " step 50\n",
      " step 75\n",
      "Done!\n",
      " Running Barrio Tortuga SEIR with 10000  turtles, for 100 steps.\n",
      " step 0\n",
      " step 25\n",
      " step 50\n",
      " step 75\n",
      "Done!\n",
      " Running Barrio Tortuga SEIR with 10000  turtles, for 100 steps.\n",
      " step 0\n",
      " step 25\n",
      " step 50\n",
      " step 75\n",
      "Done!\n",
      " Running Barrio Tortuga SEIR with 10000  turtles, for 100 steps.\n",
      " step 0\n",
      " step 25\n",
      " step 50\n",
      " step 75\n",
      "Done!\n",
      " Running Barrio Tortuga SEIR with 10000  turtles, for 100 steps.\n",
      " step 0\n",
      " step 25\n",
      " step 50\n",
      " step 75\n",
      "Done!\n",
      " Running Barrio Tortuga SEIR with 10000  turtles, for 100 steps.\n",
      " step 0\n",
      " step 25\n",
      " step 50\n",
      " step 75\n",
      "Done!\n",
      " Running Barrio Tortuga SEIR with 10000  turtles, for 100 steps.\n",
      " step 0\n",
      " step 25\n",
      " step 50\n",
      " step 75\n",
      "Done!\n",
      " Running Barrio Tortuga SEIR with 10000  turtles, for 100 steps.\n",
      " step 0\n",
      " step 25\n",
      " step 50\n",
      " step 75\n",
      "Done!\n",
      " Running Barrio Tortuga SEIR with 10000  turtles, for 100 steps.\n",
      " step 0\n",
      " step 25\n",
      " step 50\n",
      " step 75\n",
      "Done!\n",
      " Running Barrio Tortuga SEIR with 10000  turtles, for 100 steps.\n",
      " step 0\n",
      " step 25\n",
      " step 50\n",
      " step 75\n",
      "Done!\n",
      " Running Barrio Tortuga SEIR with 10000  turtles, for 100 steps.\n",
      " step 0\n",
      " step 25\n",
      " step 50\n",
      " step 75\n",
      "Done!\n",
      " Running Barrio Tortuga SEIR with 10000  turtles, for 100 steps.\n",
      " step 0\n",
      " step 25\n",
      " step 50\n",
      " step 75\n",
      "Done!\n",
      " Running Barrio Tortuga SEIR with 10000  turtles, for 100 steps.\n",
      " step 0\n",
      " step 25\n",
      " step 50\n",
      " step 75\n",
      "Done!\n",
      " Running Barrio Tortuga SEIR with 10000  turtles, for 100 steps.\n",
      " step 0\n",
      " step 25\n",
      " step 50\n",
      " step 75\n",
      "Done!\n",
      " Running Barrio Tortuga SEIR with 10000  turtles, for 100 steps.\n",
      " step 0\n",
      " step 25\n",
      " step 50\n",
      " step 75\n",
      "Done!\n",
      " Running Barrio Tortuga SEIR with 10000  turtles, for 100 steps.\n",
      " step 0\n",
      " step 25\n",
      " step 50\n",
      " step 75\n",
      "Done!\n",
      " Running Barrio Tortuga SEIR with 10000  turtles, for 100 steps.\n",
      " step 0\n",
      " step 25\n",
      " step 50\n",
      " step 75\n",
      "Done!\n",
      " Running Barrio Tortuga SEIR with 10000  turtles, for 100 steps.\n",
      " step 0\n",
      " step 25\n",
      " step 50\n",
      " step 75\n",
      "Done!\n",
      " Running Barrio Tortuga SEIR with 10000  turtles, for 100 steps.\n",
      " step 0\n",
      " step 25\n",
      " step 50\n",
      " step 75\n",
      "Done!\n",
      " Running Barrio Tortuga SEIR with 10000  turtles, for 100 steps.\n",
      " step 0\n",
      " step 25\n",
      " step 50\n",
      " step 75\n",
      "Done!\n",
      " Running Barrio Tortuga SEIR with 10000  turtles, for 100 steps.\n",
      " step 0\n",
      " step 25\n",
      " step 50\n",
      " step 75\n",
      "Done!\n",
      " Running Barrio Tortuga SEIR with 10000  turtles, for 100 steps.\n",
      " step 0\n",
      " step 25\n",
      " step 50\n",
      " step 75\n",
      "Done!\n",
      " Running Barrio Tortuga SEIR with 10000  turtles, for 100 steps.\n",
      " step 0\n",
      " step 25\n",
      " step 50\n",
      " step 75\n",
      "Done!\n",
      " Running Barrio Tortuga SEIR with 10000  turtles, for 100 steps.\n",
      " step 0\n",
      " step 25\n",
      " step 50\n",
      " step 75\n",
      "Done!\n",
      " Running Barrio Tortuga SEIR with 10000  turtles, for 100 steps.\n",
      " step 0\n",
      " step 25\n",
      " step 50\n",
      " step 75\n",
      "Done!\n",
      " Running Barrio Tortuga SEIR with 10000  turtles, for 100 steps.\n",
      " step 0\n",
      " step 25\n",
      " step 50\n",
      " step 75\n",
      "Done!\n",
      " Running Barrio Tortuga SEIR with 10000  turtles, for 100 steps.\n",
      " step 0\n",
      " step 25\n",
      " step 50\n",
      " step 75\n",
      "Done!\n",
      " Running Barrio Tortuga SEIR with 10000  turtles, for 100 steps.\n",
      " step 0\n",
      " step 25\n",
      " step 50\n",
      " step 75\n",
      "Done!\n",
      " Running Barrio Tortuga SEIR with 10000  turtles, for 100 steps.\n",
      " step 0\n",
      " step 25\n",
      " step 50\n",
      " step 75\n",
      "Done!\n",
      " Running Barrio Tortuga SEIR with 10000  turtles, for 100 steps.\n",
      " step 0\n",
      " step 25\n",
      " step 50\n",
      " step 75\n",
      "Done!\n",
      " Running Barrio Tortuga SEIR with 10000  turtles, for 100 steps.\n",
      " step 0\n",
      " step 25\n",
      " step 50\n",
      " step 75\n",
      "Done!\n",
      " Running Barrio Tortuga SEIR with 10000  turtles, for 100 steps.\n",
      " step 0\n",
      " step 25\n",
      " step 50\n",
      " step 75\n",
      "Done!\n",
      " Running Barrio Tortuga SEIR with 10000  turtles, for 100 steps.\n",
      " step 0\n",
      " step 25\n",
      " step 50\n",
      " step 75\n",
      "Done!\n",
      " Running Barrio Tortuga SEIR with 10000  turtles, for 100 steps.\n",
      " step 0\n",
      " step 25\n",
      " step 50\n",
      " step 75\n",
      "Done!\n",
      " Running Barrio Tortuga SEIR with 10000  turtles, for 100 steps.\n",
      " step 0\n",
      " step 25\n",
      " step 50\n",
      " step 75\n",
      "Done!\n",
      " Running Barrio Tortuga SEIR with 10000  turtles, for 100 steps.\n",
      " step 0\n",
      " step 25\n",
      " step 50\n",
      " step 75\n",
      "Done!\n",
      " Running Barrio Tortuga SEIR with 10000  turtles, for 100 steps.\n",
      " step 0\n",
      " step 25\n",
      " step 50\n",
      " step 75\n",
      "Done!\n",
      " Running Barrio Tortuga SEIR with 10000  turtles, for 100 steps.\n",
      " step 0\n",
      " step 25\n",
      " step 50\n",
      " step 75\n",
      "Done!\n",
      " Running Barrio Tortuga SEIR with 10000  turtles, for 100 steps.\n",
      " step 0\n",
      " step 25\n",
      " step 50\n",
      " step 75\n",
      "Done!\n",
      " Running Barrio Tortuga SEIR with 10000  turtles, for 100 steps.\n",
      " step 0\n",
      " step 25\n",
      " step 50\n",
      " step 75\n",
      "Done!\n",
      " Running Barrio Tortuga SEIR with 10000  turtles, for 100 steps.\n",
      " step 0\n",
      " step 25\n",
      " step 50\n",
      " step 75\n",
      "Done!\n",
      " Running Barrio Tortuga SEIR with 10000  turtles, for 100 steps.\n",
      " step 0\n",
      " step 25\n",
      " step 50\n",
      " step 75\n",
      "Done!\n",
      " Running Barrio Tortuga SEIR with 10000  turtles, for 100 steps.\n",
      " step 0\n",
      " step 25\n",
      " step 50\n",
      " step 75\n",
      "Done!\n",
      " Running Barrio Tortuga SEIR with 10000  turtles, for 100 steps.\n",
      " step 0\n",
      " step 25\n",
      " step 50\n",
      " step 75\n",
      "Done!\n",
      " Running Barrio Tortuga SEIR with 10000  turtles, for 100 steps.\n",
      " step 0\n",
      " step 25\n",
      " step 50\n",
      " step 75\n",
      "Done!\n",
      " Running Barrio Tortuga SEIR with 10000  turtles, for 100 steps.\n",
      " step 0\n",
      " step 25\n",
      " step 50\n",
      " step 75\n",
      "Done!\n",
      " Running Barrio Tortuga SEIR with 10000  turtles, for 100 steps.\n",
      " step 0\n",
      " step 25\n",
      " step 50\n",
      " step 75\n",
      "Done!\n",
      " Running Barrio Tortuga SEIR with 10000  turtles, for 100 steps.\n",
      " step 0\n",
      " step 25\n",
      " step 50\n",
      " step 75\n",
      "Done!\n",
      " Running Barrio Tortuga SEIR with 10000  turtles, for 100 steps.\n",
      " step 0\n",
      " step 25\n",
      " step 50\n",
      " step 75\n",
      "Done!\n",
      " Running Barrio Tortuga SEIR with 10000  turtles, for 100 steps.\n",
      " step 0\n",
      " step 25\n",
      " step 50\n",
      " step 75\n",
      "Done!\n",
      " Running Barrio Tortuga SEIR with 10000  turtles, for 100 steps.\n",
      " step 0\n",
      " step 25\n",
      " step 50\n",
      " step 75\n",
      "Done!\n",
      " Running Barrio Tortuga SEIR with 10000  turtles, for 100 steps.\n",
      " step 0\n",
      " step 25\n",
      " step 50\n",
      " step 75\n",
      "Done!\n",
      " Running Barrio Tortuga SEIR with 10000  turtles, for 100 steps.\n",
      " step 0\n",
      " step 25\n",
      " step 50\n",
      " step 75\n",
      "Done!\n",
      " Running Barrio Tortuga SEIR with 10000  turtles, for 100 steps.\n",
      " step 0\n",
      " step 25\n",
      " step 50\n",
      " step 75\n",
      "Done!\n",
      " Running Barrio Tortuga SEIR with 10000  turtles, for 100 steps.\n",
      " step 0\n",
      " step 25\n",
      " step 50\n",
      " step 75\n",
      "Done!\n",
      " Running Barrio Tortuga SEIR with 10000  turtles, for 100 steps.\n",
      " step 0\n",
      " step 25\n",
      " step 50\n",
      " step 75\n",
      "Done!\n",
      " Running Barrio Tortuga SEIR with 10000  turtles, for 100 steps.\n",
      " step 0\n",
      " step 25\n",
      " step 50\n",
      " step 75\n",
      "Done!\n",
      " Running Barrio Tortuga SEIR with 10000  turtles, for 100 steps.\n",
      " step 0\n",
      " step 25\n",
      " step 50\n",
      " step 75\n",
      "Done!\n",
      " Running Barrio Tortuga SEIR with 10000  turtles, for 100 steps.\n",
      " step 0\n",
      " step 25\n",
      " step 50\n",
      " step 75\n",
      "Done!\n",
      " Running Barrio Tortuga SEIR with 10000  turtles, for 100 steps.\n",
      " step 0\n",
      " step 25\n",
      " step 50\n",
      " step 75\n",
      "Done!\n",
      " Running Barrio Tortuga SEIR with 10000  turtles, for 100 steps.\n",
      " step 0\n",
      " step 25\n",
      " step 50\n",
      " step 75\n",
      "Done!\n",
      " Running Barrio Tortuga SEIR with 10000  turtles, for 100 steps.\n",
      " step 0\n",
      " step 25\n",
      " step 50\n",
      " step 75\n",
      "Done!\n",
      " Running Barrio Tortuga SEIR with 10000  turtles, for 100 steps.\n",
      " step 0\n",
      " step 25\n",
      " step 50\n",
      " step 75\n",
      "Done!\n",
      " Running Barrio Tortuga SEIR with 10000  turtles, for 100 steps.\n",
      " step 0\n",
      " step 25\n",
      " step 50\n",
      " step 75\n",
      "Done!\n",
      " Running Barrio Tortuga SEIR with 10000  turtles, for 100 steps.\n",
      " step 0\n",
      " step 25\n",
      " step 50\n",
      " step 75\n",
      "Done!\n",
      " Running Barrio Tortuga SEIR with 10000  turtles, for 100 steps.\n",
      " step 0\n",
      " step 25\n",
      " step 50\n",
      " step 75\n",
      "Done!\n",
      " Running Barrio Tortuga SEIR with 10000  turtles, for 100 steps.\n",
      " step 0\n",
      " step 25\n",
      " step 50\n",
      " step 75\n",
      "Done!\n",
      " Running Barrio Tortuga SEIR with 10000  turtles, for 100 steps.\n",
      " step 0\n",
      " step 25\n",
      " step 50\n",
      " step 75\n",
      "Done!\n",
      " Running Barrio Tortuga SEIR with 10000  turtles, for 100 steps.\n",
      " step 0\n",
      " step 25\n",
      " step 50\n",
      " step 75\n",
      "Done!\n",
      " Running Barrio Tortuga SEIR with 10000  turtles, for 100 steps.\n",
      " step 0\n",
      " step 25\n",
      " step 50\n",
      " step 75\n",
      "Done!\n",
      " Running Barrio Tortuga SEIR with 10000  turtles, for 100 steps.\n",
      " step 0\n",
      " step 25\n",
      " step 50\n",
      " step 75\n",
      "Done!\n",
      " Running Barrio Tortuga SEIR with 10000  turtles, for 100 steps.\n",
      " step 0\n",
      " step 25\n",
      " step 50\n",
      " step 75\n",
      "Done!\n",
      " Running Barrio Tortuga SEIR with 10000  turtles, for 100 steps.\n",
      " step 0\n",
      " step 25\n",
      " step 50\n",
      " step 75\n",
      "Done!\n",
      " Running Barrio Tortuga SEIR with 10000  turtles, for 100 steps.\n",
      " step 0\n",
      " step 25\n",
      " step 50\n",
      " step 75\n",
      "Done!\n",
      " Running Barrio Tortuga SEIR with 10000  turtles, for 100 steps.\n",
      " step 0\n",
      " step 25\n",
      " step 50\n",
      " step 75\n",
      "Done!\n",
      " Running Barrio Tortuga SEIR with 10000  turtles, for 100 steps.\n",
      " step 0\n",
      " step 25\n",
      " step 50\n",
      " step 75\n",
      "Done!\n",
      " Running Barrio Tortuga SEIR with 10000  turtles, for 100 steps.\n",
      " step 0\n",
      " step 25\n",
      " step 50\n",
      " step 75\n",
      "Done!\n"
     ]
    }
   ],
   "source": [
    "dfs10k = run_series_csv(ns=100, steps= 100, turtles=10000, i0=100, r0 = 3.5, nc=NC10k, ti = 5, tr = 5, width=40, height=40, fprint=25)"
   ]
  },
  {
   "cell_type": "code",
   "execution_count": 362,
   "metadata": {},
   "outputs": [
    {
     "data": {
      "text/plain": [
       "[<matplotlib.lines.Line2D at 0x11d1b2b90>]"
      ]
     },
     "execution_count": 362,
     "metadata": {},
     "output_type": "execute_result"
    },
    {
     "data": {
      "image/png": "[encoded data removed]",
      "text/plain": [
       "<Figure size 720x576 with 1 Axes>"
      ]
     },
     "metadata": {
      "needs_background": "light"
     },
     "output_type": "display_data"
    }
   ],
   "source": [
    "plt.plot(dfs10k.index, dfs10k.NumberOfInfected )\n",
    "plt.plot(dfs10k.index, dfs10k.NumberOfExposed)"
   ]
  },
  {
   "cell_type": "code",
   "execution_count": 363,
   "metadata": {},
   "outputs": [
    {
     "data": {
      "text/plain": [
       "(34, 2635.0)"
      ]
     },
     "execution_count": 363,
     "metadata": {},
     "output_type": "execute_result"
    }
   ],
   "source": [
    "peak_position(dfs10k)"
   ]
  },
  {
   "cell_type": "code",
   "execution_count": null,
   "metadata": {},
   "outputs": [],
   "source": []
  },
  {
   "cell_type": "code",
   "execution_count": 291,
   "metadata": {},
   "outputs": [
    {
     "name": "stdout",
     "output_type": "stream",
     "text": [
      " Running Barrio Tortuga SEIR with 100  turtles, for 100 steps.\n",
      "Barrio Tortuga SEIR parameters\n",
      "            number of turtles       = 100\n",
      "            initial infected        = 10\n",
      "            fraction infected       = 0.1\n",
      "            R0                      = 3.5\n",
      "            Ti (incubation time)    = 5\n",
      "            Tr (recovery time)      = 5\n",
      "            number of contacts      = 49.9\n",
      "            P (trans. prob/contact) = 0.014028056112224449\n",
      "            Calib                   = False\n",
      "            Grid (w x h)            = 40 x 40\n",
      "            \n",
      "A = ['S', 'S', 'S', 'S', 'S', 'S', 'S', 'S', 'S', 'S', 'S', 'S', 'S', 'S', 'S', 'S', 'S', 'S', 'S', 'S', 'S', 'S', 'S', 'S', 'S', 'S', 'S', 'S', 'S', 'S', 'S', 'S', 'S', 'S', 'S', 'S', 'S', 'S', 'S', 'S', 'S', 'S', 'S', 'S', 'S', 'S', 'S', 'S', 'S', 'S', 'S', 'S', 'S', 'S', 'S', 'S', 'S', 'S', 'S', 'S', 'S', 'S', 'S', 'S', 'S', 'S', 'S', 'S', 'S', 'S', 'S', 'S', 'S', 'S', 'S', 'S', 'S', 'S', 'S', 'S', 'S', 'S', 'S', 'S', 'S', 'S', 'S', 'S', 'S', 'S', 'I', 'I', 'I', 'I', 'I', 'I', 'I', 'I', 'I', 'I']\n",
      "A (rd) = ['S', 'S', 'S', 'S', 'S', 'S', 'S', 'S', 'S', 'S', 'S', 'S', 'I', 'S', 'S', 'S', 'S', 'S', 'S', 'S', 'S', 'S', 'I', 'S', 'I', 'S', 'S', 'S', 'S', 'S', 'S', 'S', 'S', 'S', 'S', 'S', 'S', 'S', 'S', 'S', 'S', 'S', 'S', 'S', 'S', 'S', 'S', 'S', 'S', 'S', 'S', 'S', 'S', 'S', 'I', 'S', 'S', 'S', 'I', 'S', 'S', 'I', 'S', 'S', 'S', 'S', 'S', 'S', 'S', 'S', 'S', 'S', 'I', 'S', 'I', 'S', 'S', 'S', 'S', 'S', 'S', 'I', 'S', 'S', 'S', 'I', 'S', 'S', 'S', 'S', 'S', 'S', 'S', 'S', 'S', 'S', 'S', 'S', 'S', 'S']\n",
      " step 0\n",
      "Done!\n"
     ]
    }
   ],
   "source": [
    "dft10k = run_turtles_calib(steps= 100, turtles=100, i0=10, r0 = 3.5, nc=49.9, ti = 5, tr = 5, width=40, height=40, calib=False, prtl=PrtLvl.Concise, fprint=100)"
   ]
  },
  {
   "cell_type": "code",
   "execution_count": null,
   "metadata": {},
   "outputs": [],
   "source": []
  },
  {
   "cell_type": "code",
   "execution_count": null,
   "metadata": {},
   "outputs": [],
   "source": []
  }
 ],
 "metadata": {
  "kernelspec": {
   "display_name": "Python 3",
   "language": "python",
   "name": "python3"
  },
  "language_info": {
   "codemirror_mode": {
    "name": "ipython",
    "version": 3
   },
   "file_extension": ".py",
   "mimetype": "text/x-python",
   "name": "python",
   "nbconvert_exporter": "python",
   "pygments_lexer": "ipython3",
   "version": "3.7.6"
  }
 },
 "nbformat": 4,
 "nbformat_minor": 4
}
