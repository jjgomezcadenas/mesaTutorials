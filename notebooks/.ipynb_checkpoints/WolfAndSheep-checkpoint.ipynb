{
 "cells": [
  {
   "cell_type": "code",
   "execution_count": 1,
   "metadata": {},
   "outputs": [
    {
     "name": "stdout",
     "output_type": "stream",
     "text": [
      "Last updated on  Wed Apr 15 23:49:58 2020\n"
     ]
    }
   ],
   "source": [
    "%matplotlib inline\n",
    "%load_ext autoreload\n",
    "%autoreload 2\n",
    "import matplotlib.pyplot as plt\n",
    "from matplotlib.pyplot import imshow\n",
    "plt.rcParams[\"figure.figsize\"] = 10, 8\n",
    "plt.rcParams[\"font.size\"     ] = 14\n",
    "import os\n",
    "import sys\n",
    "import glob\n",
    "import time\n",
    "import warnings\n",
    "import datetime \n",
    "print(\"Last updated on \", time.asctime())\n",
    "import numpy as np\n",
    "import pandas as pd\n",
    "import matplotlib"
   ]
  },
  {
   "cell_type": "code",
   "execution_count": 2,
   "metadata": {},
   "outputs": [],
   "source": [
    "fontsize=20\n",
    "font = {'family': 'serif',\n",
    "        'color':  'black',\n",
    "        'weight': 'bold',\n",
    "        'size': fontsize,\n",
    "        }\n",
    "\n",
    "plt.rcParams[\"font.size\"     ] = fontsize\n"
   ]
  },
  {
   "cell_type": "code",
   "execution_count": 63,
   "metadata": {},
   "outputs": [],
   "source": [
    "from mesa import Agent, Model\n",
    "from mesa.time import RandomActivation\n",
    "from mesa.space import MultiGrid\n",
    "from mesa.datacollection import DataCollector\n",
    "from mesa.visualization.TextVisualization import TextVisualization, TextGrid"
   ]
  },
  {
   "cell_type": "markdown",
   "metadata": {},
   "source": [
    "# Random Walker\n",
    "- We start by implementing a random walker. This is an agente that moves at random in the grid. The idea is that sheep and wolves can inherit from it."
   ]
  },
  {
   "cell_type": "code",
   "execution_count": 88,
   "metadata": {},
   "outputs": [],
   "source": [
    "class RandomWalker(Agent):\n",
    "    '''\n",
    "    Class implementing random walker methods in a generalized manner.\n",
    "\n",
    "    Not indended to be used on its own, but to inherit its methods to multiple\n",
    "    other agents.\n",
    "\n",
    "    '''\n",
    "\n",
    "    def __init__(self, unique_id, pos, model, moore=True):\n",
    "        '''\n",
    "        grid: The MultiGrid object in which the agent lives.\n",
    "        x: The agent's current x coordinate\n",
    "        y: The agent's current y coordinate\n",
    "        moore: If True, may move in all 8 directions.\n",
    "                Otherwise, only up, down, left, right.\n",
    "        '''\n",
    "        super().__init__(unique_id, model)\n",
    "        self.pos = pos\n",
    "        self.moore = moore\n",
    "        #print(f' init agent: id ={unique_id}, pos = {pos}, type(model) ={type(model)}')\n",
    "\n",
    "    def random_move(self):\n",
    "        '''\n",
    "        Step one cell in any allowable direction. \n",
    "        We use grid’s built-in get_neighborhood method, which returns all the neighbors of a given cell. \n",
    "        This method can get two types of cell neighborhoods: Moore (including diagonals), \n",
    "        and Von Neumann (only up/down/left/right). \n",
    "        It also needs an argument as to whether to include the center cell itself as one of the neighbors.\n",
    "        '''\n",
    "        # Pick the next cell from the adjacent cells.\n",
    "        next_moves = self.model.grid.get_neighborhood(self.pos, self.moore, True)\n",
    "        next_move = self.random.choice(next_moves)\n",
    "        # Now move:\n",
    "        self.model.grid.move_agent(self, next_move)"
   ]
  },
  {
   "cell_type": "markdown",
   "metadata": {},
   "source": [
    "## Testing the RandomWalker by having an ABM composed only of random walker agents."
   ]
  },
  {
   "cell_type": "markdown",
   "metadata": {},
   "source": [
    "### Define a simple walker"
   ]
  },
  {
   "cell_type": "code",
   "execution_count": 89,
   "metadata": {},
   "outputs": [],
   "source": [
    "class WalkerAgent(RandomWalker):\n",
    "    '''\n",
    "    Agent which only walks around.\n",
    "    '''\n",
    "\n",
    "    def step(self):\n",
    "        self.random_move()\n",
    "\n"
   ]
  },
  {
   "cell_type": "markdown",
   "metadata": {},
   "source": [
    "### Define a simple World to walk around\n",
    "- This class extends that found in the example Sheep and Wolf."
   ]
  },
  {
   "cell_type": "code",
   "execution_count": 90,
   "metadata": {},
   "outputs": [],
   "source": [
    "class WalkerWorld(Model):\n",
    "    '''\n",
    "    Random walker world.\n",
    "    '''\n",
    "    \n",
    "    walkers =['WalkerAgent', 'Sheep', 'Wolf']\n",
    "    \n",
    "    def __init__(self, height, width, agent_count, moore=True, agent_type='Walker'):\n",
    "        '''\n",
    "        Create a new WalkerWorld.\n",
    "\n",
    "        Args:\n",
    "            height, width: World size.\n",
    "            agent_count: How many agents to create.\n",
    "        '''\n",
    "        \n",
    "        if agent_type not in self.walkers:\n",
    "            print(f' Unknown agent')\n",
    "        else:\n",
    "            self.grass            = False       # no grass in WalkerWorld\n",
    "            self.sheep_reproduce  = False       # no reproduction in WalkerWorld\n",
    "            self.height       = height\n",
    "            self.width        = width\n",
    "            self.grid         = MultiGrid(self.height, self.width, torus=True)\n",
    "            self.agent_count  = agent_count\n",
    "            self.agent_type   = agent_type\n",
    "            self.schedule     = RandomActivation(self)\n",
    "        # Create agents\n",
    "            for i in range(self.agent_count):\n",
    "                x = self.random.randrange(self.width)       # random x, y positions in the grid\n",
    "                y = self.random.randrange(self.height)\n",
    "                if agent_type == 'WalkerAgent':\n",
    "                    a = WalkerAgent(i, (x, y), self, True)  # create the agent\n",
    "                elif agent_type == 'Sheep':\n",
    "                    a = Sheep(i, (x, y), self, moore, None) # no need of energy to walk in WalkerWorld     \n",
    "                elif agent_type == 'Wolf':\n",
    "                    a = Wolf(i, (x, y), self, moore, None) # no need of energy to walk in WalkerWorld     \n",
    "                    \n",
    "                self.schedule.add(a)                     # add to scheduler\n",
    "                self.grid.place_agent(a, (x, y))         # place agente in the grid\n",
    "\n",
    "    def step(self):\n",
    "        self.schedule.step()"
   ]
  },
  {
   "cell_type": "markdown",
   "metadata": {},
   "source": [
    "## WalkerWorldViz"
   ]
  },
  {
   "cell_type": "code",
   "execution_count": 101,
   "metadata": {},
   "outputs": [],
   "source": [
    "class WalkerWorldViz(TextVisualization):\n",
    "    '''\n",
    "    ASCII Visualization for a WalkerWorld agent.\n",
    "    Each cell is displayed as the number of agents currently in that cell.\n",
    "    '''\n",
    "\n",
    "    def __init__(self, model):\n",
    "        '''\n",
    "        Create a new visualization for a WalkerWorld instance.\n",
    "\n",
    "        args:\n",
    "            model: An instance of a WalkerWorld model.\n",
    "        '''\n",
    "        self.model = model\n",
    "        grid_viz = TextGrid(self.model.grid, None)\n",
    "        grid_viz.converter = lambda x: str(len(x))\n",
    "        self.elements = [grid_viz]\n"
   ]
  },
  {
   "cell_type": "markdown",
   "metadata": {},
   "source": [
    "### Test model using a simple text visulisation"
   ]
  },
  {
   "cell_type": "code",
   "execution_count": 93,
   "metadata": {},
   "outputs": [],
   "source": [
    "def test_walker_world(w=10, h=10, na=50, steps=2):\n",
    "    print(f\"Testing {w}x{h} world, with {na} random walkers, for {steps} steps.\")\n",
    "    model = WalkerWorld(w, h, na, agent_type='WalkerAgent')\n",
    "    viz = WalkerWorldViz(model)\n",
    "    for i in range(steps):\n",
    "        print(\"Step:\", str(i))\n",
    "        viz.step()"
   ]
  },
  {
   "cell_type": "code",
   "execution_count": 94,
   "metadata": {},
   "outputs": [
    {
     "name": "stdout",
     "output_type": "stream",
     "text": [
      "Testing 10x10 world, with 50 random walkers, for 2 steps.\n",
      "Step: 0\n",
      "0000011010\n",
      "0001003111\n",
      "0111010110\n",
      "0200000001\n",
      "0200211000\n",
      "0103120100\n",
      "0100120000\n",
      "0010011001\n",
      "0011000201\n",
      "1001010100\n",
      "\n",
      "Step: 1\n",
      "0000102201\n",
      "0000120101\n",
      "0002000010\n",
      "2210010110\n",
      "0001010001\n",
      "0021011000\n",
      "0100110010\n",
      "2010140000\n",
      "0101002000\n",
      "1010100010\n",
      "\n"
     ]
    }
   ],
   "source": [
    "test_walker_world()"
   ]
  },
  {
   "cell_type": "markdown",
   "metadata": {},
   "source": [
    "# Full model"
   ]
  },
  {
   "cell_type": "markdown",
   "metadata": {},
   "source": [
    "## Schedule"
   ]
  },
  {
   "cell_type": "code",
   "execution_count": 104,
   "metadata": {},
   "outputs": [],
   "source": [
    "from collections import defaultdict\n",
    "\n",
    "from mesa.time import RandomActivation\n",
    "\n",
    "\n",
    "class RandomActivationByBreed(RandomActivation):\n",
    "    '''\n",
    "    A scheduler which activates each type of agent once per step, in random\n",
    "    order, with the order reshuffled every step.\n",
    "\n",
    "    This is equivalent to the NetLogo 'ask breed...' and is generally the\n",
    "    default behavior for an ABM.\n",
    "\n",
    "    Assumes that all agents have a step() method.\n",
    "    '''\n",
    "\n",
    "    def __init__(self, model):\n",
    "        super().__init__(model)\n",
    "        self.agents_by_breed = defaultdict(dict)\n",
    "\n",
    "    def add(self, agent):\n",
    "        '''\n",
    "        Add an Agent object to the schedule\n",
    "\n",
    "        Args:\n",
    "            agent: An Agent to be added to the schedule.\n",
    "        '''\n",
    "\n",
    "        self._agents[agent.unique_id] = agent\n",
    "        agent_class = type(agent)\n",
    "        self.agents_by_breed[agent_class][agent.unique_id] = agent\n",
    "\n",
    "    def remove(self, agent):\n",
    "        '''\n",
    "        Remove all instances of a given agent from the schedule.\n",
    "        '''\n",
    "\n",
    "        del self._agents[agent.unique_id]\n",
    "\n",
    "        agent_class = type(agent)\n",
    "        del self.agents_by_breed[agent_class][agent.unique_id]\n",
    "\n",
    "    def step(self, by_breed=True):\n",
    "        '''\n",
    "        Executes the step of each agent breed, one at a time, in random order.\n",
    "\n",
    "        Args:\n",
    "            by_breed: If True, run all agents of a single breed before running\n",
    "                      the next one.\n",
    "        '''\n",
    "        if by_breed:\n",
    "            for agent_class in self.agents_by_breed:\n",
    "                self.step_breed(agent_class)\n",
    "            self.steps += 1\n",
    "            self.time += 1\n",
    "        else:\n",
    "            super().step()\n",
    "\n",
    "    def step_breed(self, breed):\n",
    "        '''\n",
    "        Shuffle order and run all agents of a given breed.\n",
    "\n",
    "        Args:\n",
    "            breed: Class object of the breed to run.\n",
    "        '''\n",
    "        agent_keys = list(self.agents_by_breed[breed].keys())\n",
    "        self.model.random.shuffle(agent_keys)\n",
    "        for agent_key in agent_keys:\n",
    "            self.agents_by_breed[breed][agent_key].step()\n",
    "\n",
    "    def get_breed_count(self, breed_class):\n",
    "        '''\n",
    "        Returns the current number of agents of certain breed in the queue.\n",
    "        '''\n",
    "        return len(self.agents_by_breed[breed_class].values())\n"
   ]
  },
  {
   "cell_type": "markdown",
   "metadata": {},
   "source": [
    "## Model"
   ]
  },
  {
   "cell_type": "code",
   "execution_count": 105,
   "metadata": {},
   "outputs": [],
   "source": [
    "class WolfSheep(Model):\n",
    "    '''\n",
    "    Wolf-Sheep Predation Model\n",
    "    '''\n",
    "\n",
    "    height = 20\n",
    "    width = 20\n",
    "\n",
    "    initial_sheep = 100\n",
    "    initial_wolves = 50\n",
    "\n",
    "    sheep_reproduce = 0.04\n",
    "    wolf_reproduce = 0.05\n",
    "\n",
    "    wolf_gain_from_food = 20\n",
    "\n",
    "    grass = False\n",
    "    grass_regrowth_time = 30\n",
    "    sheep_gain_from_food = 4\n",
    "\n",
    "    verbose = False  # Print-monitoring\n",
    "\n",
    "    description = 'A model for simulating wolf and sheep (predator-prey) ecosystem modelling.'\n",
    "\n",
    "    def __init__(self, height=20, width=20,\n",
    "                 initial_sheep=100, initial_wolves=50,\n",
    "                 sheep_reproduce=0.04, wolf_reproduce=0.05,\n",
    "                 wolf_gain_from_food=20,\n",
    "                 grass=False, grass_regrowth_time=30, sheep_gain_from_food=4, verbose=False):\n",
    "        '''\n",
    "        Create a new Wolf-Sheep model with the given parameters.\n",
    "\n",
    "        Args:\n",
    "            initial_sheep: Number of sheep to start with\n",
    "            initial_wolves: Number of wolves to start with\n",
    "            sheep_reproduce: Probability of each sheep reproducing each step\n",
    "            wolf_reproduce: Probability of each wolf reproducing each step\n",
    "            wolf_gain_from_food: Energy a wolf gains from eating a sheep\n",
    "            grass: Whether to have the sheep eat grass for energy\n",
    "            grass_regrowth_time: How long it takes for a grass patch to regrow\n",
    "                                 once it is eaten\n",
    "            sheep_gain_from_food: Energy sheep gain from grass, if enabled.\n",
    "        '''\n",
    "        super().__init__()\n",
    "        # Set parameters\n",
    "        self.height = height\n",
    "        self.width = width\n",
    "        self.initial_sheep = initial_sheep\n",
    "        self.initial_wolves = initial_wolves\n",
    "        self.sheep_reproduce = sheep_reproduce\n",
    "        self.wolf_reproduce = wolf_reproduce\n",
    "        self.wolf_gain_from_food = wolf_gain_from_food\n",
    "        self.grass = grass\n",
    "        self.grass_regrowth_time = grass_regrowth_time\n",
    "        self.sheep_gain_from_food = sheep_gain_from_food\n",
    "\n",
    "        self.schedule = RandomActivationByBreed(self)\n",
    "        self.grid = MultiGrid(self.height, self.width, torus=True)\n",
    "        self.datacollector = DataCollector(\n",
    "            {\"Wolves\": lambda m: m.schedule.get_breed_count(Wolf),\n",
    "             \"Sheep\": lambda m: m.schedule.get_breed_count(Sheep)})\n",
    "\n",
    "        # Create sheep:\n",
    "        for i in range(self.initial_sheep):\n",
    "            x = self.random.randrange(self.width)\n",
    "            y = self.random.randrange(self.height)\n",
    "            energy = self.random.randrange(2 * self.sheep_gain_from_food)\n",
    "            sheep = Sheep(self.next_id(), (x, y), self, True, energy)\n",
    "            self.grid.place_agent(sheep, (x, y))\n",
    "            self.schedule.add(sheep)\n",
    "\n",
    "        # Create wolves\n",
    "        for i in range(self.initial_wolves):\n",
    "            x = self.random.randrange(self.width)\n",
    "            y = self.random.randrange(self.height)\n",
    "            energy = self.random.randrange(2 * self.wolf_gain_from_food)\n",
    "            wolf = Wolf(self.next_id(), (x, y), self, True, energy)\n",
    "            self.grid.place_agent(wolf, (x, y))\n",
    "            self.schedule.add(wolf)\n",
    "\n",
    "        # Create grass patches\n",
    "        if self.grass:\n",
    "            for agent, x, y in self.grid.coord_iter():\n",
    "\n",
    "                fully_grown = self.random.choice([True, False])\n",
    "\n",
    "                if fully_grown:\n",
    "                    countdown = self.grass_regrowth_time\n",
    "                else:\n",
    "                    countdown = self.random.randrange(self.grass_regrowth_time)\n",
    "\n",
    "                patch = GrassPatch(self.next_id(), (x, y), self,\n",
    "                                   fully_grown, countdown)\n",
    "                self.grid.place_agent(patch, (x, y))\n",
    "                self.schedule.add(patch)\n",
    "\n",
    "        self.running = True\n",
    "        self.datacollector.collect(self)\n",
    "\n",
    "    def step(self):\n",
    "        self.schedule.step()\n",
    "        # collect data\n",
    "        self.datacollector.collect(self)\n",
    "        if self.verbose:\n",
    "            print([self.schedule.time,\n",
    "                   self.schedule.get_breed_count(Wolf),\n",
    "                   self.schedule.get_breed_count(Sheep)])\n",
    "\n",
    "    def run_model(self, step_count=200):\n",
    "\n",
    "        if self.verbose:\n",
    "            print('Initial number wolves: ',\n",
    "                  self.schedule.get_breed_count(Wolf))\n",
    "            print('Initial number sheep: ',\n",
    "                  self.schedule.get_breed_count(Sheep))\n",
    "\n",
    "        for i in range(step_count):\n",
    "            self.step()\n",
    "\n",
    "        if self.verbose:\n",
    "            print('')\n",
    "            print('Final number wolves: ',\n",
    "                  self.schedule.get_breed_count(Wolf))\n",
    "            print('Final number sheep: ',\n",
    "                  self.schedule.get_breed_count(Sheep))\n"
   ]
  },
  {
   "cell_type": "markdown",
   "metadata": {},
   "source": [
    "## Agents"
   ]
  },
  {
   "cell_type": "markdown",
   "metadata": {},
   "source": [
    "### Sheep"
   ]
  },
  {
   "cell_type": "markdown",
   "metadata": {},
   "source": [
    "### This class implements a sheep agent.A sheep that walks around, reproduces (asexually) and gets eaten.\n",
    "- It intherits from RandomWalker, and thus the agent is placed at random in the grid and scheduled also at random. \n",
    "- We overwrite the step method, so that the sheep can move, eat grass and reproduce. "
   ]
  },
  {
   "cell_type": "code",
   "execution_count": 106,
   "metadata": {},
   "outputs": [],
   "source": [
    "def get_grass(this_cell):\n",
    "    return [obj for obj in this_cell if isinstance(obj, GrassPatch)][0]\n",
    "    \n",
    "class Sheep(RandomWalker):\n",
    "    '''\n",
    "    A sheep that walks around, reproduces (asexually) and gets eaten.\n",
    "\n",
    "    The init is the same as the RandomWalker.\n",
    "    '''\n",
    "\n",
    "    def __init__(self, unique_id, pos, model, moore, energy=None):\n",
    "        super().__init__(unique_id, pos, model, moore=moore)\n",
    "        self.energy = energy\n",
    "\n",
    "    def step(self):\n",
    "        '''\n",
    "        A model step. Move, then eat grass and reproduce.\n",
    "        '''\n",
    "        self.random_move()\n",
    "        living = True\n",
    "        #this_cell = self.model.grid.get_cell_list_contents([self.pos])\n",
    "        #obj_this_cell = [type(obj) for obj in this_cell]\n",
    "        #print(f' type objects in this cell -> {obj_this_cell}')\n",
    "\n",
    "        if self.model.grass:\n",
    "            # Reduce energy\n",
    "            self.energy -= 1\n",
    "\n",
    "            # If there is grass available, eat it\n",
    "            this_cell = self.model.grid.get_cell_list_contents([self.pos])\n",
    "            grass_patch = get_grass(this_cell)\n",
    "            if grass_patch.fully_grown:\n",
    "                self.energy += self.model.sheep_gain_from_food\n",
    "                grass_patch.fully_grown = False\n",
    "\n",
    "            # Death\n",
    "            if self.energy < 0:\n",
    "                self.model.grid._remove_agent(self.pos, self)\n",
    "                self.model.schedule.remove(self)\n",
    "                living = False\n",
    "\n",
    "        if living and self.random.random() < self.model.sheep_reproduce:\n",
    "            # Create a new sheep:\n",
    "            if self.model.grass:\n",
    "                self.energy /= 2\n",
    "            lamb = Sheep(self.model.next_id(), self.pos, self.model,\n",
    "                         self.moore, self.energy)\n",
    "            self.model.grid.place_agent(lamb, self.pos)\n",
    "            self.model.schedule.add(lamb)\n"
   ]
  },
  {
   "cell_type": "markdown",
   "metadata": {},
   "source": [
    "### Wolf"
   ]
  },
  {
   "cell_type": "code",
   "execution_count": 109,
   "metadata": {},
   "outputs": [],
   "source": [
    "def get_sheep(this_cell):\n",
    "    return [obj for obj in this_cell if isinstance(obj, Sheep)]\n",
    "\n",
    "class Wolf(RandomWalker):\n",
    "    '''\n",
    "    A wolf that walks around, reproduces (asexually) and eats sheep.\n",
    "    '''\n",
    "\n",
    "    def __init__(self, unique_id, pos, model, moore, energy=None):\n",
    "        super().__init__(unique_id, pos, model, moore=moore)\n",
    "        self.energy = energy\n",
    "\n",
    "    def step(self):\n",
    "        self.random_move()\n",
    "        self.energy -= 1\n",
    "\n",
    "        # If there are sheep present, eat one\n",
    "        x, y = self.pos\n",
    "        this_cell = self.model.grid.get_cell_list_contents([self.pos])\n",
    "        sheep = get_sheep(this_cell)\n",
    "        if len(sheep) > 0:\n",
    "            sheep_to_eat = self.random.choice(sheep)\n",
    "            self.energy += self.model.wolf_gain_from_food\n",
    "\n",
    "            # Kill the sheep\n",
    "            self.model.grid._remove_agent(self.pos, sheep_to_eat)\n",
    "            self.model.schedule.remove(sheep_to_eat)\n",
    "\n",
    "        # Death or reproduction\n",
    "        if self.energy < 0:\n",
    "            self.model.grid._remove_agent(self.pos, self)\n",
    "            self.model.schedule.remove(self)\n",
    "        else:\n",
    "            if self.random.random() < self.model.wolf_reproduce:\n",
    "                # Create a new wolf cub\n",
    "                self.energy /= 2\n",
    "                cub = Wolf(self.model.next_id(), self.pos, self.model,\n",
    "                           self.moore, self.energy)\n",
    "                self.model.grid.place_agent(cub, cub.pos)\n",
    "                self.model.schedule.add(cub)\n"
   ]
  },
  {
   "cell_type": "markdown",
   "metadata": {},
   "source": [
    "### Grass"
   ]
  },
  {
   "cell_type": "code",
   "execution_count": 110,
   "metadata": {},
   "outputs": [],
   "source": [
    "class GrassPatch(Agent):\n",
    "    '''\n",
    "    A patch of grass that grows at a fixed rate and it is eaten by sheep\n",
    "    '''\n",
    "\n",
    "    def __init__(self, unique_id, pos, model, fully_grown, countdown):\n",
    "        '''\n",
    "        Creates a new patch of grass\n",
    "\n",
    "        Args:\n",
    "            grown: (boolean) Whether the patch of grass is fully grown or not\n",
    "            countdown: Time for the patch of grass to be fully grown again\n",
    "        '''\n",
    "        super().__init__(unique_id, model)\n",
    "        self.fully_grown = fully_grown\n",
    "        self.countdown = countdown\n",
    "        self.pos = pos\n",
    "\n",
    "    def step(self):\n",
    "        if not self.fully_grown:\n",
    "            if self.countdown <= 0:\n",
    "                # Set as fully grown\n",
    "                self.fully_grown = True\n",
    "                self.countdown = self.model.grass_regrowth_time\n",
    "            else:\n",
    "                self.countdown -= 1\n"
   ]
  },
  {
   "cell_type": "markdown",
   "metadata": {},
   "source": [
    "# Test model"
   ]
  },
  {
   "cell_type": "code",
   "execution_count": 146,
   "metadata": {},
   "outputs": [],
   "source": [
    "def ws_converter(cell_contents):\n",
    "    nSheep  = 0\n",
    "    nWolves = 0\n",
    "    nGrass  = 0\n",
    "    for c in cell_contents:\n",
    "        if type(c) == Sheep: \n",
    "            nSheep +=1\n",
    "        elif type(c) == Wolf:  \n",
    "            nWolves +=1\n",
    "        else:  \n",
    "            nGrass +=1\n",
    "    s = f'[{nSheep}S-{nWolves}W-G{nGrass}]'\n",
    "    return s\n",
    "\n",
    "class WolfSheepViz(TextVisualization):\n",
    "    '''\n",
    "    ASCII Visualization for a WolfSheep model.\n",
    "    Each cell is displayed as the number of agents currently in that cell.\n",
    "    '''\n",
    "\n",
    "    def __init__(self, model):\n",
    "        '''\n",
    "        Create a new visualization for a WalkerWorld instance.\n",
    "\n",
    "        args:\n",
    "            model: An instance of a WolfSheep model.\n",
    "        '''\n",
    "        self.model = model\n",
    "        grid_viz = TextGrid(self.model.grid, None)\n",
    "        grid_viz.converter = ws_converter\n",
    "        self.elements = [grid_viz]\n"
   ]
  },
  {
   "cell_type": "code",
   "execution_count": 175,
   "metadata": {},
   "outputs": [],
   "source": [
    "def test_WS_model(steps=3, height=20, width=20,\n",
    "                      initial_sheep=100, initial_wolves=50,\n",
    "                      sheep_reproduce=0.04, wolf_reproduce=0.05,\n",
    "                      wolf_gain_from_food=20,\n",
    "                      grass=False, grass_regrowth_time=30, sheep_gain_from_food=4, tvis=True, tdeb=True):\n",
    "    \n",
    "    print(f\" Creating WolfSheep model\")\n",
    "    model = WolfSheep(height, width, initial_sheep, initial_wolves,\n",
    "                      sheep_reproduce, wolf_reproduce, wolf_gain_from_food,\n",
    "                      grass, grass_regrowth_time, sheep_gain_from_food)\n",
    "    \n",
    "    \n",
    "    viz = WolfSheepViz(model)\n",
    "    for i in range(steps):\n",
    "        if tdeb: print(\"Step:\", str(i))\n",
    "        if tvis: \n",
    "            viz.step()\n",
    "        else:\n",
    "            model.step()\n",
    "        \n",
    "    return model.datacollector.get_model_vars_dataframe()"
   ]
  },
  {
   "cell_type": "code",
   "execution_count": 176,
   "metadata": {},
   "outputs": [
    {
     "name": "stdout",
     "output_type": "stream",
     "text": [
      " Creating WolfSheep model\n",
      "Step: 0\n",
      "[6S-22W-G0][4S-31W-G0]\n",
      "[2S-22W-G0][0S-34W-G0]\n",
      "\n",
      "Step: 1\n",
      "[0S-22W-G0][0S-29W-G0]\n",
      "[0S-29W-G0][0S-35W-G0]\n",
      "\n",
      "Step: 2\n",
      "[0S-30W-G0][0S-37W-G0]\n",
      "[0S-23W-G0][0S-31W-G0]\n",
      "\n"
     ]
    }
   ],
   "source": [
    "wsdf = test_WS_model(steps=3, height=2, width=2,\n",
    "                  initial_sheep=100, initial_wolves=100,\n",
    "                  sheep_reproduce=0.04, wolf_reproduce=0.05,\n",
    "                  wolf_gain_from_food=20,\n",
    "                  grass=False, grass_regrowth_time=30, sheep_gain_from_food=4, tvis=True, tdeb=True)"
   ]
  },
  {
   "cell_type": "code",
   "execution_count": 205,
   "metadata": {},
   "outputs": [
    {
     "name": "stdout",
     "output_type": "stream",
     "text": [
      " Creating WolfSheep model\n"
     ]
    }
   ],
   "source": [
    "wsdf =test_WS_model(steps=1000, height=20, width=20,\n",
    "                  initial_sheep=100, initial_wolves=20,\n",
    "                  sheep_reproduce=0.05, wolf_reproduce=0.05,\n",
    "                  wolf_gain_from_food=20,\n",
    "                  grass=True, grass_regrowth_time=10, sheep_gain_from_food=4, tvis=False, tdeb=False)"
   ]
  },
  {
   "cell_type": "code",
   "execution_count": 201,
   "metadata": {},
   "outputs": [
    {
     "data": {
      "text/html": [
       "<div>\n",
       "<style scoped>\n",
       "    .dataframe tbody tr th:only-of-type {\n",
       "        vertical-align: middle;\n",
       "    }\n",
       "\n",
       "    .dataframe tbody tr th {\n",
       "        vertical-align: top;\n",
       "    }\n",
       "\n",
       "    .dataframe thead th {\n",
       "        text-align: right;\n",
       "    }\n",
       "</style>\n",
       "<table border=\"1\" class=\"dataframe\">\n",
       "  <thead>\n",
       "    <tr style=\"text-align: right;\">\n",
       "      <th></th>\n",
       "      <th>Wolves</th>\n",
       "      <th>Sheep</th>\n",
       "    </tr>\n",
       "  </thead>\n",
       "  <tbody>\n",
       "    <tr>\n",
       "      <th>0</th>\n",
       "      <td>20</td>\n",
       "      <td>100</td>\n",
       "    </tr>\n",
       "    <tr>\n",
       "      <th>1</th>\n",
       "      <td>21</td>\n",
       "      <td>97</td>\n",
       "    </tr>\n",
       "    <tr>\n",
       "      <th>2</th>\n",
       "      <td>21</td>\n",
       "      <td>91</td>\n",
       "    </tr>\n",
       "    <tr>\n",
       "      <th>3</th>\n",
       "      <td>22</td>\n",
       "      <td>87</td>\n",
       "    </tr>\n",
       "    <tr>\n",
       "      <th>4</th>\n",
       "      <td>22</td>\n",
       "      <td>79</td>\n",
       "    </tr>\n",
       "  </tbody>\n",
       "</table>\n",
       "</div>"
      ],
      "text/plain": [
       "   Wolves  Sheep\n",
       "0      20    100\n",
       "1      21     97\n",
       "2      21     91\n",
       "3      22     87\n",
       "4      22     79"
      ]
     },
     "execution_count": 201,
     "metadata": {},
     "output_type": "execute_result"
    }
   ],
   "source": [
    "wsdf.head()"
   ]
  },
  {
   "cell_type": "code",
   "execution_count": 181,
   "metadata": {},
   "outputs": [
    {
     "data": {
      "text/plain": [
       "RangeIndex(start=0, stop=101, step=1)"
      ]
     },
     "execution_count": 181,
     "metadata": {},
     "output_type": "execute_result"
    }
   ],
   "source": [
    "wsdf.index"
   ]
  },
  {
   "cell_type": "code",
   "execution_count": 183,
   "metadata": {},
   "outputs": [],
   "source": [
    "def set_pretty_ax(ax, facecolor, xlabel, ylabel):\n",
    "    ax.set_facecolor(facecolor)\n",
    "    ax.set_xlabel(xlabel)\n",
    "    ax.set_ylabel(ylabel)\n",
    "    ax.yaxis.set_tick_params(length=0)\n",
    "    ax.xaxis.set_tick_params(length=0)\n",
    "    ax.grid(b=True, which='major', c='w', lw=2, ls='-')\n",
    "    legend = ax.legend()\n",
    "    legend.get_frame().set_alpha(0.5)\n",
    "    for spine in ('top', 'right', 'bottom', 'left'):\n",
    "        ax.spines[spine].set_visible(False)\n"
   ]
  },
  {
   "cell_type": "code",
   "execution_count": 192,
   "metadata": {},
   "outputs": [],
   "source": [
    "def plot_WS(df, figsize=(12,12), facecolor='LightGrey'):\n",
    "    def get_labels():\n",
    "        xlabel = 'Clock ticks'\n",
    "        ylabel = 'Agent population'\n",
    "        return xlabel, ylabel\n",
    "\n",
    "    fig = plt.figure(figsize=figsize)\n",
    "    ax = fig.add_subplot(1,1,1, axisbelow=True)\n",
    "\n",
    "    ax.plot(df.index, df.Wolves, 'r', alpha=0.5, lw=3, label='Wolves')\n",
    "    ax.plot(df.index, df.Sheep,  'b', alpha=0.5, lw=3, label='Sheep')\n",
    "    xlabel, ylabel = get_labels()\n",
    "    set_pretty_ax(ax, facecolor, xlabel, ylabel)\n"
   ]
  },
  {
   "cell_type": "code",
   "execution_count": 206,
   "metadata": {},
   "outputs": [
    {
     "data": {
      "image/png": "[encoded data removed]",
      "text/plain": [
       "<Figure size 864x864 with 1 Axes>"
      ]
     },
     "metadata": {
      "needs_background": "light"
     },
     "output_type": "display_data"
    }
   ],
   "source": [
    "plot_WS(wsdf, figsize=(12,12), facecolor='LightGrey')"
   ]
  },
  {
   "cell_type": "code",
   "execution_count": null,
   "metadata": {},
   "outputs": [],
   "source": []
  }
 ],
 "metadata": {
  "kernelspec": {
   "display_name": "Python 3",
   "language": "python",
   "name": "python3"
  },
  "language_info": {
   "codemirror_mode": {
    "name": "ipython",
    "version": 3
   },
   "file_extension": ".py",
   "mimetype": "text/x-python",
   "name": "python",
   "nbconvert_exporter": "python",
   "pygments_lexer": "ipython3",
   "version": "3.7.6"
  }
 },
 "nbformat": 4,
 "nbformat_minor": 4
}
