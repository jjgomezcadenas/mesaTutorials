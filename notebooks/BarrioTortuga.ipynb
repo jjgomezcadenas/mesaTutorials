{
 "cells": [
  {
   "cell_type": "markdown",
   "metadata": {},
   "source": [
    "# Barrio Tortuga"
   ]
  },
  {
   "cell_type": "markdown",
   "metadata": {},
   "source": [
    "#### Toy model of a neighborhood. "
   ]
  },
  {
   "cell_type": "code",
   "execution_count": 5,
   "metadata": {},
   "outputs": [
    {
     "name": "stdout",
     "output_type": "stream",
     "text": [
      "The autoreload extension is already loaded. To reload it, use:\n",
      "  %reload_ext autoreload\n",
      "Last updated on  Sat Apr 18 13:23:52 2020\n"
     ]
    }
   ],
   "source": [
    "%matplotlib inline\n",
    "%load_ext autoreload\n",
    "%autoreload 2\n",
    "import matplotlib.pyplot as plt\n",
    "from matplotlib.pyplot import imshow\n",
    "plt.rcParams[\"figure.figsize\"] = 10, 8\n",
    "plt.rcParams[\"font.size\"     ] = 14\n",
    "import os\n",
    "import sys\n",
    "import glob\n",
    "import time\n",
    "import warnings\n",
    "import datetime \n",
    "print(\"Last updated on \", time.asctime())\n",
    "import numpy as np\n",
    "import pandas as pd\n",
    "import matplotlib"
   ]
  },
  {
   "cell_type": "code",
   "execution_count": 6,
   "metadata": {},
   "outputs": [],
   "source": [
    "fontsize=20\n",
    "font = {'family': 'serif',\n",
    "        'color':  'black',\n",
    "        'weight': 'bold',\n",
    "        'size': fontsize,\n",
    "        }\n",
    "\n",
    "plt.rcParams[\"font.size\"     ] = fontsize\n"
   ]
  },
  {
   "cell_type": "code",
   "execution_count": 7,
   "metadata": {},
   "outputs": [],
   "source": [
    "from mesa import Agent, Model\n",
    "from mesa.time import RandomActivation\n",
    "from mesa.space import MultiGrid\n",
    "from mesa.datacollection import DataCollector\n",
    "from mesa.visualization.TextVisualization import TextVisualization, TextGrid"
   ]
  },
  {
   "cell_type": "markdown",
   "metadata": {},
   "source": [
    "# Grid properties\n",
    "\n",
    "\n",
    "- Grid cells are indexed by [x][y], where [0][0] is assumed to be the bottom-left and [width-1][height-1] is the top-right. If a grid is\n",
    "toroidal, the top and bottom, and left and right, edges wrap to each other\n",
    "\n",
    "- Properties:\n",
    "        - width, height: The grid's width and height.\n",
    "        - torus: Boolean which determines whether to treat the grid as a torus.\n",
    "        - grid: Internal list-of-lists which holds the grid cells themselves.\n",
    "\n",
    "- Methods:\n",
    "        - get_neighbors: Returns the objects surrounding a given cell.\n",
    "        - get_neighborhood: Returns the cells surrounding a given cell.\n",
    "        - get_cell_list_contents: Returns the contents of a list of cells\n",
    "            ((x,y) tuples)\n",
    "        - neighbor_iter: Iterates over position neightbors.\n",
    "        - coord_iter: Returns coordinates as well as cell contents.\n",
    "        - place_agent: Positions an agent on the grid, and set its pos variable.\n",
    "        - move_agent: Moves an agent from its current position to a new position.\n",
    "        - iter_neighborhood: Returns an iterator over cell coordinates that are in the neighborhood of a certain point.\n",
    "        - torus_adj: Converts coordinate, handles torus looping.\n",
    "        - out_of_bounds: Determines whether position is off the grid, returns the out of bounds coordinate.\n",
    "        - iter_cell_list_contents: Returns an iterator of the contents of the cells identified in cell_list.\n",
    "        - get_cell_list_contents: Returns a list of the contents of the cells identified in cell_list.\n",
    "        - remove_agent: Removes an agent from the grid.\n",
    "        - is_cell_empty: Returns a bool of the contents of a cell.\n"
   ]
  },
  {
   "cell_type": "markdown",
   "metadata": {},
   "source": [
    "# Random Walker\n",
    "- We start by implementing a random walker. This is an agente that moves at random in the grid. The idea is that sheep and wolves can inherit from it."
   ]
  },
  {
   "cell_type": "code",
   "execution_count": 8,
   "metadata": {},
   "outputs": [],
   "source": [
    "class WalkingAgent(Agent):\n",
    "    '''\n",
    "    Class implementing a turtle that can move at random\n",
    "\n",
    "    Not indended to be used on its own, but to inherit its methods to multiple\n",
    "    other agents.\n",
    "\n",
    "    '''\n",
    "\n",
    "    def __init__(self, unique_id, pos, model, moore=True):\n",
    "        '''\n",
    "        grid: The MultiGrid object in which the agent lives.\n",
    "        x: The agent's current x coordinate\n",
    "        y: The agent's current y coordinate\n",
    "        moore: If True, may move in all 8 directions.\n",
    "                Otherwise, only up, down, left, right.\n",
    "        '''\n",
    "        super().__init__(unique_id, model)\n",
    "        self.pos = pos\n",
    "        self.moore = moore\n",
    "\n",
    "    def random_move(self):\n",
    "        '''\n",
    "        Step one cell in any allowable direction. \n",
    "        We use grid’s built-in get_neighborhood method, which returns all the neighbors of a given cell. \n",
    "        This method can get two types of cell neighborhoods: Moore (including diagonals), \n",
    "        and Von Neumann (only up/down/left/right). \n",
    "        It also needs an argument as to whether to include the center cell itself as one of the neighbors.\n",
    "        '''\n",
    "        # Pick the next cell from the adjacent cells.\n",
    "        next_moves = self.model.grid.get_neighborhood(self.pos, self.moore, True)\n",
    "        next_move = self.random.choice(next_moves)\n",
    "        # Now move:\n",
    "        self.model.grid.move_agent(self, next_move)"
   ]
  },
  {
   "cell_type": "markdown",
   "metadata": {},
   "source": [
    "## Define a simple turtle moving at random"
   ]
  },
  {
   "cell_type": "code",
   "execution_count": 9,
   "metadata": {},
   "outputs": [],
   "source": [
    "class RandomTurtle(WalkingAgent):\n",
    "    '''\n",
    "    Agent which only walks around.\n",
    "    '''\n",
    "\n",
    "    def step(self):\n",
    "        self.random_move()\n",
    "\n"
   ]
  },
  {
   "cell_type": "markdown",
   "metadata": {},
   "source": [
    "# Define Barrio tortuga"
   ]
  },
  {
   "cell_type": "code",
   "execution_count": 10,
   "metadata": {},
   "outputs": [],
   "source": [
    "def number_of_turtles_in_cell(model):\n",
    "    for y in range(model.grid.height):\n",
    "        for x in range(model.grid.width):\n",
    "            nc = 0\n",
    "            c = model.grid.get_cell_list_contents((x,y))\n",
    "            nc += len(c)\n",
    "\n",
    "    #print(f'step {model.step}, nc = {nc}')\n",
    "    return nc\n",
    "\n",
    "def number_of_turtles_in_neighborhood(model):\n",
    "    for y in range(model.grid.height):\n",
    "        for x in range(model.grid.width):\n",
    "            c = model.grid.get_cell_list_contents((x,y))\n",
    "            if len(c) > 0:\n",
    "                n_xy = model.grid.get_neighborhood((x,y), model.moore, False) #coordinates of neighbors\n",
    "                nc = 0\n",
    "                for xy in n_xy:\n",
    "                    c = model.grid.get_cell_list_contents((xy[0], xy[1]))\n",
    "                    nc += len(c)\n",
    "\n",
    "    #print(f'step {model.step}, nc = {nc}')\n",
    "    return nc\n",
    "\n",
    "class BarrioTortuga(Model):\n",
    "    '''\n",
    "    A neighborhood where people goes out of their homes, walk around at random and meet other people.  \n",
    "    '''\n",
    "\n",
    "    def __init__(self, height, width, agent_count, moore=True):\n",
    "        '''\n",
    "        Create a new Barrio Tortuga\n",
    "\n",
    "        Args:\n",
    "            height, width: World size.\n",
    "            agent_count: How many agents to create.\n",
    "        '''\n",
    "\n",
    "\n",
    "        self.height       = height\n",
    "        self.width        = width\n",
    "        self.grid         = MultiGrid(self.height, self.width, torus=True)\n",
    "        self.agent_count  = agent_count\n",
    "        self.schedule     = RandomActivation(self)\n",
    "        self.moore        = moore\n",
    "        self.datacollector = DataCollector(\n",
    "        model_reporters={\"NumberOfTurtlesPerCell\": number_of_turtles_in_cell,\n",
    "                         \"NumberOfTurtlesNeighborhood\": number_of_turtles_in_neighborhood}\n",
    "        )\n",
    "        \n",
    "\n",
    "\n",
    "        # Create agents\n",
    "        for i in range(self.agent_count):\n",
    "            x, y = self.random_xy_grid()         # random x, y positions in the grid\n",
    "            a = RandomTurtle(i, (x, y), self, True)  # create Turtle \n",
    "\n",
    "            self.schedule.add(a)               # add to scheduler\n",
    "            self.grid.place_agent(a, (x, y))   # place Turtle in the grid\n",
    "        # activate data collector\n",
    "        self.datacollector.collect(self)\n",
    "\n",
    "    def random_xy_grid(self):\n",
    "        x = self.random.randrange(self.width)       # random x, y positions in the grid\n",
    "        y = self.random.randrange(self.height)\n",
    "        return x, y\n",
    "\n",
    "    def step(self):\n",
    "        self.schedule.step()\n",
    "        self.datacollector.collect(self)\n",
    "    \n"
   ]
  },
  {
   "cell_type": "markdown",
   "metadata": {},
   "source": [
    "## BarrioTortugaViz"
   ]
  },
  {
   "cell_type": "code",
   "execution_count": 11,
   "metadata": {},
   "outputs": [],
   "source": [
    "class BarrioTortugaViz(TextVisualization):\n",
    "    '''\n",
    "    ASCII Visualization of Barrio Tortuga\n",
    "    Each cell is displayed as the number of turtles currently in that cell.\n",
    "    '''\n",
    "\n",
    "    def __init__(self, model):\n",
    "        '''\n",
    "        Create a new visualization for the model instance.\n",
    "\n",
    "        args:\n",
    "            model: An instance of a WalkerWorld model.\n",
    "        '''\n",
    "        self.model = model\n",
    "        grid_viz = TextGrid(self.model.grid, None)\n",
    "        grid_viz.converter = lambda x: str(len(x))\n",
    "        self.elements = [grid_viz]\n"
   ]
  },
  {
   "cell_type": "markdown",
   "metadata": {},
   "source": [
    "### Test model using a simple text visulisation"
   ]
  },
  {
   "cell_type": "code",
   "execution_count": 12,
   "metadata": {},
   "outputs": [],
   "source": [
    "def run_turtles(w=10, h=10, na=50, steps=2, vis_steps = 3):\n",
    "    \"\"\"Run turtles in Barrio Tortuga\"\"\"\n",
    "    \n",
    "    print(f\"Testing {w}x{h} world, with {na} random turtles, for {steps} steps.\")\n",
    "    \n",
    "    model = BarrioTortuga(w, h, na)\n",
    "    viz = BarrioTortugaViz(model)\n",
    "    vs = 0\n",
    "    for i in range(steps):\n",
    "        if vs < vis_steps:\n",
    "            vs+=1\n",
    "            print(\"Step:\", str(i))\n",
    "            viz.step()\n",
    "        else:\n",
    "            if i%10 == 0:\n",
    "                print(\"Step:\", str(i))\n",
    "            model.step()\n",
    "    return model.datacollector.get_model_vars_dataframe()"
   ]
  },
  {
   "cell_type": "code",
   "execution_count": 13,
   "metadata": {},
   "outputs": [
    {
     "name": "stdout",
     "output_type": "stream",
     "text": [
      "Testing 100x100 world, with 1000 random turtles, for 100 steps.\n",
      "Step: 0\n",
      "0000000000000000010000001000000100000000001000000000000000100100000000010000000020000100011000000000\n",
      "0000000000000010000000000000001000000000000000100000000010001001000000000000000000010010000000001000\n",
      "0000000001000000000000000000010000010000001000000000000000000002000000000001000000000001000000000000\n",
      "0000000000000000000001001000010000000000010000000000000100000010000000000000000000000000000000001000\n",
      "0100010000010100001010000100000000000010000000000000000000000000100000001010001010010001000100000000\n",
      "0000010101000010000010001000001101000000000000000020001010000000000000000000000000000200100000011000\n",
      "1000002000000100000000000000100100000000000000000000000000001001000000000000000000000000100000011101\n",
      "0010000000100010000000000101000000000000000000000010000001000000000000010000000010000000100010000000\n",
      "0000000000010000000000000000010010000000010000010000001000000000001000000000000000000110000010000010\n",
      "0000000000000000201000000000010101000100000010000000000011000011000000000000000000000000010001000001\n",
      "0001000002001010000100001000000000010000001000000001000000000000000100100000001000010000000010010000\n",
      "0000000100000000100000000000020000000010000000000010000000100000000000100000000000000000000000000000\n",
      "0000000000000000100000000000000000100000000000100000000100000011000001000000000000000100000000000000\n",
      "1000100100000001000000000010000000000000000000000000001010000001000000000000000101000000000000000000\n",
      "0000000000000000000000000000000000000000000001000000000001001000010000000002000000000100000000000000\n",
      "0000012000000000000010000000000000000000000000000001010000000000000000001010001000000000100000000000\n",
      "0001000200000000001000000100000000000000010000000000000010000000010000100000000001100000000000000000\n",
      "0100000000000000000000000000000001000000000000000000000000110010000000000000000000000000000000000000\n",
      "0000000000100001001000000001001010000000000010000100000100000000000001000000100000001000000000000000\n",
      "0010000000000000000000000010001000000000000000000000000000000000000000010000000000000000000000000000\n",
      "0000000100000000010000001000000011010000101000000000000001000000000001010000000001010000000100000000\n",
      "0001000000000000000000010001000000000100000000000000001000100000001000000000000000001000000010001020\n",
      "0000000000000000011000000000000000000000000000000000110000010000101010000000010000000000000100000000\n",
      "0000000000001000100001100000000001100000000000001000000000000010101001000000000000000000010000000000\n",
      "0000000000100000000001100000000000000000001000000000001000000000000000000000000000000100000000000000\n",
      "0000000000000000000000000000000000000000000000000000100000010000000001000000000000000000001000000000\n",
      "0100000000000000100000000000011000000000000000000000000000001000001000000000000100000000000000010000\n",
      "0100000100000000000000000000000000000000000000010000000000000000000000000010000000000000000000000000\n",
      "0000000000000000000010000000000000000001000100010200000000000000100001000000000000000000000000000000\n",
      "0000000010000010000000001000000000000000000000000000000000000000000100100000010000000000000000100000\n",
      "0000001000100000000100000000001100000011000000000000000010000000000000000000000000000000000000000000\n",
      "0000000000000000000000000100000000001000000000000000000000010000000000000001001100000000000000000000\n",
      "0000000000000100000000100000000000110000101000000101000010000000010101000000000000000000000000000000\n",
      "0000000100000000100000000001000100010000100000000000000000000000000000000000000000000000000000000000\n",
      "1001110000020000010000000000000000000000101000100000000100000000000000000000110100000000000000000000\n",
      "0000000000010010000000010010100010000010100100000000000110100000000000000001000000000000000000000000\n",
      "0000000001000000000100000000000001000000000000010000000100010000000000000001000000010000000000000000\n",
      "1000000001000000000000000000000000000000000000000100000000000000000000000000000100000001010011000000\n",
      "0001000020010000000000000000000000000000000000000000000000000000000001000000000000110000010000000000\n",
      "0000000010001000000000101000000000000000000001000000100000000000000200000000000000000000001001000000\n",
      "0200000010010000100000000000000000000000000000000010000000100000000000000000000000000000001000010000\n",
      "1000000000100001000000001000000101000000000000000001010010001000001000000000000010110000000000001000\n",
      "0110000000000000000000000100001000000000000010000000100000000100001000000000100000000000000000000000\n",
      "0000010000010001000000100000000101000000000000001000000000100000010000000000000000010001000100000000\n",
      "1000101011000000000000000000002000100000000000010000100000000000000000000100000001100000000100000000\n",
      "0100000000000000000000000000000000000010100000000000000000000000000000000000000000000001010000000000\n",
      "0001000000000000000000000010000000000100000001000000001000000010001000000000000000000000001010000000\n",
      "0100000000000000000001000000001001010000000000000000010000000000000000000000000000000000010000000000\n",
      "1000000000010100000000000000000001000000000000000000020000010000000000000000000000000100010000000010\n",
      "0000000000100000000000000000000100100001000200100000000000000000000001100000000010000000000000000000\n",
      "0000000010000000000200000100100001000000000100000010001000100000000000000000001011100000001010010010\n",
      "0000000000000000001000100001000000010000010000000000000000001000000000001000101000000000000010100010\n",
      "0000001011000000000000000100000000011000001000000000000001000000100001100100000000000000100000000000\n",
      "0000000000000000000010100000100000000000000000000010101000001000000001110001000000000000101000001000\n",
      "0000010000000010000000110000000000100000000000000011000000100100001000000100110100000101000000000000\n",
      "0000000000000100000010001010000000000000000000100000000000000000010000000010000110000000001000000100\n",
      "0000000000000000000100000000000000000000000001000000000000000001100000001000000000000000000000000100\n",
      "0000000010010000000000010000000000000000000000001000000000010110000101000000000000000000000000001001\n",
      "0000000000001000010010000000000000000000100001000000000000000000000000100000000000100000000001000000\n",
      "0000000010100000000000000000000100010000000000000000000000000000000001000100100000000000000000100000\n",
      "0000000010000000000010000101000010000000000000000000101110000001010002000000000000110020000000000100\n",
      "0001000000000000000010010100000000000000111000000001000000000000011000000000000000100001000000101000\n",
      "0001000000000000001000000100000010000000000100100000000111000000100000000000000000001010000001100000\n",
      "0000001001001000000000000000100000000000000000000000000100000001000000000000000000000000000000100000\n",
      "1000000010000000001000000110000000000000000001010000000001000000000001000000000000010000001000000000\n",
      "0000000000000000000000000000000200000020000000001000000000001000000000000000000000000000000000001000\n",
      "0011000000000110000000000000100000100000000001100000000001100000000000000000000000110000000010000000\n",
      "0000000000010000000000100000100000000000000010000001100100000001000020000000000100000100000000000000\n",
      "0100000000000000001000010100100100100000000000000000000000010000000000000000000000001010000000000000\n",
      "0000000000000000000000000000000001000000000000000100010010000000000100000000000010001000000000000000\n",
      "0000000001100000000000000000000000000000001000100000000010000002000101000100000000000010000000000000\n",
      "1000000000000000001000000000001000000110010000000010000000000000000000100010000000000001000000000000\n",
      "0010000000000000000000000000010000000000000000010100000001000000000000010100101000100000000000000000\n",
      "0000000000000000010000010000000000000200000000000000000000001010000000011000010000000000000000000000\n",
      "1000001000000000000000001011000010000000100000000000000001011000000000100000000010000010010000000000\n",
      "0010100000000000000000000000000100000000000000000000000000000100010000000010001000000000000000000000\n",
      "0000100000000000010001000000000100000001000000100000000000000000000000001002000000000001000000000000\n",
      "0000000100000000000000000001000000010001000000000000000000000001000000000200000000000000000100000000\n",
      "0100000000000000000000010000000000000000000001000000000000100000000000000001101001000000000000000000\n",
      "0010010000000000000000010000000010000011000000000000000000000000001100000000000000010000000000010000\n",
      "0000000000000001000000000100000000001000100000000000000000000000000000100001000110000000100000000000\n",
      "0010000000000000000000000000000001002100000000100000000001001000000010000000000000100000000001011000\n",
      "0000000000000000000000000000110000000000000000000010000000000000000010000000100001000001000100000001\n",
      "0101000000000001010000000000010000100000001000000200000000000000100000000010200100000000000001000100\n",
      "0000000100000000020000000010000000000000000000000000000000000000010000000000100000000000000001000000\n",
      "0000001101000000000000000000000000010000000001000000000000000000000000000010000000000000000000000101\n",
      "0000000000000001000000000000000000000000000010000000000000010000000000000000000000011000000000000000\n",
      "0000000000100100000100000000000000001010000010000000010000000010000000000000000000001110000010000001\n",
      "0000000000002000000000000000000000000000001000000000000000010000000000000000000000000000000001001000\n",
      "0000000000000000000000100000000001000000001000010001000000110000000000001000000000000000100010000000\n",
      "0000001000001000000000000000010000000100010000000000000000000000100001000000000000000000000000000000\n",
      "0000000000010010100000000000000000000000000101000000000000100000000000000000000000000110001000100000\n",
      "0000010011100000000000000000000010000000000010000000000000000000000000000002000000000100100000000000\n",
      "0010000000000100100000000000000000100000100000001000000000100000000000000000010000000000000000000010\n",
      "0002000000010000002000000000000000100100000000000100010000100000000000000000001000100100000000100000\n",
      "0000000011100000000000000000000000000000000000101000001000000000000100000000000001000000000000000000\n",
      "0000001000000000001000002000000001000000000000000001100000000000000000000000000000000000000000000000\n",
      "0010000000000000000000010100010000000100000000010000000000000000001000000000000000000001000000000000\n",
      "0002000000000000000010000000000000000000000000000000000000000100001000000010000002000000100000100000\n",
      "0010000000000010000000000000000000000000000000000001100000000000000000000000000000000000000001000000\n",
      "\n",
      "Step: 10\n",
      "Step: 20\n",
      "Step: 30\n",
      "Step: 40\n",
      "Step: 50\n",
      "Step: 60\n",
      "Step: 70\n",
      "Step: 80\n",
      "Step: 90\n"
     ]
    }
   ],
   "source": [
    "dft = run_turtles(w=100, h=100, na=1000, steps=100, vis_steps = 1)"
   ]
  },
  {
   "cell_type": "code",
   "execution_count": 14,
   "metadata": {},
   "outputs": [
    {
     "data": {
      "text/plain": [
       "array([[<matplotlib.axes._subplots.AxesSubplot object at 0x11b39aa50>]],\n",
       "      dtype=object)"
      ]
     },
     "execution_count": 14,
     "metadata": {},
     "output_type": "execute_result"
    },
    {
     "data": {
      "image/png": "[encoded data removed]",
      "text/plain": [
       "<Figure size 720x576 with 1 Axes>"
      ]
     },
     "metadata": {
      "needs_background": "light"
     },
     "output_type": "display_data"
    }
   ],
   "source": [
    "dft.hist(\"NumberOfTurtlesPerCell\")"
   ]
  },
  {
   "cell_type": "code",
   "execution_count": 15,
   "metadata": {},
   "outputs": [
    {
     "data": {
      "text/plain": [
       "array([[<matplotlib.axes._subplots.AxesSubplot object at 0x11ba671d0>]],\n",
       "      dtype=object)"
      ]
     },
     "execution_count": 15,
     "metadata": {},
     "output_type": "execute_result"
    },
    {
     "data": {
      "image/png": "[encoded data removed]",
      "text/plain": [
       "<Figure size 720x576 with 1 Axes>"
      ]
     },
     "metadata": {
      "needs_background": "light"
     },
     "output_type": "display_data"
    }
   ],
   "source": [
    "dft.hist(\"NumberOfTurtlesNeighborhood\")"
   ]
  },
  {
   "cell_type": "code",
   "execution_count": null,
   "metadata": {},
   "outputs": [],
   "source": []
  }
 ],
 "metadata": {
  "kernelspec": {
   "display_name": "Python 3",
   "language": "python",
   "name": "python3"
  },
  "language_info": {
   "codemirror_mode": {
    "name": "ipython",
    "version": 3
   },
   "file_extension": ".py",
   "mimetype": "text/x-python",
   "name": "python",
   "nbconvert_exporter": "python",
   "pygments_lexer": "ipython3",
   "version": "3.7.6"
  }
 },
 "nbformat": 4,
 "nbformat_minor": 4
}
