{
 "cells": [
  {
   "cell_type": "markdown",
   "metadata": {},
   "source": [
    "# Barrio Tortuga Super mercado"
   ]
  },
  {
   "cell_type": "markdown",
   "metadata": {},
   "source": [
    "- BTSP is a toy model to investigate the contacts in a Supermarket. "
   ]
  },
  {
   "cell_type": "code",
   "execution_count": 270,
   "metadata": {},
   "outputs": [
    {
     "name": "stdout",
     "output_type": "stream",
     "text": [
      "The autoreload extension is already loaded. To reload it, use:\n",
      "  %reload_ext autoreload\n",
      "Last updated on  Tue Apr 21 19:15:32 2020\n"
     ]
    }
   ],
   "source": [
    "%matplotlib inline\n",
    "%load_ext autoreload\n",
    "%autoreload 2\n",
    "import matplotlib.pyplot as plt\n",
    "from matplotlib.pyplot import imshow\n",
    "plt.rcParams[\"figure.figsize\"] = 10, 8\n",
    "plt.rcParams[\"font.size\"     ] = 14\n",
    "import os\n",
    "import sys\n",
    "import glob\n",
    "import time\n",
    "import warnings\n",
    "import datetime \n",
    "print(\"Last updated on \", time.asctime())\n",
    "import numpy as np\n",
    "import pandas as pd\n",
    "import matplotlib"
   ]
  },
  {
   "cell_type": "code",
   "execution_count": 271,
   "metadata": {},
   "outputs": [],
   "source": [
    "fontsize=20\n",
    "font = {'family': 'serif',\n",
    "        'color':  'black',\n",
    "        'weight': 'bold',\n",
    "        'size': fontsize,\n",
    "        }\n",
    "\n",
    "plt.rcParams[\"font.size\"     ] = fontsize\n"
   ]
  },
  {
   "cell_type": "code",
   "execution_count": 272,
   "metadata": {},
   "outputs": [],
   "source": [
    "from mesa import Agent, Model\n",
    "from mesa.time import RandomActivation\n",
    "from mesa.space import MultiGrid\n",
    "from mesa.datacollection import DataCollector\n",
    "from mesa.visualization.TextVisualization import TextVisualization, TextGrid"
   ]
  },
  {
   "cell_type": "code",
   "execution_count": 273,
   "metadata": {},
   "outputs": [],
   "source": [
    "from termcolor import colored"
   ]
  },
  {
   "cell_type": "code",
   "execution_count": 274,
   "metadata": {},
   "outputs": [],
   "source": [
    "from enum import Enum\n",
    "class PrtLvl(Enum):\n",
    "    Mute     = 1\n",
    "    Concise  = 2\n",
    "    Detailed = 3\n",
    "    Verbose  = 4"
   ]
  },
  {
   "cell_type": "markdown",
   "metadata": {},
   "source": [
    "# Definition of Barrio Tortuga SMKT"
   ]
  },
  {
   "cell_type": "markdown",
   "metadata": {},
   "source": [
    "### Tortuga SMKT\n",
    "\n",
    "- Tortuga SMKT is modelled as an idealisation of a supermarket characterised by:\n",
    "\n",
    "- Max people in SMKT: 120 (can be regulated)\n",
    "- Area: 1600 m2.\n",
    "\n",
    "**Barrio Tortuga SMKT**\n",
    "\n",
    "- Non Toroidal grid of 40 x 4s0 m2\n",
    "- grey patches represent walls: turtles cannot walk there.\n",
    "- blue patches represent courridors for turtles to walk.\n",
    "- red patches are hot spots (bounlagerie, fish, meat...). A turtle which has a hot spot patch as a neighbour has a probability ph to stay put in a given tick.\n",
    "- green patches are payment spots. A turtle reaching there stays for a while (pp, larger than ph) then goes around through the blue patches to exit."
   ]
  },
  {
   "cell_type": "markdown",
   "metadata": {},
   "source": [
    "## Map for Barrio Tortuga"
   ]
  },
  {
   "cell_type": "code",
   "execution_count": 350,
   "metadata": {},
   "outputs": [],
   "source": [
    "map_bt = np.genfromtxt(\"barrio-tortuga-smkt.txt\")"
   ]
  },
  {
   "cell_type": "code",
   "execution_count": 347,
   "metadata": {},
   "outputs": [
    {
     "data": {
      "text/plain": [
       "(40, 40)"
      ]
     },
     "execution_count": 347,
     "metadata": {},
     "output_type": "execute_result"
    }
   ],
   "source": [
    "map_bt.shape"
   ]
  },
  {
   "cell_type": "code",
   "execution_count": 336,
   "metadata": {},
   "outputs": [],
   "source": [
    "def is_courridor(map_bt, x, y):\n",
    "    if map_bt[x,y] == 2:\n",
    "        return True\n",
    "    else:\n",
    "        return False\n",
    "\n",
    "def is_wall(map_bt, x, y):\n",
    "    if map_bt[x,y] == 1:\n",
    "        return True\n",
    "    else:\n",
    "        return False\n",
    "\n",
    "def is_hot_spot(map_bt, x, y):\n",
    "    if map_bt[x,y] == 3:\n",
    "        return True\n",
    "    else:\n",
    "        return False\n",
    "\n",
    "def is_payment(map_bt, x, y):\n",
    "    if map_bt[x,y] == 4:\n",
    "        return True\n",
    "    else:\n",
    "        return False"
   ]
  },
  {
   "cell_type": "code",
   "execution_count": 337,
   "metadata": {},
   "outputs": [],
   "source": [
    "def print_smkt(map_bt, l=100, w=100, slw=True):\n",
    "    if slw:\n",
    "        l,w = map_bt.shape\n",
    "    H=''\n",
    "    for x in range(l):\n",
    "        H+='\\n'\n",
    "        for y in range(w):\n",
    "            if is_wall(map_bt, x, y):\n",
    "                H += colored('x','grey')  # walls\n",
    "            elif is_courridor(map_bt, x, y):\n",
    "                H +=colored('x','blue')  # courridors\n",
    "            elif is_hot_spot(map_bt, x, y):\n",
    "                H +=colored('x','red')  # hot spots\n",
    "            elif is_payment(map_bt, x, y):\n",
    "                H +=colored('x','green') # cashier\n",
    "            else:\n",
    "                print(f'What???should not be here')\n",
    "    H+='\\n'\n",
    "    return H\n",
    "       "
   ]
  },
  {
   "cell_type": "code",
   "execution_count": 351,
   "metadata": {},
   "outputs": [],
   "source": [
    "H = print_smkt(map_bt)"
   ]
  },
  {
   "cell_type": "code",
   "execution_count": 352,
   "metadata": {},
   "outputs": [
    {
     "name": "stdout",
     "output_type": "stream",
     "text": [
      "\n",
      "\u001b[30mx\u001b[0m\u001b[30mx\u001b[0m\u001b[30mx\u001b[0m\u001b[30mx\u001b[0m\u001b[30mx\u001b[0m\u001b[30mx\u001b[0m\u001b[30mx\u001b[0m\u001b[30mx\u001b[0m\u001b[30mx\u001b[0m\u001b[30mx\u001b[0m\u001b[30mx\u001b[0m\u001b[30mx\u001b[0m\u001b[30mx\u001b[0m\u001b[30mx\u001b[0m\u001b[30mx\u001b[0m\u001b[30mx\u001b[0m\u001b[30mx\u001b[0m\u001b[30mx\u001b[0m\u001b[30mx\u001b[0m\u001b[30mx\u001b[0m\u001b[30mx\u001b[0m\u001b[30mx\u001b[0m\u001b[30mx\u001b[0m\u001b[30mx\u001b[0m\u001b[30mx\u001b[0m\u001b[30mx\u001b[0m\u001b[30mx\u001b[0m\u001b[30mx\u001b[0m\u001b[30mx\u001b[0m\u001b[30mx\u001b[0m\u001b[30mx\u001b[0m\u001b[30mx\u001b[0m\u001b[30mx\u001b[0m\u001b[30mx\u001b[0m\u001b[30mx\u001b[0m\u001b[30mx\u001b[0m\u001b[30mx\u001b[0m\u001b[30mx\u001b[0m\u001b[30mx\u001b[0m\u001b[30mx\u001b[0m\n",
      "\u001b[30mx\u001b[0m\u001b[34mx\u001b[0m\u001b[34mx\u001b[0m\u001b[34mx\u001b[0m\u001b[30mx\u001b[0m\u001b[34mx\u001b[0m\u001b[34mx\u001b[0m\u001b[34mx\u001b[0m\u001b[30mx\u001b[0m\u001b[34mx\u001b[0m\u001b[34mx\u001b[0m\u001b[34mx\u001b[0m\u001b[30mx\u001b[0m\u001b[34mx\u001b[0m\u001b[34mx\u001b[0m\u001b[34mx\u001b[0m\u001b[30mx\u001b[0m\u001b[34mx\u001b[0m\u001b[34mx\u001b[0m\u001b[34mx\u001b[0m\u001b[30mx\u001b[0m\u001b[34mx\u001b[0m\u001b[34mx\u001b[0m\u001b[34mx\u001b[0m\u001b[30mx\u001b[0m\u001b[34mx\u001b[0m\u001b[34mx\u001b[0m\u001b[34mx\u001b[0m\u001b[30mx\u001b[0m\u001b[34mx\u001b[0m\u001b[34mx\u001b[0m\u001b[34mx\u001b[0m\u001b[30mx\u001b[0m\u001b[34mx\u001b[0m\u001b[34mx\u001b[0m\u001b[34mx\u001b[0m\u001b[30mx\u001b[0m\u001b[34mx\u001b[0m\u001b[34mx\u001b[0m\u001b[30mx\u001b[0m\n",
      "\u001b[30mx\u001b[0m\u001b[34mx\u001b[0m\u001b[34mx\u001b[0m\u001b[34mx\u001b[0m\u001b[30mx\u001b[0m\u001b[34mx\u001b[0m\u001b[34mx\u001b[0m\u001b[34mx\u001b[0m\u001b[30mx\u001b[0m\u001b[34mx\u001b[0m\u001b[34mx\u001b[0m\u001b[34mx\u001b[0m\u001b[30mx\u001b[0m\u001b[34mx\u001b[0m\u001b[34mx\u001b[0m\u001b[34mx\u001b[0m\u001b[30mx\u001b[0m\u001b[34mx\u001b[0m\u001b[34mx\u001b[0m\u001b[34mx\u001b[0m\u001b[30mx\u001b[0m\u001b[34mx\u001b[0m\u001b[34mx\u001b[0m\u001b[34mx\u001b[0m\u001b[30mx\u001b[0m\u001b[34mx\u001b[0m\u001b[34mx\u001b[0m\u001b[34mx\u001b[0m\u001b[30mx\u001b[0m\u001b[34mx\u001b[0m\u001b[34mx\u001b[0m\u001b[34mx\u001b[0m\u001b[30mx\u001b[0m\u001b[34mx\u001b[0m\u001b[34mx\u001b[0m\u001b[34mx\u001b[0m\u001b[30mx\u001b[0m\u001b[34mx\u001b[0m\u001b[34mx\u001b[0m\u001b[30mx\u001b[0m\n",
      "\u001b[30mx\u001b[0m\u001b[34mx\u001b[0m\u001b[34mx\u001b[0m\u001b[34mx\u001b[0m\u001b[30mx\u001b[0m\u001b[34mx\u001b[0m\u001b[34mx\u001b[0m\u001b[34mx\u001b[0m\u001b[30mx\u001b[0m\u001b[34mx\u001b[0m\u001b[34mx\u001b[0m\u001b[34mx\u001b[0m\u001b[30mx\u001b[0m\u001b[34mx\u001b[0m\u001b[34mx\u001b[0m\u001b[34mx\u001b[0m\u001b[30mx\u001b[0m\u001b[34mx\u001b[0m\u001b[34mx\u001b[0m\u001b[34mx\u001b[0m\u001b[30mx\u001b[0m\u001b[34mx\u001b[0m\u001b[34mx\u001b[0m\u001b[34mx\u001b[0m\u001b[30mx\u001b[0m\u001b[34mx\u001b[0m\u001b[34mx\u001b[0m\u001b[34mx\u001b[0m\u001b[30mx\u001b[0m\u001b[34mx\u001b[0m\u001b[34mx\u001b[0m\u001b[34mx\u001b[0m\u001b[30mx\u001b[0m\u001b[34mx\u001b[0m\u001b[34mx\u001b[0m\u001b[34mx\u001b[0m\u001b[30mx\u001b[0m\u001b[34mx\u001b[0m\u001b[34mx\u001b[0m\u001b[30mx\u001b[0m\n",
      "\u001b[30mx\u001b[0m\u001b[34mx\u001b[0m\u001b[34mx\u001b[0m\u001b[34mx\u001b[0m\u001b[30mx\u001b[0m\u001b[34mx\u001b[0m\u001b[34mx\u001b[0m\u001b[34mx\u001b[0m\u001b[30mx\u001b[0m\u001b[34mx\u001b[0m\u001b[34mx\u001b[0m\u001b[34mx\u001b[0m\u001b[30mx\u001b[0m\u001b[34mx\u001b[0m\u001b[34mx\u001b[0m\u001b[34mx\u001b[0m\u001b[30mx\u001b[0m\u001b[34mx\u001b[0m\u001b[34mx\u001b[0m\u001b[34mx\u001b[0m\u001b[30mx\u001b[0m\u001b[34mx\u001b[0m\u001b[34mx\u001b[0m\u001b[34mx\u001b[0m\u001b[30mx\u001b[0m\u001b[34mx\u001b[0m\u001b[34mx\u001b[0m\u001b[34mx\u001b[0m\u001b[30mx\u001b[0m\u001b[34mx\u001b[0m\u001b[34mx\u001b[0m\u001b[34mx\u001b[0m\u001b[30mx\u001b[0m\u001b[34mx\u001b[0m\u001b[34mx\u001b[0m\u001b[34mx\u001b[0m\u001b[30mx\u001b[0m\u001b[34mx\u001b[0m\u001b[34mx\u001b[0m\u001b[30mx\u001b[0m\n",
      "\u001b[30mx\u001b[0m\u001b[34mx\u001b[0m\u001b[34mx\u001b[0m\u001b[34mx\u001b[0m\u001b[30mx\u001b[0m\u001b[34mx\u001b[0m\u001b[34mx\u001b[0m\u001b[34mx\u001b[0m\u001b[30mx\u001b[0m\u001b[34mx\u001b[0m\u001b[34mx\u001b[0m\u001b[34mx\u001b[0m\u001b[30mx\u001b[0m\u001b[34mx\u001b[0m\u001b[34mx\u001b[0m\u001b[34mx\u001b[0m\u001b[30mx\u001b[0m\u001b[34mx\u001b[0m\u001b[34mx\u001b[0m\u001b[34mx\u001b[0m\u001b[30mx\u001b[0m\u001b[34mx\u001b[0m\u001b[34mx\u001b[0m\u001b[34mx\u001b[0m\u001b[30mx\u001b[0m\u001b[34mx\u001b[0m\u001b[34mx\u001b[0m\u001b[34mx\u001b[0m\u001b[30mx\u001b[0m\u001b[34mx\u001b[0m\u001b[34mx\u001b[0m\u001b[34mx\u001b[0m\u001b[30mx\u001b[0m\u001b[34mx\u001b[0m\u001b[34mx\u001b[0m\u001b[34mx\u001b[0m\u001b[30mx\u001b[0m\u001b[34mx\u001b[0m\u001b[34mx\u001b[0m\u001b[30mx\u001b[0m\n",
      "\u001b[30mx\u001b[0m\u001b[34mx\u001b[0m\u001b[34mx\u001b[0m\u001b[34mx\u001b[0m\u001b[30mx\u001b[0m\u001b[34mx\u001b[0m\u001b[34mx\u001b[0m\u001b[34mx\u001b[0m\u001b[30mx\u001b[0m\u001b[34mx\u001b[0m\u001b[34mx\u001b[0m\u001b[34mx\u001b[0m\u001b[30mx\u001b[0m\u001b[34mx\u001b[0m\u001b[34mx\u001b[0m\u001b[34mx\u001b[0m\u001b[30mx\u001b[0m\u001b[34mx\u001b[0m\u001b[34mx\u001b[0m\u001b[34mx\u001b[0m\u001b[30mx\u001b[0m\u001b[34mx\u001b[0m\u001b[34mx\u001b[0m\u001b[34mx\u001b[0m\u001b[30mx\u001b[0m\u001b[34mx\u001b[0m\u001b[34mx\u001b[0m\u001b[34mx\u001b[0m\u001b[30mx\u001b[0m\u001b[34mx\u001b[0m\u001b[34mx\u001b[0m\u001b[34mx\u001b[0m\u001b[30mx\u001b[0m\u001b[34mx\u001b[0m\u001b[34mx\u001b[0m\u001b[34mx\u001b[0m\u001b[30mx\u001b[0m\u001b[34mx\u001b[0m\u001b[34mx\u001b[0m\u001b[30mx\u001b[0m\n",
      "\u001b[30mx\u001b[0m\u001b[34mx\u001b[0m\u001b[34mx\u001b[0m\u001b[34mx\u001b[0m\u001b[30mx\u001b[0m\u001b[34mx\u001b[0m\u001b[34mx\u001b[0m\u001b[34mx\u001b[0m\u001b[30mx\u001b[0m\u001b[34mx\u001b[0m\u001b[34mx\u001b[0m\u001b[34mx\u001b[0m\u001b[30mx\u001b[0m\u001b[34mx\u001b[0m\u001b[34mx\u001b[0m\u001b[34mx\u001b[0m\u001b[30mx\u001b[0m\u001b[34mx\u001b[0m\u001b[34mx\u001b[0m\u001b[34mx\u001b[0m\u001b[30mx\u001b[0m\u001b[34mx\u001b[0m\u001b[34mx\u001b[0m\u001b[34mx\u001b[0m\u001b[30mx\u001b[0m\u001b[34mx\u001b[0m\u001b[34mx\u001b[0m\u001b[34mx\u001b[0m\u001b[30mx\u001b[0m\u001b[34mx\u001b[0m\u001b[34mx\u001b[0m\u001b[34mx\u001b[0m\u001b[30mx\u001b[0m\u001b[34mx\u001b[0m\u001b[34mx\u001b[0m\u001b[34mx\u001b[0m\u001b[30mx\u001b[0m\u001b[34mx\u001b[0m\u001b[34mx\u001b[0m\u001b[30mx\u001b[0m\n",
      "\u001b[30mx\u001b[0m\u001b[34mx\u001b[0m\u001b[34mx\u001b[0m\u001b[34mx\u001b[0m\u001b[30mx\u001b[0m\u001b[34mx\u001b[0m\u001b[34mx\u001b[0m\u001b[34mx\u001b[0m\u001b[30mx\u001b[0m\u001b[34mx\u001b[0m\u001b[34mx\u001b[0m\u001b[34mx\u001b[0m\u001b[30mx\u001b[0m\u001b[34mx\u001b[0m\u001b[34mx\u001b[0m\u001b[34mx\u001b[0m\u001b[30mx\u001b[0m\u001b[34mx\u001b[0m\u001b[34mx\u001b[0m\u001b[34mx\u001b[0m\u001b[30mx\u001b[0m\u001b[34mx\u001b[0m\u001b[34mx\u001b[0m\u001b[34mx\u001b[0m\u001b[30mx\u001b[0m\u001b[34mx\u001b[0m\u001b[34mx\u001b[0m\u001b[34mx\u001b[0m\u001b[30mx\u001b[0m\u001b[34mx\u001b[0m\u001b[34mx\u001b[0m\u001b[34mx\u001b[0m\u001b[30mx\u001b[0m\u001b[34mx\u001b[0m\u001b[34mx\u001b[0m\u001b[34mx\u001b[0m\u001b[30mx\u001b[0m\u001b[34mx\u001b[0m\u001b[34mx\u001b[0m\u001b[30mx\u001b[0m\n",
      "\u001b[30mx\u001b[0m\u001b[34mx\u001b[0m\u001b[34mx\u001b[0m\u001b[34mx\u001b[0m\u001b[30mx\u001b[0m\u001b[34mx\u001b[0m\u001b[34mx\u001b[0m\u001b[34mx\u001b[0m\u001b[30mx\u001b[0m\u001b[34mx\u001b[0m\u001b[34mx\u001b[0m\u001b[34mx\u001b[0m\u001b[30mx\u001b[0m\u001b[34mx\u001b[0m\u001b[34mx\u001b[0m\u001b[34mx\u001b[0m\u001b[30mx\u001b[0m\u001b[34mx\u001b[0m\u001b[34mx\u001b[0m\u001b[34mx\u001b[0m\u001b[30mx\u001b[0m\u001b[34mx\u001b[0m\u001b[34mx\u001b[0m\u001b[34mx\u001b[0m\u001b[30mx\u001b[0m\u001b[34mx\u001b[0m\u001b[34mx\u001b[0m\u001b[34mx\u001b[0m\u001b[30mx\u001b[0m\u001b[34mx\u001b[0m\u001b[34mx\u001b[0m\u001b[34mx\u001b[0m\u001b[30mx\u001b[0m\u001b[34mx\u001b[0m\u001b[34mx\u001b[0m\u001b[34mx\u001b[0m\u001b[30mx\u001b[0m\u001b[34mx\u001b[0m\u001b[34mx\u001b[0m\u001b[30mx\u001b[0m\n",
      "\u001b[30mx\u001b[0m\u001b[34mx\u001b[0m\u001b[34mx\u001b[0m\u001b[34mx\u001b[0m\u001b[30mx\u001b[0m\u001b[34mx\u001b[0m\u001b[34mx\u001b[0m\u001b[34mx\u001b[0m\u001b[30mx\u001b[0m\u001b[34mx\u001b[0m\u001b[34mx\u001b[0m\u001b[34mx\u001b[0m\u001b[30mx\u001b[0m\u001b[34mx\u001b[0m\u001b[34mx\u001b[0m\u001b[34mx\u001b[0m\u001b[30mx\u001b[0m\u001b[34mx\u001b[0m\u001b[34mx\u001b[0m\u001b[34mx\u001b[0m\u001b[30mx\u001b[0m\u001b[34mx\u001b[0m\u001b[34mx\u001b[0m\u001b[34mx\u001b[0m\u001b[30mx\u001b[0m\u001b[34mx\u001b[0m\u001b[34mx\u001b[0m\u001b[34mx\u001b[0m\u001b[30mx\u001b[0m\u001b[34mx\u001b[0m\u001b[34mx\u001b[0m\u001b[34mx\u001b[0m\u001b[30mx\u001b[0m\u001b[34mx\u001b[0m\u001b[34mx\u001b[0m\u001b[34mx\u001b[0m\u001b[30mx\u001b[0m\u001b[34mx\u001b[0m\u001b[34mx\u001b[0m\u001b[30mx\u001b[0m\n",
      "\u001b[30mx\u001b[0m\u001b[34mx\u001b[0m\u001b[34mx\u001b[0m\u001b[34mx\u001b[0m\u001b[30mx\u001b[0m\u001b[34mx\u001b[0m\u001b[34mx\u001b[0m\u001b[34mx\u001b[0m\u001b[30mx\u001b[0m\u001b[34mx\u001b[0m\u001b[34mx\u001b[0m\u001b[34mx\u001b[0m\u001b[30mx\u001b[0m\u001b[34mx\u001b[0m\u001b[34mx\u001b[0m\u001b[34mx\u001b[0m\u001b[30mx\u001b[0m\u001b[34mx\u001b[0m\u001b[34mx\u001b[0m\u001b[34mx\u001b[0m\u001b[30mx\u001b[0m\u001b[34mx\u001b[0m\u001b[34mx\u001b[0m\u001b[34mx\u001b[0m\u001b[30mx\u001b[0m\u001b[34mx\u001b[0m\u001b[34mx\u001b[0m\u001b[34mx\u001b[0m\u001b[30mx\u001b[0m\u001b[34mx\u001b[0m\u001b[34mx\u001b[0m\u001b[34mx\u001b[0m\u001b[30mx\u001b[0m\u001b[34mx\u001b[0m\u001b[34mx\u001b[0m\u001b[34mx\u001b[0m\u001b[30mx\u001b[0m\u001b[34mx\u001b[0m\u001b[34mx\u001b[0m\u001b[30mx\u001b[0m\n",
      "\u001b[30mx\u001b[0m\u001b[34mx\u001b[0m\u001b[34mx\u001b[0m\u001b[34mx\u001b[0m\u001b[30mx\u001b[0m\u001b[34mx\u001b[0m\u001b[34mx\u001b[0m\u001b[34mx\u001b[0m\u001b[30mx\u001b[0m\u001b[34mx\u001b[0m\u001b[34mx\u001b[0m\u001b[34mx\u001b[0m\u001b[30mx\u001b[0m\u001b[34mx\u001b[0m\u001b[34mx\u001b[0m\u001b[34mx\u001b[0m\u001b[30mx\u001b[0m\u001b[34mx\u001b[0m\u001b[34mx\u001b[0m\u001b[34mx\u001b[0m\u001b[30mx\u001b[0m\u001b[34mx\u001b[0m\u001b[34mx\u001b[0m\u001b[34mx\u001b[0m\u001b[30mx\u001b[0m\u001b[34mx\u001b[0m\u001b[34mx\u001b[0m\u001b[34mx\u001b[0m\u001b[30mx\u001b[0m\u001b[34mx\u001b[0m\u001b[34mx\u001b[0m\u001b[34mx\u001b[0m\u001b[30mx\u001b[0m\u001b[34mx\u001b[0m\u001b[34mx\u001b[0m\u001b[34mx\u001b[0m\u001b[30mx\u001b[0m\u001b[34mx\u001b[0m\u001b[34mx\u001b[0m\u001b[30mx\u001b[0m\n",
      "\u001b[30mx\u001b[0m\u001b[34mx\u001b[0m\u001b[34mx\u001b[0m\u001b[34mx\u001b[0m\u001b[30mx\u001b[0m\u001b[34mx\u001b[0m\u001b[34mx\u001b[0m\u001b[34mx\u001b[0m\u001b[30mx\u001b[0m\u001b[34mx\u001b[0m\u001b[34mx\u001b[0m\u001b[34mx\u001b[0m\u001b[30mx\u001b[0m\u001b[34mx\u001b[0m\u001b[34mx\u001b[0m\u001b[34mx\u001b[0m\u001b[30mx\u001b[0m\u001b[34mx\u001b[0m\u001b[34mx\u001b[0m\u001b[34mx\u001b[0m\u001b[30mx\u001b[0m\u001b[34mx\u001b[0m\u001b[34mx\u001b[0m\u001b[34mx\u001b[0m\u001b[30mx\u001b[0m\u001b[34mx\u001b[0m\u001b[34mx\u001b[0m\u001b[34mx\u001b[0m\u001b[30mx\u001b[0m\u001b[34mx\u001b[0m\u001b[34mx\u001b[0m\u001b[34mx\u001b[0m\u001b[30mx\u001b[0m\u001b[34mx\u001b[0m\u001b[34mx\u001b[0m\u001b[34mx\u001b[0m\u001b[30mx\u001b[0m\u001b[34mx\u001b[0m\u001b[34mx\u001b[0m\u001b[30mx\u001b[0m\n",
      "\u001b[30mx\u001b[0m\u001b[34mx\u001b[0m\u001b[34mx\u001b[0m\u001b[34mx\u001b[0m\u001b[30mx\u001b[0m\u001b[34mx\u001b[0m\u001b[34mx\u001b[0m\u001b[34mx\u001b[0m\u001b[30mx\u001b[0m\u001b[34mx\u001b[0m\u001b[34mx\u001b[0m\u001b[34mx\u001b[0m\u001b[30mx\u001b[0m\u001b[34mx\u001b[0m\u001b[34mx\u001b[0m\u001b[34mx\u001b[0m\u001b[30mx\u001b[0m\u001b[34mx\u001b[0m\u001b[34mx\u001b[0m\u001b[34mx\u001b[0m\u001b[30mx\u001b[0m\u001b[34mx\u001b[0m\u001b[34mx\u001b[0m\u001b[34mx\u001b[0m\u001b[30mx\u001b[0m\u001b[34mx\u001b[0m\u001b[34mx\u001b[0m\u001b[34mx\u001b[0m\u001b[30mx\u001b[0m\u001b[34mx\u001b[0m\u001b[34mx\u001b[0m\u001b[34mx\u001b[0m\u001b[30mx\u001b[0m\u001b[34mx\u001b[0m\u001b[34mx\u001b[0m\u001b[34mx\u001b[0m\u001b[30mx\u001b[0m\u001b[34mx\u001b[0m\u001b[34mx\u001b[0m\u001b[30mx\u001b[0m\n",
      "\u001b[30mx\u001b[0m\u001b[34mx\u001b[0m\u001b[34mx\u001b[0m\u001b[34mx\u001b[0m\u001b[34mx\u001b[0m\u001b[34mx\u001b[0m\u001b[34mx\u001b[0m\u001b[34mx\u001b[0m\u001b[34mx\u001b[0m\u001b[34mx\u001b[0m\u001b[34mx\u001b[0m\u001b[34mx\u001b[0m\u001b[34mx\u001b[0m\u001b[34mx\u001b[0m\u001b[34mx\u001b[0m\u001b[34mx\u001b[0m\u001b[34mx\u001b[0m\u001b[34mx\u001b[0m\u001b[34mx\u001b[0m\u001b[34mx\u001b[0m\u001b[34mx\u001b[0m\u001b[34mx\u001b[0m\u001b[34mx\u001b[0m\u001b[34mx\u001b[0m\u001b[34mx\u001b[0m\u001b[34mx\u001b[0m\u001b[34mx\u001b[0m\u001b[34mx\u001b[0m\u001b[34mx\u001b[0m\u001b[34mx\u001b[0m\u001b[34mx\u001b[0m\u001b[34mx\u001b[0m\u001b[34mx\u001b[0m\u001b[34mx\u001b[0m\u001b[34mx\u001b[0m\u001b[34mx\u001b[0m\u001b[34mx\u001b[0m\u001b[34mx\u001b[0m\u001b[34mx\u001b[0m\u001b[32mx\u001b[0m\n",
      "\u001b[34mx\u001b[0m\u001b[34mx\u001b[0m\u001b[34mx\u001b[0m\u001b[34mx\u001b[0m\u001b[34mx\u001b[0m\u001b[31mx\u001b[0m\u001b[31mx\u001b[0m\u001b[31mx\u001b[0m\u001b[34mx\u001b[0m\u001b[34mx\u001b[0m\u001b[34mx\u001b[0m\u001b[34mx\u001b[0m\u001b[34mx\u001b[0m\u001b[31mx\u001b[0m\u001b[31mx\u001b[0m\u001b[31mx\u001b[0m\u001b[34mx\u001b[0m\u001b[34mx\u001b[0m\u001b[34mx\u001b[0m\u001b[34mx\u001b[0m\u001b[34mx\u001b[0m\u001b[31mx\u001b[0m\u001b[31mx\u001b[0m\u001b[31mx\u001b[0m\u001b[34mx\u001b[0m\u001b[34mx\u001b[0m\u001b[34mx\u001b[0m\u001b[34mx\u001b[0m\u001b[34mx\u001b[0m\u001b[31mx\u001b[0m\u001b[31mx\u001b[0m\u001b[31mx\u001b[0m\u001b[34mx\u001b[0m\u001b[34mx\u001b[0m\u001b[34mx\u001b[0m\u001b[34mx\u001b[0m\u001b[34mx\u001b[0m\u001b[34mx\u001b[0m\u001b[34mx\u001b[0m\u001b[34mx\u001b[0m\n",
      "\u001b[34mx\u001b[0m\u001b[34mx\u001b[0m\u001b[34mx\u001b[0m\u001b[34mx\u001b[0m\u001b[34mx\u001b[0m\u001b[31mx\u001b[0m\u001b[31mx\u001b[0m\u001b[31mx\u001b[0m\u001b[34mx\u001b[0m\u001b[34mx\u001b[0m\u001b[34mx\u001b[0m\u001b[34mx\u001b[0m\u001b[34mx\u001b[0m\u001b[31mx\u001b[0m\u001b[31mx\u001b[0m\u001b[31mx\u001b[0m\u001b[34mx\u001b[0m\u001b[34mx\u001b[0m\u001b[34mx\u001b[0m\u001b[34mx\u001b[0m\u001b[34mx\u001b[0m\u001b[31mx\u001b[0m\u001b[31mx\u001b[0m\u001b[31mx\u001b[0m\u001b[34mx\u001b[0m\u001b[34mx\u001b[0m\u001b[34mx\u001b[0m\u001b[34mx\u001b[0m\u001b[34mx\u001b[0m\u001b[31mx\u001b[0m\u001b[31mx\u001b[0m\u001b[31mx\u001b[0m\u001b[34mx\u001b[0m\u001b[34mx\u001b[0m\u001b[34mx\u001b[0m\u001b[34mx\u001b[0m\u001b[34mx\u001b[0m\u001b[34mx\u001b[0m\u001b[34mx\u001b[0m\u001b[32mx\u001b[0m\n",
      "\u001b[34mx\u001b[0m\u001b[34mx\u001b[0m\u001b[34mx\u001b[0m\u001b[34mx\u001b[0m\u001b[34mx\u001b[0m\u001b[31mx\u001b[0m\u001b[31mx\u001b[0m\u001b[31mx\u001b[0m\u001b[34mx\u001b[0m\u001b[34mx\u001b[0m\u001b[34mx\u001b[0m\u001b[34mx\u001b[0m\u001b[34mx\u001b[0m\u001b[31mx\u001b[0m\u001b[31mx\u001b[0m\u001b[31mx\u001b[0m\u001b[34mx\u001b[0m\u001b[34mx\u001b[0m\u001b[34mx\u001b[0m\u001b[34mx\u001b[0m\u001b[34mx\u001b[0m\u001b[31mx\u001b[0m\u001b[31mx\u001b[0m\u001b[31mx\u001b[0m\u001b[34mx\u001b[0m\u001b[34mx\u001b[0m\u001b[34mx\u001b[0m\u001b[34mx\u001b[0m\u001b[34mx\u001b[0m\u001b[31mx\u001b[0m\u001b[31mx\u001b[0m\u001b[31mx\u001b[0m\u001b[34mx\u001b[0m\u001b[34mx\u001b[0m\u001b[34mx\u001b[0m\u001b[34mx\u001b[0m\u001b[34mx\u001b[0m\u001b[34mx\u001b[0m\u001b[34mx\u001b[0m\u001b[34mx\u001b[0m\n",
      "\u001b[34mx\u001b[0m\u001b[34mx\u001b[0m\u001b[34mx\u001b[0m\u001b[34mx\u001b[0m\u001b[34mx\u001b[0m\u001b[34mx\u001b[0m\u001b[34mx\u001b[0m\u001b[34mx\u001b[0m\u001b[34mx\u001b[0m\u001b[34mx\u001b[0m\u001b[34mx\u001b[0m\u001b[34mx\u001b[0m\u001b[34mx\u001b[0m\u001b[34mx\u001b[0m\u001b[34mx\u001b[0m\u001b[34mx\u001b[0m\u001b[34mx\u001b[0m\u001b[34mx\u001b[0m\u001b[34mx\u001b[0m\u001b[34mx\u001b[0m\u001b[34mx\u001b[0m\u001b[34mx\u001b[0m\u001b[34mx\u001b[0m\u001b[34mx\u001b[0m\u001b[34mx\u001b[0m\u001b[34mx\u001b[0m\u001b[34mx\u001b[0m\u001b[34mx\u001b[0m\u001b[34mx\u001b[0m\u001b[34mx\u001b[0m\u001b[34mx\u001b[0m\u001b[34mx\u001b[0m\u001b[34mx\u001b[0m\u001b[34mx\u001b[0m\u001b[34mx\u001b[0m\u001b[34mx\u001b[0m\u001b[34mx\u001b[0m\u001b[34mx\u001b[0m\u001b[34mx\u001b[0m\u001b[32mx\u001b[0m\n",
      "\u001b[34mx\u001b[0m\u001b[34mx\u001b[0m\u001b[34mx\u001b[0m\u001b[34mx\u001b[0m\u001b[30mx\u001b[0m\u001b[34mx\u001b[0m\u001b[34mx\u001b[0m\u001b[34mx\u001b[0m\u001b[30mx\u001b[0m\u001b[34mx\u001b[0m\u001b[34mx\u001b[0m\u001b[34mx\u001b[0m\u001b[30mx\u001b[0m\u001b[34mx\u001b[0m\u001b[34mx\u001b[0m\u001b[34mx\u001b[0m\u001b[30mx\u001b[0m\u001b[34mx\u001b[0m\u001b[34mx\u001b[0m\u001b[34mx\u001b[0m\u001b[30mx\u001b[0m\u001b[34mx\u001b[0m\u001b[34mx\u001b[0m\u001b[34mx\u001b[0m\u001b[30mx\u001b[0m\u001b[34mx\u001b[0m\u001b[34mx\u001b[0m\u001b[34mx\u001b[0m\u001b[30mx\u001b[0m\u001b[34mx\u001b[0m\u001b[34mx\u001b[0m\u001b[34mx\u001b[0m\u001b[30mx\u001b[0m\u001b[34mx\u001b[0m\u001b[34mx\u001b[0m\u001b[34mx\u001b[0m\u001b[30mx\u001b[0m\u001b[34mx\u001b[0m\u001b[34mx\u001b[0m\u001b[30mx\u001b[0m\n",
      "\u001b[30mx\u001b[0m\u001b[34mx\u001b[0m\u001b[34mx\u001b[0m\u001b[34mx\u001b[0m\u001b[30mx\u001b[0m\u001b[34mx\u001b[0m\u001b[34mx\u001b[0m\u001b[34mx\u001b[0m\u001b[30mx\u001b[0m\u001b[34mx\u001b[0m\u001b[34mx\u001b[0m\u001b[34mx\u001b[0m\u001b[30mx\u001b[0m\u001b[34mx\u001b[0m\u001b[34mx\u001b[0m\u001b[34mx\u001b[0m\u001b[30mx\u001b[0m\u001b[34mx\u001b[0m\u001b[34mx\u001b[0m\u001b[34mx\u001b[0m\u001b[30mx\u001b[0m\u001b[34mx\u001b[0m\u001b[34mx\u001b[0m\u001b[34mx\u001b[0m\u001b[30mx\u001b[0m\u001b[34mx\u001b[0m\u001b[34mx\u001b[0m\u001b[34mx\u001b[0m\u001b[30mx\u001b[0m\u001b[34mx\u001b[0m\u001b[34mx\u001b[0m\u001b[34mx\u001b[0m\u001b[30mx\u001b[0m\u001b[34mx\u001b[0m\u001b[34mx\u001b[0m\u001b[34mx\u001b[0m\u001b[30mx\u001b[0m\u001b[34mx\u001b[0m\u001b[34mx\u001b[0m\u001b[30mx\u001b[0m\n",
      "\u001b[30mx\u001b[0m\u001b[34mx\u001b[0m\u001b[34mx\u001b[0m\u001b[34mx\u001b[0m\u001b[30mx\u001b[0m\u001b[34mx\u001b[0m\u001b[34mx\u001b[0m\u001b[34mx\u001b[0m\u001b[30mx\u001b[0m\u001b[34mx\u001b[0m\u001b[34mx\u001b[0m\u001b[34mx\u001b[0m\u001b[30mx\u001b[0m\u001b[34mx\u001b[0m\u001b[34mx\u001b[0m\u001b[34mx\u001b[0m\u001b[30mx\u001b[0m\u001b[34mx\u001b[0m\u001b[34mx\u001b[0m\u001b[34mx\u001b[0m\u001b[30mx\u001b[0m\u001b[34mx\u001b[0m\u001b[34mx\u001b[0m\u001b[34mx\u001b[0m\u001b[30mx\u001b[0m\u001b[34mx\u001b[0m\u001b[34mx\u001b[0m\u001b[34mx\u001b[0m\u001b[30mx\u001b[0m\u001b[34mx\u001b[0m\u001b[34mx\u001b[0m\u001b[34mx\u001b[0m\u001b[30mx\u001b[0m\u001b[34mx\u001b[0m\u001b[34mx\u001b[0m\u001b[34mx\u001b[0m\u001b[30mx\u001b[0m\u001b[34mx\u001b[0m\u001b[34mx\u001b[0m\u001b[30mx\u001b[0m\n",
      "\u001b[30mx\u001b[0m\u001b[34mx\u001b[0m\u001b[34mx\u001b[0m\u001b[34mx\u001b[0m\u001b[30mx\u001b[0m\u001b[34mx\u001b[0m\u001b[34mx\u001b[0m\u001b[34mx\u001b[0m\u001b[30mx\u001b[0m\u001b[34mx\u001b[0m\u001b[34mx\u001b[0m\u001b[34mx\u001b[0m\u001b[30mx\u001b[0m\u001b[34mx\u001b[0m\u001b[34mx\u001b[0m\u001b[34mx\u001b[0m\u001b[30mx\u001b[0m\u001b[34mx\u001b[0m\u001b[34mx\u001b[0m\u001b[34mx\u001b[0m\u001b[30mx\u001b[0m\u001b[34mx\u001b[0m\u001b[34mx\u001b[0m\u001b[34mx\u001b[0m\u001b[30mx\u001b[0m\u001b[34mx\u001b[0m\u001b[34mx\u001b[0m\u001b[34mx\u001b[0m\u001b[30mx\u001b[0m\u001b[34mx\u001b[0m\u001b[34mx\u001b[0m\u001b[34mx\u001b[0m\u001b[30mx\u001b[0m\u001b[34mx\u001b[0m\u001b[34mx\u001b[0m\u001b[34mx\u001b[0m\u001b[30mx\u001b[0m\u001b[34mx\u001b[0m\u001b[34mx\u001b[0m\u001b[30mx\u001b[0m\n",
      "\u001b[30mx\u001b[0m\u001b[34mx\u001b[0m\u001b[34mx\u001b[0m\u001b[34mx\u001b[0m\u001b[30mx\u001b[0m\u001b[34mx\u001b[0m\u001b[34mx\u001b[0m\u001b[34mx\u001b[0m\u001b[30mx\u001b[0m\u001b[34mx\u001b[0m\u001b[34mx\u001b[0m\u001b[34mx\u001b[0m\u001b[30mx\u001b[0m\u001b[34mx\u001b[0m\u001b[34mx\u001b[0m\u001b[34mx\u001b[0m\u001b[30mx\u001b[0m\u001b[34mx\u001b[0m\u001b[34mx\u001b[0m\u001b[34mx\u001b[0m\u001b[30mx\u001b[0m\u001b[34mx\u001b[0m\u001b[34mx\u001b[0m\u001b[34mx\u001b[0m\u001b[30mx\u001b[0m\u001b[34mx\u001b[0m\u001b[34mx\u001b[0m\u001b[34mx\u001b[0m\u001b[30mx\u001b[0m\u001b[34mx\u001b[0m\u001b[34mx\u001b[0m\u001b[34mx\u001b[0m\u001b[30mx\u001b[0m\u001b[34mx\u001b[0m\u001b[34mx\u001b[0m\u001b[34mx\u001b[0m\u001b[30mx\u001b[0m\u001b[34mx\u001b[0m\u001b[34mx\u001b[0m\u001b[30mx\u001b[0m\n",
      "\u001b[30mx\u001b[0m\u001b[34mx\u001b[0m\u001b[34mx\u001b[0m\u001b[34mx\u001b[0m\u001b[30mx\u001b[0m\u001b[34mx\u001b[0m\u001b[34mx\u001b[0m\u001b[34mx\u001b[0m\u001b[30mx\u001b[0m\u001b[34mx\u001b[0m\u001b[34mx\u001b[0m\u001b[34mx\u001b[0m\u001b[30mx\u001b[0m\u001b[34mx\u001b[0m\u001b[34mx\u001b[0m\u001b[34mx\u001b[0m\u001b[30mx\u001b[0m\u001b[34mx\u001b[0m\u001b[34mx\u001b[0m\u001b[34mx\u001b[0m\u001b[30mx\u001b[0m\u001b[34mx\u001b[0m\u001b[34mx\u001b[0m\u001b[34mx\u001b[0m\u001b[30mx\u001b[0m\u001b[34mx\u001b[0m\u001b[34mx\u001b[0m\u001b[34mx\u001b[0m\u001b[30mx\u001b[0m\u001b[34mx\u001b[0m\u001b[34mx\u001b[0m\u001b[34mx\u001b[0m\u001b[30mx\u001b[0m\u001b[34mx\u001b[0m\u001b[34mx\u001b[0m\u001b[34mx\u001b[0m\u001b[30mx\u001b[0m\u001b[34mx\u001b[0m\u001b[34mx\u001b[0m\u001b[30mx\u001b[0m\n",
      "\u001b[30mx\u001b[0m\u001b[34mx\u001b[0m\u001b[34mx\u001b[0m\u001b[34mx\u001b[0m\u001b[30mx\u001b[0m\u001b[34mx\u001b[0m\u001b[34mx\u001b[0m\u001b[34mx\u001b[0m\u001b[30mx\u001b[0m\u001b[34mx\u001b[0m\u001b[34mx\u001b[0m\u001b[34mx\u001b[0m\u001b[30mx\u001b[0m\u001b[34mx\u001b[0m\u001b[34mx\u001b[0m\u001b[34mx\u001b[0m\u001b[30mx\u001b[0m\u001b[34mx\u001b[0m\u001b[34mx\u001b[0m\u001b[34mx\u001b[0m\u001b[30mx\u001b[0m\u001b[34mx\u001b[0m\u001b[34mx\u001b[0m\u001b[34mx\u001b[0m\u001b[30mx\u001b[0m\u001b[34mx\u001b[0m\u001b[34mx\u001b[0m\u001b[34mx\u001b[0m\u001b[30mx\u001b[0m\u001b[34mx\u001b[0m\u001b[34mx\u001b[0m\u001b[34mx\u001b[0m\u001b[30mx\u001b[0m\u001b[34mx\u001b[0m\u001b[34mx\u001b[0m\u001b[34mx\u001b[0m\u001b[30mx\u001b[0m\u001b[34mx\u001b[0m\u001b[34mx\u001b[0m\u001b[30mx\u001b[0m\n",
      "\u001b[30mx\u001b[0m\u001b[34mx\u001b[0m\u001b[34mx\u001b[0m\u001b[34mx\u001b[0m\u001b[30mx\u001b[0m\u001b[34mx\u001b[0m\u001b[34mx\u001b[0m\u001b[34mx\u001b[0m\u001b[30mx\u001b[0m\u001b[34mx\u001b[0m\u001b[34mx\u001b[0m\u001b[34mx\u001b[0m\u001b[30mx\u001b[0m\u001b[34mx\u001b[0m\u001b[34mx\u001b[0m\u001b[34mx\u001b[0m\u001b[30mx\u001b[0m\u001b[34mx\u001b[0m\u001b[34mx\u001b[0m\u001b[34mx\u001b[0m\u001b[30mx\u001b[0m\u001b[34mx\u001b[0m\u001b[34mx\u001b[0m\u001b[34mx\u001b[0m\u001b[30mx\u001b[0m\u001b[34mx\u001b[0m\u001b[34mx\u001b[0m\u001b[34mx\u001b[0m\u001b[30mx\u001b[0m\u001b[34mx\u001b[0m\u001b[34mx\u001b[0m\u001b[34mx\u001b[0m\u001b[30mx\u001b[0m\u001b[34mx\u001b[0m\u001b[34mx\u001b[0m\u001b[34mx\u001b[0m\u001b[30mx\u001b[0m\u001b[34mx\u001b[0m\u001b[34mx\u001b[0m\u001b[30mx\u001b[0m\n",
      "\u001b[30mx\u001b[0m\u001b[34mx\u001b[0m\u001b[34mx\u001b[0m\u001b[34mx\u001b[0m\u001b[30mx\u001b[0m\u001b[34mx\u001b[0m\u001b[34mx\u001b[0m\u001b[34mx\u001b[0m\u001b[30mx\u001b[0m\u001b[34mx\u001b[0m\u001b[34mx\u001b[0m\u001b[34mx\u001b[0m\u001b[30mx\u001b[0m\u001b[34mx\u001b[0m\u001b[34mx\u001b[0m\u001b[34mx\u001b[0m\u001b[30mx\u001b[0m\u001b[34mx\u001b[0m\u001b[34mx\u001b[0m\u001b[34mx\u001b[0m\u001b[30mx\u001b[0m\u001b[34mx\u001b[0m\u001b[34mx\u001b[0m\u001b[34mx\u001b[0m\u001b[30mx\u001b[0m\u001b[34mx\u001b[0m\u001b[34mx\u001b[0m\u001b[34mx\u001b[0m\u001b[30mx\u001b[0m\u001b[34mx\u001b[0m\u001b[34mx\u001b[0m\u001b[34mx\u001b[0m\u001b[30mx\u001b[0m\u001b[34mx\u001b[0m\u001b[34mx\u001b[0m\u001b[34mx\u001b[0m\u001b[30mx\u001b[0m\u001b[34mx\u001b[0m\u001b[34mx\u001b[0m\u001b[30mx\u001b[0m\n",
      "\u001b[30mx\u001b[0m\u001b[34mx\u001b[0m\u001b[34mx\u001b[0m\u001b[34mx\u001b[0m\u001b[30mx\u001b[0m\u001b[34mx\u001b[0m\u001b[34mx\u001b[0m\u001b[34mx\u001b[0m\u001b[30mx\u001b[0m\u001b[34mx\u001b[0m\u001b[34mx\u001b[0m\u001b[34mx\u001b[0m\u001b[30mx\u001b[0m\u001b[34mx\u001b[0m\u001b[34mx\u001b[0m\u001b[34mx\u001b[0m\u001b[30mx\u001b[0m\u001b[34mx\u001b[0m\u001b[34mx\u001b[0m\u001b[34mx\u001b[0m\u001b[30mx\u001b[0m\u001b[34mx\u001b[0m\u001b[34mx\u001b[0m\u001b[34mx\u001b[0m\u001b[30mx\u001b[0m\u001b[34mx\u001b[0m\u001b[34mx\u001b[0m\u001b[34mx\u001b[0m\u001b[30mx\u001b[0m\u001b[34mx\u001b[0m\u001b[34mx\u001b[0m\u001b[34mx\u001b[0m\u001b[30mx\u001b[0m\u001b[34mx\u001b[0m\u001b[34mx\u001b[0m\u001b[34mx\u001b[0m\u001b[30mx\u001b[0m\u001b[34mx\u001b[0m\u001b[34mx\u001b[0m\u001b[30mx\u001b[0m\n",
      "\u001b[30mx\u001b[0m\u001b[34mx\u001b[0m\u001b[34mx\u001b[0m\u001b[34mx\u001b[0m\u001b[30mx\u001b[0m\u001b[34mx\u001b[0m\u001b[34mx\u001b[0m\u001b[34mx\u001b[0m\u001b[30mx\u001b[0m\u001b[34mx\u001b[0m\u001b[34mx\u001b[0m\u001b[34mx\u001b[0m\u001b[30mx\u001b[0m\u001b[34mx\u001b[0m\u001b[34mx\u001b[0m\u001b[34mx\u001b[0m\u001b[30mx\u001b[0m\u001b[34mx\u001b[0m\u001b[34mx\u001b[0m\u001b[34mx\u001b[0m\u001b[30mx\u001b[0m\u001b[34mx\u001b[0m\u001b[34mx\u001b[0m\u001b[34mx\u001b[0m\u001b[30mx\u001b[0m\u001b[34mx\u001b[0m\u001b[34mx\u001b[0m\u001b[34mx\u001b[0m\u001b[30mx\u001b[0m\u001b[34mx\u001b[0m\u001b[34mx\u001b[0m\u001b[34mx\u001b[0m\u001b[30mx\u001b[0m\u001b[34mx\u001b[0m\u001b[34mx\u001b[0m\u001b[34mx\u001b[0m\u001b[30mx\u001b[0m\u001b[34mx\u001b[0m\u001b[34mx\u001b[0m\u001b[30mx\u001b[0m\n",
      "\u001b[30mx\u001b[0m\u001b[34mx\u001b[0m\u001b[34mx\u001b[0m\u001b[34mx\u001b[0m\u001b[30mx\u001b[0m\u001b[34mx\u001b[0m\u001b[34mx\u001b[0m\u001b[34mx\u001b[0m\u001b[30mx\u001b[0m\u001b[34mx\u001b[0m\u001b[34mx\u001b[0m\u001b[34mx\u001b[0m\u001b[30mx\u001b[0m\u001b[34mx\u001b[0m\u001b[34mx\u001b[0m\u001b[34mx\u001b[0m\u001b[30mx\u001b[0m\u001b[34mx\u001b[0m\u001b[34mx\u001b[0m\u001b[34mx\u001b[0m\u001b[30mx\u001b[0m\u001b[34mx\u001b[0m\u001b[34mx\u001b[0m\u001b[34mx\u001b[0m\u001b[30mx\u001b[0m\u001b[34mx\u001b[0m\u001b[34mx\u001b[0m\u001b[34mx\u001b[0m\u001b[30mx\u001b[0m\u001b[34mx\u001b[0m\u001b[34mx\u001b[0m\u001b[34mx\u001b[0m\u001b[30mx\u001b[0m\u001b[34mx\u001b[0m\u001b[34mx\u001b[0m\u001b[34mx\u001b[0m\u001b[30mx\u001b[0m\u001b[34mx\u001b[0m\u001b[34mx\u001b[0m\u001b[30mx\u001b[0m\n",
      "\u001b[30mx\u001b[0m\u001b[34mx\u001b[0m\u001b[34mx\u001b[0m\u001b[34mx\u001b[0m\u001b[30mx\u001b[0m\u001b[34mx\u001b[0m\u001b[34mx\u001b[0m\u001b[34mx\u001b[0m\u001b[30mx\u001b[0m\u001b[34mx\u001b[0m\u001b[34mx\u001b[0m\u001b[34mx\u001b[0m\u001b[30mx\u001b[0m\u001b[34mx\u001b[0m\u001b[34mx\u001b[0m\u001b[34mx\u001b[0m\u001b[30mx\u001b[0m\u001b[34mx\u001b[0m\u001b[34mx\u001b[0m\u001b[34mx\u001b[0m\u001b[30mx\u001b[0m\u001b[34mx\u001b[0m\u001b[34mx\u001b[0m\u001b[34mx\u001b[0m\u001b[30mx\u001b[0m\u001b[34mx\u001b[0m\u001b[34mx\u001b[0m\u001b[34mx\u001b[0m\u001b[30mx\u001b[0m\u001b[34mx\u001b[0m\u001b[34mx\u001b[0m\u001b[34mx\u001b[0m\u001b[30mx\u001b[0m\u001b[34mx\u001b[0m\u001b[34mx\u001b[0m\u001b[34mx\u001b[0m\u001b[30mx\u001b[0m\u001b[34mx\u001b[0m\u001b[34mx\u001b[0m\u001b[30mx\u001b[0m\n",
      "\u001b[30mx\u001b[0m\u001b[34mx\u001b[0m\u001b[34mx\u001b[0m\u001b[34mx\u001b[0m\u001b[30mx\u001b[0m\u001b[34mx\u001b[0m\u001b[34mx\u001b[0m\u001b[34mx\u001b[0m\u001b[30mx\u001b[0m\u001b[34mx\u001b[0m\u001b[34mx\u001b[0m\u001b[34mx\u001b[0m\u001b[30mx\u001b[0m\u001b[34mx\u001b[0m\u001b[34mx\u001b[0m\u001b[34mx\u001b[0m\u001b[30mx\u001b[0m\u001b[34mx\u001b[0m\u001b[34mx\u001b[0m\u001b[34mx\u001b[0m\u001b[30mx\u001b[0m\u001b[34mx\u001b[0m\u001b[34mx\u001b[0m\u001b[34mx\u001b[0m\u001b[30mx\u001b[0m\u001b[34mx\u001b[0m\u001b[34mx\u001b[0m\u001b[34mx\u001b[0m\u001b[30mx\u001b[0m\u001b[34mx\u001b[0m\u001b[34mx\u001b[0m\u001b[34mx\u001b[0m\u001b[30mx\u001b[0m\u001b[34mx\u001b[0m\u001b[34mx\u001b[0m\u001b[34mx\u001b[0m\u001b[30mx\u001b[0m\u001b[34mx\u001b[0m\u001b[34mx\u001b[0m\u001b[30mx\u001b[0m\n",
      "\u001b[30mx\u001b[0m\u001b[34mx\u001b[0m\u001b[34mx\u001b[0m\u001b[34mx\u001b[0m\u001b[30mx\u001b[0m\u001b[34mx\u001b[0m\u001b[34mx\u001b[0m\u001b[34mx\u001b[0m\u001b[30mx\u001b[0m\u001b[34mx\u001b[0m\u001b[34mx\u001b[0m\u001b[34mx\u001b[0m\u001b[30mx\u001b[0m\u001b[34mx\u001b[0m\u001b[34mx\u001b[0m\u001b[34mx\u001b[0m\u001b[30mx\u001b[0m\u001b[34mx\u001b[0m\u001b[34mx\u001b[0m\u001b[34mx\u001b[0m\u001b[30mx\u001b[0m\u001b[34mx\u001b[0m\u001b[34mx\u001b[0m\u001b[34mx\u001b[0m\u001b[30mx\u001b[0m\u001b[34mx\u001b[0m\u001b[34mx\u001b[0m\u001b[34mx\u001b[0m\u001b[30mx\u001b[0m\u001b[34mx\u001b[0m\u001b[34mx\u001b[0m\u001b[34mx\u001b[0m\u001b[30mx\u001b[0m\u001b[34mx\u001b[0m\u001b[34mx\u001b[0m\u001b[34mx\u001b[0m\u001b[30mx\u001b[0m\u001b[34mx\u001b[0m\u001b[34mx\u001b[0m\u001b[30mx\u001b[0m\n",
      "\u001b[34mx\u001b[0m\u001b[34mx\u001b[0m\u001b[34mx\u001b[0m\u001b[34mx\u001b[0m\u001b[34mx\u001b[0m\u001b[34mx\u001b[0m\u001b[34mx\u001b[0m\u001b[34mx\u001b[0m\u001b[34mx\u001b[0m\u001b[34mx\u001b[0m\u001b[34mx\u001b[0m\u001b[34mx\u001b[0m\u001b[34mx\u001b[0m\u001b[34mx\u001b[0m\u001b[34mx\u001b[0m\u001b[34mx\u001b[0m\u001b[34mx\u001b[0m\u001b[34mx\u001b[0m\u001b[34mx\u001b[0m\u001b[34mx\u001b[0m\u001b[34mx\u001b[0m\u001b[34mx\u001b[0m\u001b[34mx\u001b[0m\u001b[34mx\u001b[0m\u001b[34mx\u001b[0m\u001b[34mx\u001b[0m\u001b[34mx\u001b[0m\u001b[34mx\u001b[0m\u001b[34mx\u001b[0m\u001b[34mx\u001b[0m\u001b[34mx\u001b[0m\u001b[34mx\u001b[0m\u001b[34mx\u001b[0m\u001b[34mx\u001b[0m\u001b[34mx\u001b[0m\u001b[34mx\u001b[0m\u001b[34mx\u001b[0m\u001b[34mx\u001b[0m\u001b[34mx\u001b[0m\u001b[32mx\u001b[0m\n",
      "\u001b[34mx\u001b[0m\u001b[34mx\u001b[0m\u001b[34mx\u001b[0m\u001b[34mx\u001b[0m\u001b[34mx\u001b[0m\u001b[31mx\u001b[0m\u001b[31mx\u001b[0m\u001b[31mx\u001b[0m\u001b[34mx\u001b[0m\u001b[34mx\u001b[0m\u001b[34mx\u001b[0m\u001b[34mx\u001b[0m\u001b[34mx\u001b[0m\u001b[31mx\u001b[0m\u001b[31mx\u001b[0m\u001b[31mx\u001b[0m\u001b[34mx\u001b[0m\u001b[34mx\u001b[0m\u001b[34mx\u001b[0m\u001b[34mx\u001b[0m\u001b[34mx\u001b[0m\u001b[31mx\u001b[0m\u001b[31mx\u001b[0m\u001b[31mx\u001b[0m\u001b[34mx\u001b[0m\u001b[34mx\u001b[0m\u001b[34mx\u001b[0m\u001b[34mx\u001b[0m\u001b[34mx\u001b[0m\u001b[31mx\u001b[0m\u001b[31mx\u001b[0m\u001b[31mx\u001b[0m\u001b[34mx\u001b[0m\u001b[34mx\u001b[0m\u001b[34mx\u001b[0m\u001b[34mx\u001b[0m\u001b[34mx\u001b[0m\u001b[34mx\u001b[0m\u001b[34mx\u001b[0m\u001b[34mx\u001b[0m\n",
      "\u001b[34mx\u001b[0m\u001b[34mx\u001b[0m\u001b[34mx\u001b[0m\u001b[34mx\u001b[0m\u001b[34mx\u001b[0m\u001b[31mx\u001b[0m\u001b[31mx\u001b[0m\u001b[31mx\u001b[0m\u001b[34mx\u001b[0m\u001b[34mx\u001b[0m\u001b[34mx\u001b[0m\u001b[34mx\u001b[0m\u001b[34mx\u001b[0m\u001b[31mx\u001b[0m\u001b[31mx\u001b[0m\u001b[31mx\u001b[0m\u001b[34mx\u001b[0m\u001b[34mx\u001b[0m\u001b[34mx\u001b[0m\u001b[34mx\u001b[0m\u001b[34mx\u001b[0m\u001b[31mx\u001b[0m\u001b[31mx\u001b[0m\u001b[31mx\u001b[0m\u001b[34mx\u001b[0m\u001b[34mx\u001b[0m\u001b[34mx\u001b[0m\u001b[34mx\u001b[0m\u001b[34mx\u001b[0m\u001b[31mx\u001b[0m\u001b[31mx\u001b[0m\u001b[31mx\u001b[0m\u001b[34mx\u001b[0m\u001b[34mx\u001b[0m\u001b[34mx\u001b[0m\u001b[34mx\u001b[0m\u001b[34mx\u001b[0m\u001b[34mx\u001b[0m\u001b[34mx\u001b[0m\u001b[32mx\u001b[0m\n",
      "\u001b[34mx\u001b[0m\u001b[34mx\u001b[0m\u001b[34mx\u001b[0m\u001b[34mx\u001b[0m\u001b[34mx\u001b[0m\u001b[31mx\u001b[0m\u001b[31mx\u001b[0m\u001b[31mx\u001b[0m\u001b[34mx\u001b[0m\u001b[34mx\u001b[0m\u001b[34mx\u001b[0m\u001b[34mx\u001b[0m\u001b[34mx\u001b[0m\u001b[31mx\u001b[0m\u001b[31mx\u001b[0m\u001b[31mx\u001b[0m\u001b[34mx\u001b[0m\u001b[34mx\u001b[0m\u001b[34mx\u001b[0m\u001b[34mx\u001b[0m\u001b[34mx\u001b[0m\u001b[31mx\u001b[0m\u001b[31mx\u001b[0m\u001b[31mx\u001b[0m\u001b[34mx\u001b[0m\u001b[34mx\u001b[0m\u001b[34mx\u001b[0m\u001b[34mx\u001b[0m\u001b[34mx\u001b[0m\u001b[31mx\u001b[0m\u001b[31mx\u001b[0m\u001b[31mx\u001b[0m\u001b[34mx\u001b[0m\u001b[34mx\u001b[0m\u001b[34mx\u001b[0m\u001b[34mx\u001b[0m\u001b[34mx\u001b[0m\u001b[34mx\u001b[0m\u001b[34mx\u001b[0m\u001b[34mx\u001b[0m\n",
      "\u001b[30mx\u001b[0m\u001b[30mx\u001b[0m\u001b[30mx\u001b[0m\u001b[30mx\u001b[0m\u001b[30mx\u001b[0m\u001b[30mx\u001b[0m\u001b[30mx\u001b[0m\u001b[30mx\u001b[0m\u001b[30mx\u001b[0m\u001b[30mx\u001b[0m\u001b[30mx\u001b[0m\u001b[30mx\u001b[0m\u001b[30mx\u001b[0m\u001b[30mx\u001b[0m\u001b[30mx\u001b[0m\u001b[30mx\u001b[0m\u001b[30mx\u001b[0m\u001b[30mx\u001b[0m\u001b[30mx\u001b[0m\u001b[30mx\u001b[0m\u001b[30mx\u001b[0m\u001b[30mx\u001b[0m\u001b[30mx\u001b[0m\u001b[30mx\u001b[0m\u001b[30mx\u001b[0m\u001b[30mx\u001b[0m\u001b[30mx\u001b[0m\u001b[30mx\u001b[0m\u001b[30mx\u001b[0m\u001b[30mx\u001b[0m\u001b[30mx\u001b[0m\u001b[30mx\u001b[0m\u001b[30mx\u001b[0m\u001b[30mx\u001b[0m\u001b[30mx\u001b[0m\u001b[30mx\u001b[0m\u001b[30mx\u001b[0m\u001b[30mx\u001b[0m\u001b[30mx\u001b[0m\u001b[30mx\u001b[0m\n",
      "\n"
     ]
    }
   ],
   "source": [
    "print(H)"
   ]
  },
  {
   "cell_type": "code",
   "execution_count": 448,
   "metadata": {},
   "outputs": [
    {
     "data": {
      "text/plain": [
       "1024"
      ]
     },
     "execution_count": 448,
     "metadata": {},
     "output_type": "execute_result"
    }
   ],
   "source": [
    "2**10"
   ]
  },
  {
   "cell_type": "code",
   "execution_count": null,
   "metadata": {},
   "outputs": [],
   "source": []
  },
  {
   "cell_type": "markdown",
   "metadata": {},
   "source": [
    "# A simple model of walking in the SMKT.\n",
    "\n",
    "- Turtles are placed at random in the blue patches (courridors), reflecting an arbitary snapshot in the supermarket flow. \n",
    "- Turtles have the same social affinity parameter defined to walk through the barrio. Depending on its value they may try to avoid the other turhtle, if possible.  "
   ]
  },
  {
   "cell_type": "markdown",
   "metadata": {},
   "source": [
    "# Barrio Tortuga SMKT"
   ]
  },
  {
   "cell_type": "code",
   "execution_count": 396,
   "metadata": {},
   "outputs": [],
   "source": [
    "\"\"\"\n",
    "Definition of Tortuga Supermarket\n",
    "\n",
    "#Tortuga SMKT is modelled as an idealisation of a supermarket characterised by:\n",
    "\n",
    "- Max people in SMKT: 120 (can be regulated)\n",
    "- Area: 1600 m2.\n",
    "\n",
    "**Barrio Tortuga SMKT**\n",
    "\n",
    "- Non Toroidal grid of 40 x 4s0 m2\n",
    "- grey patches represent walls: turtles cannot walk there.\n",
    "- blue patches represent courridors for turtles to walk.\n",
    "- red patches are hot spots (bounlagerie, fish, meat...).\n",
    "A turtle which has a hot spot patch as a neighbour has a probability ph to stay put in a given tick.\n",
    "- green patches are payment spots. A turtle reaching there stays for a while\n",
    " (pp, larger than ph) then goes around through the blue patches to exit.\n",
    "\"\"\"\n",
    "\n",
    "from mesa import Model\n",
    "from mesa.space import MultiGrid\n",
    "from mesa.datacollection import DataCollector\n",
    "from mesa import Agent\n",
    "from mesa.time import RandomActivation\n",
    "import numpy as np\n",
    "\n",
    "from enum import Enum\n",
    "class PrtLvl(Enum):\n",
    "    Mute     = 1\n",
    "    Concise  = 2\n",
    "    Detailed = 3\n",
    "    Verbose  = 4\n",
    "\n",
    "\n",
    "def print_level(prtl, PRT):\n",
    "    if prtl.value >= PRT.value:\n",
    "        return True\n",
    "    else:\n",
    "        return False\n",
    "\n",
    "\n",
    "prtl =PrtLvl.Verbose\n",
    "\n",
    "\n",
    "def is_courridor(map_bt, x, y):\n",
    "    if map_bt[x,y] == 2:\n",
    "        return True\n",
    "    else:\n",
    "        return False\n",
    "\n",
    "def is_wall(map_bt, x, y):\n",
    "    if map_bt[x,y] == 1:\n",
    "        return True\n",
    "    else:\n",
    "        return False\n",
    "\n",
    "def is_hot_spot(map_bt, x, y):\n",
    "    if map_bt[x,y] == 3:\n",
    "        return True\n",
    "    else:\n",
    "        return False\n",
    "\n",
    "def is_payment(map_bt, x, y):\n",
    "    if map_bt[x,y] == 4:\n",
    "        return True\n",
    "    else:\n",
    "        return False\n",
    "\n",
    "def throw_dice(dice):\n",
    "    atry =  np.random.random_sample() \n",
    "    if atry < dice:\n",
    "        return True\n",
    "    else:\n",
    "        return False\n",
    "\n",
    "def turtles_in_cell(cell):\n",
    "    turtles = [obj for obj in cell if isinstance(obj, TurtleSmkt)]\n",
    "    if len(turtles) > 0:\n",
    "        return True\n",
    "    else:\n",
    "        return False\n",
    "\n",
    "### AGENTS\n",
    "\n",
    "class PatchSmkt(Agent):\n",
    "    \"\"\"\n",
    "    A supermarket patch.\n",
    "    kind = 1 means the patch belongs to a wall\n",
    "    kind = 2 means the patch belongs to courridor\n",
    "    kind = 3 means the patch belongs to a hot spot\n",
    "    kind = 4 means the patch belongs to payment booth\n",
    "    \"\"\"\n",
    "    def __init__(self, unique_id, pos, model, kind, moore=False):\n",
    "        super().__init__(unique_id, model)\n",
    "        self.kind   = kind\n",
    "        self.pos    = pos\n",
    "        self.moore  = moore\n",
    "        \n",
    "\n",
    "    def step(self):\n",
    "        pass\n",
    "\n",
    "\n",
    "class TurtleSmkt(Agent):\n",
    "    '''\n",
    "    A turtle able to move in a Supermarket\n",
    "    '''\n",
    "    def __init__(self, unique_id, pos, model, moore=True):\n",
    "        super().__init__(unique_id, model)\n",
    "        self.pos   = pos\n",
    "        self.ppos   = None \n",
    "        self.moore = moore\n",
    "               \n",
    "\n",
    "    def move(self):\n",
    "        \"\"\"Turtles examine first if there is a hot spot or a payment booth nearby.\n",
    "        If this is the case, they will wait with a probability given by model.pwait.\n",
    "        Otherwise they seek for a free spot (with not turtles) and move.\n",
    "        #TODO: free spot must be in the forward direction!\n",
    "        \"\"\"\n",
    "        # Get neighborhood position and contents\n",
    "        pos_neighbors = [i for i in self.model.grid.get_neighborhood(self.pos, self.moore, False)]\n",
    "        \n",
    "        if print_level(prtl, PrtLvl.Verbose):\n",
    "            print(f'Before Turtle moves:  pos = {self.pos} ppos ={self.ppos}')\n",
    "            print(f'Position neighbors = {pos_neighbors}')\n",
    "               \n",
    "        # if any neighboor is a hot spot or a payment booth throw a dice and wait if True\n",
    "        wait = False\n",
    "        hot_spots     = np.array([is_hot_spot(map_bt, *pos) for pos in pos_neighbors])\n",
    "        \n",
    "        if print_level(prtl, PrtLvl.Verbose):\n",
    "            print(f'Hot spots = {hot_spots}')\n",
    "        \n",
    "        if hot_spots.any():\n",
    "            if throw_dice(self.model.pwait_hotspot): \n",
    "                wait = True \n",
    "                \n",
    "        if print_level(prtl, PrtLvl.Verbose):\n",
    "            print(f'Wait in hot spot = {wait}')\n",
    "\n",
    "        payment_spots = np.array([is_payment(map_bt, *pos) for pos in pos_neighbors])\n",
    "        \n",
    "        if print_level(prtl, PrtLvl.Verbose):\n",
    "            print(f'payment_spots = {payment_spots}')\n",
    "            print(f'Wait in payment? = {wait}')\n",
    "        \n",
    "        if payment_spots.any():\n",
    "            if throw_dice(self.model.pwait_payment): \n",
    "                wait = True \n",
    "\n",
    "        if wait == False:  \n",
    "            # allowed neighbors are courridor patches\n",
    "            allowed_neighbors       = np.array([pos for pos in pos_neighbors if is_courridor(map_bt, *pos)])\n",
    "            \n",
    "            if print_level(prtl, PrtLvl.Verbose):\n",
    "                print(f'allowed_neighbors = {allowed_neighbors}')\n",
    "            # cell contents (cc) in allowed neighbors\n",
    "            cc_in_allowed_neighbors = [self.model.grid.get_cell_list_contents([pos]) for pos in allowed_neighbors]\n",
    "            \n",
    "            if print_level(prtl, PrtLvl.Verbose):\n",
    "                print(f'cc_in_allowed_neighbors = {cc_in_allowed_neighbors}')\n",
    "            \n",
    "            # True if no turtles found in cell\n",
    "            not_filled_with_turtles = np.array([turtles_in_cell(cc) == False for cc in cc_in_allowed_neighbors])\n",
    "            \n",
    "            if print_level(prtl, PrtLvl.Verbose):\n",
    "                print(f'not_filled_with_turtles = {not_filled_with_turtles}')\n",
    "            \n",
    "            # select neighbors as those patches not filled with turtles\n",
    "            selected_neighbors = allowed_neighbors[not_filled_with_turtles]\n",
    "            \n",
    "            if print_level(prtl, PrtLvl.Verbose):\n",
    "                print(f'selected_neighbors before reshufling = {selected_neighbors}')\n",
    "                        \n",
    "            # it not available spots without turtles move to any courridor patch\n",
    "            if len(selected_neighbors) == 0:  \n",
    "                selected_neighbors = allowed_neighbors \n",
    "                \n",
    "            if self.ppos = None:  #first time here. select random\n",
    "                self.ppos  = self.pos\n",
    "            \n",
    "                pos = self.select_random_spot(selected_neighbors)\n",
    "            \n",
    "                if print_level(prtl, PrtLvl.Verbose):\n",
    "                    print(f'Firs time in step: select at random pos = {pos}')\n",
    "                \n",
    "                self.model.grid.move_agent(self, pos)\n",
    "            else:\n",
    "                # compute direction\n",
    "                # keep direction until you hit a wall or reach a hot spot\n",
    "            \n",
    "            if print_level(prtl, PrtLvl.Verbose):\n",
    "                print(f'After Turtle moves:  pos = {self.pos} ppos ={self.ppos}')\n",
    "                \n",
    "    def select_random_spot(self, neighbors):\n",
    "        selected = []\n",
    "        for sn in neighbors:\n",
    "            selected.append((sn[0], sn[1]))\n",
    "        self.random.shuffle(selected)\n",
    "        return selected[0]\n",
    "  \n",
    "\n",
    "    def step(self):\n",
    "        self.move()\n",
    "\n",
    "# MODEL\n",
    "def number_of_encounters(model):\n",
    "    nc = 0\n",
    "    for y in range(model.grid.height):\n",
    "        for x in range(model.grid.width):\n",
    "            this_cell = model.grid.get_cell_list_contents((x,y))\n",
    "            n_turtles = len([obj for obj in this_cell if isinstance(obj, TurtleSmkt)])\n",
    "            if n_turtles > 0:\n",
    "                if print_level(prtl, PrtLvl.Verbose):\n",
    "                    print(f'number of turtles found in {x,y} -->{ n_turtles}')\n",
    "            if n_turtles > 1:\n",
    "                nc += 1\n",
    "\n",
    "    if print_level(prtl, PrtLvl.Detailed):\n",
    "        print(f'total number of encounters this step ={nc}')\n",
    "    return nc\n",
    "\n",
    "def number_of_turtles_in_neighborhood(model):\n",
    "    for y in range(model.grid.height):\n",
    "        for x in range(model.grid.width):\n",
    "            c = model.grid.get_cell_list_contents((x,y))\n",
    "            if len(c) > 0:\n",
    "                n_xy = model.grid.get_neighborhood((x,y), model.moore, False) #coordinates of neighbors\n",
    "                nc = 0\n",
    "                for xy in n_xy:\n",
    "                    c = model.grid.get_cell_list_contents((xy[0], xy[1]))\n",
    "                    nc += len(c)\n",
    "\n",
    "    return nc\n",
    "\n",
    "class TortugaSmkt(Model):\n",
    "    '''\n",
    "    A model of a supermarket, where turtles go and shop.\n",
    "\n",
    "    '''\n",
    "\n",
    "    def __init__(self,\n",
    "                 map_file=\"barrio-tortuga-smkt.txt\",\n",
    "                 turtles=50,\n",
    "                 wait_hotspot = 0.5,\n",
    "                 wait_payment = 0.7,\n",
    "                 prtl=PrtLvl.Concise):\n",
    "        '''\n",
    "        Create a new Tortuga supermarket.\n",
    "\n",
    "        The supermarket is created from a map. It is a toroidal object. The supermarket\n",
    "        The barrio is filled with turtles that are placed in any available spot in courridors at random\n",
    "        and can exist the buildings through a set of doors.\n",
    "        There are many doors in the building. This is meant to represent the temporal spread in\n",
    "        the turtles coming in and out of the buildings.\n",
    "\n",
    "        In a real building persons go out by the same\n",
    "        door at different times. In Barrio Tortugas, turtles go out of the buildings through a set\n",
    "        of doors. Each turtle chooses a door to go out at random. This is equivalent to introduce\n",
    "        randomness on the exit time.\n",
    "\n",
    "        Args:\n",
    "            The  name file with the barrio map\n",
    "            number of turtles in the barrio\n",
    "            social_affinity a parameter that sets the social affinity of turtles. It takes\n",
    "            values between -1 and 1. For positive values (0, 1), turtles seek contact with\n",
    "            other turtles. For negative values (-1, 0), turtles avoid contact with others.\n",
    "            A value of social_affinity of 1 means that a turtle that finds another turhtle nearby\n",
    "            always moves to its cell. A social affinity of -1 means that a turtle always tries\n",
    "            to avoid any turtle nearby.\n",
    "            nd, a parameter that decides the number of doors (largest for nd=1)\n",
    "        '''\n",
    "\n",
    "        # read the map\n",
    "        self.map_bt                 = np.genfromtxt(map_file)\n",
    "        self.wait_hotspot           = wait_hotspot\n",
    "        self.wait_payment           = wait_payment\n",
    "\n",
    "        if print_level(prtl, PrtLvl.Concise):\n",
    "            print(f'loaded tortuga supermarket with dimensions ->{ self.map_bt.shape}')\n",
    "            print(f'wait hotspot ->{self.wait_hotspot}')\n",
    "            print(f'wait payment ->{self.wait_payment}')\n",
    "\n",
    "\n",
    "        self.height, self.width     = self.map_bt.shape\n",
    "        self.grid                   = MultiGrid(self.height, self.width, torus=True)\n",
    "        self.moore                  = True\n",
    "        self.turtles                = turtles\n",
    "        self.schedule               = RandomActivation(self)\n",
    "        self.datacollector          = DataCollector(\n",
    "        model_reporters             = {\"NumberOfEncounters\": number_of_encounters}\n",
    "        )\n",
    "\n",
    "        # create the patches representing houses and avenues\n",
    "        id = 0\n",
    "        for _, x, y in self.grid.coord_iter():\n",
    "            patch_kind = self.map_bt[x, y]               # patch kind labels buildings or streets\n",
    "            patch      = PatchSmkt(id, (x, y), self, patch_kind)\n",
    "            self.grid.place_agent(patch, (x, y))         # agents are placed in the grid but not in the\n",
    "                                                         # in the schedule\n",
    "\n",
    "        # Create turtles distributed randomly in the spmkt\n",
    " \n",
    "        for i in range(int(self.turtles)):\n",
    "            x,y = self.random_pos()\n",
    "            while is_courridor(self.map_bt, x, y) == False :\n",
    "                x,y = self.random_pos()\n",
    "            \n",
    "            if print_level(prtl, PrtLvl.Detailed):\n",
    "                print(f'starting turtle {i} at  x,y ={x,y}')\n",
    "\n",
    "            a = TurtleSmkt(i, (x, y), self, True)  # create Turtle\n",
    "            self.schedule.add(a)               # add to scheduler\n",
    "            self.grid.place_agent(a, (x, y))   # place Turtle in the grid\n",
    "        \n",
    "        self.running = True\n",
    "\n",
    "        # activate data collector\n",
    "        self.datacollector.collect(self)\n",
    "\n",
    "    def random_pos(self):\n",
    "        x = self.random.randrange(self.width)\n",
    "        y = self.random.randrange(self.height)\n",
    "        return x, y\n",
    "        \n",
    "    def step(self):\n",
    "        self.schedule.step()\n",
    "        self.datacollector.collect(self)"
   ]
  },
  {
   "cell_type": "code",
   "execution_count": 397,
   "metadata": {},
   "outputs": [],
   "source": [
    "def run_turtles(turtles, steps, wait_hotspot = 0.5, wait_payment = 0.7, map_file=\"barrio-tortuga-smkt.txt\", \n",
    "                prtl=PrtLvl.Concise, prtf = 100):\n",
    "    \"\"\"Run turtles in Tortuga supermarket\"\"\"\n",
    "    \n",
    "    print(f\" Running Tortuga supermarket with {turtles}  turtles, for {steps} steps.\")\n",
    "    bt = TortugaSmkt(map_file=map_file, turtles=turtles, wait_hotspot = 0.5, wait_payment = 0.7, prtl=prtl)\n",
    "    \n",
    "    for i in range(steps):\n",
    "        if i%prtf == 0:\n",
    "            print(f' step {i}')\n",
    "        bt.step()\n",
    "    print('Done!')\n",
    "    return bt.datacollector.get_model_vars_dataframe()"
   ]
  },
  {
   "cell_type": "code",
   "execution_count": 398,
   "metadata": {},
   "outputs": [
    {
     "name": "stdout",
     "output_type": "stream",
     "text": [
      " Running Tortuga supermarket with 2  turtles, for 10 steps.\n",
      "loaded tortuga supermarket with dimensions ->(40, 40)\n",
      "wait hotspot ->0.5\n",
      "wait payment ->0.7\n",
      "starting turtle 0 at  x,y =(9, 22)\n",
      "starting turtle 1 at  x,y =(24, 19)\n",
      "number of turtles found in (24, 19) -->1\n",
      "number of turtles found in (9, 22) -->1\n",
      "total number of encounters this step =0\n",
      " step 0\n",
      "Before Turtle moves:  pos = (9, 22) ppos =None\n",
      "Position neighbors = [[ 8 21]\n",
      " [ 9 21]\n",
      " [10 21]\n",
      " [ 8 22]\n",
      " [10 22]\n",
      " [ 8 23]\n",
      " [ 9 23]\n",
      " [10 23]]\n",
      "Hot spots = [False False False False False False False False]\n",
      "Wait in hot spot = False\n",
      "payment_spots = [False False False False False False False False]\n",
      "Wait in payment? = False\n",
      "allowed_neighbors = [[ 8 21]\n",
      " [ 9 21]\n",
      " [10 21]\n",
      " [ 8 22]\n",
      " [10 22]\n",
      " [ 8 23]\n",
      " [ 9 23]\n",
      " [10 23]]\n",
      "cc_in_allowed_neighbors = [[<__main__.PatchSmkt object at 0x119b92b90>], [<__main__.PatchSmkt object at 0x119b9d5d0>], [<__main__.PatchSmkt object at 0x119b9dfd0>], [<__main__.PatchSmkt object at 0x119b92bd0>], [<__main__.PatchSmkt object at 0x11ad97050>], [<__main__.PatchSmkt object at 0x119b92c10>], [<__main__.PatchSmkt object at 0x119b9d650>], [<__main__.PatchSmkt object at 0x11ad97090>]]\n",
      "not_filled_with_turtles = [ True  True  True  True  True  True  True  True]\n",
      "selected_neighbors before reshufling = [[ 8 21]\n",
      " [ 9 21]\n",
      " [10 21]\n",
      " [ 8 22]\n",
      " [10 22]\n",
      " [ 8 23]\n",
      " [ 9 23]\n",
      " [10 23]]\n",
      "selected_neighbors after reshuffling = [(8, 23), (10, 22), (10, 21), (9, 21), (8, 21), (9, 23), (8, 22), (10, 23)]\n",
      "selected_neighbors[0] = (8, 23)\n",
      "new pos = (8, 23)\n",
      "After Turtle moves:  pos = (8, 23) ppos =(9, 22)\n",
      "Before Turtle moves:  pos = (24, 19) ppos =None\n",
      "Position neighbors = [[23 18]\n",
      " [24 18]\n",
      " [25 18]\n",
      " [23 19]\n",
      " [25 19]\n",
      " [23 20]\n",
      " [24 20]\n",
      " [25 20]]\n",
      "Hot spots = [False False False False False False False False]\n",
      "Wait in hot spot = False\n",
      "payment_spots = [False False False False False False False False]\n",
      "Wait in payment? = False\n",
      "allowed_neighbors = [[23 18]\n",
      " [24 18]\n",
      " [25 18]\n",
      " [23 19]\n",
      " [25 19]]\n",
      "cc_in_allowed_neighbors = [[<__main__.PatchSmkt object at 0x11ad7a350>], [<__main__.PatchSmkt object at 0x11ad7ad50>], [<__main__.PatchSmkt object at 0x11ad7d790>], [<__main__.PatchSmkt object at 0x11ad7a390>], [<__main__.PatchSmkt object at 0x11ad7d7d0>]]\n",
      "not_filled_with_turtles = [ True  True  True  True  True]\n",
      "selected_neighbors before reshufling = [[23 18]\n",
      " [24 18]\n",
      " [25 18]\n",
      " [23 19]\n",
      " [25 19]]\n",
      "selected_neighbors after reshuffling = [(24, 18), (23, 18), (23, 19), (25, 19), (25, 18)]\n",
      "selected_neighbors[0] = (24, 18)\n",
      "new pos = (24, 18)\n",
      "After Turtle moves:  pos = (24, 18) ppos =(24, 19)\n",
      "number of turtles found in (24, 18) -->1\n",
      "number of turtles found in (8, 23) -->1\n",
      "total number of encounters this step =0\n",
      " step 1\n",
      "Before Turtle moves:  pos = (24, 18) ppos =(24, 19)\n",
      "Position neighbors = [[23 17]\n",
      " [24 17]\n",
      " [25 17]\n",
      " [23 18]\n",
      " [25 18]\n",
      " [23 19]\n",
      " [24 19]\n",
      " [25 19]]\n",
      "Hot spots = [False False False False False False False False]\n",
      "Wait in hot spot = False\n",
      "payment_spots = [False False False False False False False False]\n",
      "Wait in payment? = False\n",
      "allowed_neighbors = [[23 17]\n",
      " [24 17]\n",
      " [25 17]\n",
      " [23 18]\n",
      " [25 18]\n",
      " [23 19]\n",
      " [24 19]\n",
      " [25 19]]\n",
      "cc_in_allowed_neighbors = [[<__main__.PatchSmkt object at 0x11ad7a310>], [<__main__.PatchSmkt object at 0x11ad7ad10>], [<__main__.PatchSmkt object at 0x11ad7d750>], [<__main__.PatchSmkt object at 0x11ad7a350>], [<__main__.PatchSmkt object at 0x11ad7d790>], [<__main__.PatchSmkt object at 0x11ad7a390>], [<__main__.PatchSmkt object at 0x11ad7ad90>], [<__main__.PatchSmkt object at 0x11ad7d7d0>]]\n",
      "not_filled_with_turtles = [ True  True  True  True  True  True  True  True]\n",
      "selected_neighbors before reshufling = [[23 17]\n",
      " [24 17]\n",
      " [25 17]\n",
      " [23 18]\n",
      " [25 18]\n",
      " [23 19]\n",
      " [24 19]\n",
      " [25 19]]\n",
      "selected_neighbors after reshuffling = [(23, 18), (23, 17), (24, 17), (25, 17), (24, 19), (25, 19), (25, 18), (23, 19)]\n",
      "selected_neighbors[0] = (23, 18)\n",
      "new pos = (23, 18)\n",
      "After Turtle moves:  pos = (23, 18) ppos =(24, 18)\n",
      "Before Turtle moves:  pos = (8, 23) ppos =(9, 22)\n",
      "Position neighbors = [[ 7 22]\n",
      " [ 8 22]\n",
      " [ 9 22]\n",
      " [ 7 23]\n",
      " [ 9 23]\n",
      " [ 7 24]\n",
      " [ 8 24]\n",
      " [ 9 24]]\n",
      "Hot spots = [False False False False False False False False]\n",
      "Wait in hot spot = False\n",
      "payment_spots = [False False False False False False False False]\n",
      "Wait in payment? = False\n",
      "allowed_neighbors = [[ 7 22]\n",
      " [ 8 22]\n",
      " [ 9 22]\n",
      " [ 7 23]\n",
      " [ 9 23]]\n",
      "cc_in_allowed_neighbors = [[<__main__.PatchSmkt object at 0x119b921d0>], [<__main__.PatchSmkt object at 0x119b92bd0>], [<__main__.PatchSmkt object at 0x119b9d610>], [<__main__.PatchSmkt object at 0x119b92210>], [<__main__.PatchSmkt object at 0x119b9d650>]]\n",
      "not_filled_with_turtles = [ True  True  True  True  True]\n",
      "selected_neighbors before reshufling = [[ 7 22]\n",
      " [ 8 22]\n",
      " [ 9 22]\n",
      " [ 7 23]\n",
      " [ 9 23]]\n",
      "selected_neighbors after reshuffling = [(9, 22), (7, 22), (8, 22), (9, 23), (7, 23)]\n",
      "selected_neighbors[0] = (9, 22)\n",
      "new pos = (9, 22)\n",
      "After Turtle moves:  pos = (9, 22) ppos =(8, 23)\n",
      "number of turtles found in (23, 18) -->1\n",
      "number of turtles found in (9, 22) -->1\n",
      "total number of encounters this step =0\n",
      " step 2\n",
      "Before Turtle moves:  pos = (23, 18) ppos =(24, 18)\n",
      "Position neighbors = [[22 17]\n",
      " [23 17]\n",
      " [24 17]\n",
      " [22 18]\n",
      " [24 18]\n",
      " [22 19]\n",
      " [23 19]\n",
      " [24 19]]\n",
      "Hot spots = [False False False False False False False False]\n",
      "Wait in hot spot = False\n",
      "payment_spots = [False False False False False False False False]\n",
      "Wait in payment? = False\n",
      "allowed_neighbors = [[22 17]\n",
      " [23 17]\n",
      " [24 17]\n",
      " [22 18]\n",
      " [24 18]\n",
      " [22 19]\n",
      " [23 19]\n",
      " [24 19]]\n",
      "cc_in_allowed_neighbors = [[<__main__.PatchSmkt object at 0x11ad9d8d0>], [<__main__.PatchSmkt object at 0x11ad7a310>], [<__main__.PatchSmkt object at 0x11ad7ad10>], [<__main__.PatchSmkt object at 0x11ad9d910>], [<__main__.PatchSmkt object at 0x11ad7ad50>], [<__main__.PatchSmkt object at 0x11ad9d950>], [<__main__.PatchSmkt object at 0x11ad7a390>], [<__main__.PatchSmkt object at 0x11ad7ad90>]]\n",
      "not_filled_with_turtles = [ True  True  True  True  True  True  True  True]\n",
      "selected_neighbors before reshufling = [[22 17]\n",
      " [23 17]\n",
      " [24 17]\n",
      " [22 18]\n",
      " [24 18]\n",
      " [22 19]\n",
      " [23 19]\n",
      " [24 19]]\n",
      "selected_neighbors after reshuffling = [(22, 18), (23, 17), (24, 17), (23, 19), (24, 18), (24, 19), (22, 17), (22, 19)]\n",
      "selected_neighbors[0] = (22, 18)\n",
      "new pos = (22, 18)\n",
      "After Turtle moves:  pos = (22, 18) ppos =(23, 18)\n",
      "Before Turtle moves:  pos = (9, 22) ppos =(8, 23)\n",
      "Position neighbors = [[ 8 21]\n",
      " [ 9 21]\n",
      " [10 21]\n",
      " [ 8 22]\n",
      " [10 22]\n",
      " [ 8 23]\n",
      " [ 9 23]\n",
      " [10 23]]\n",
      "Hot spots = [False False False False False False False False]\n",
      "Wait in hot spot = False\n",
      "payment_spots = [False False False False False False False False]\n",
      "Wait in payment? = False\n",
      "allowed_neighbors = [[ 8 21]\n",
      " [ 9 21]\n",
      " [10 21]\n",
      " [ 8 22]\n",
      " [10 22]\n",
      " [ 8 23]\n",
      " [ 9 23]\n",
      " [10 23]]\n",
      "cc_in_allowed_neighbors = [[<__main__.PatchSmkt object at 0x119b92b90>], [<__main__.PatchSmkt object at 0x119b9d5d0>], [<__main__.PatchSmkt object at 0x119b9dfd0>], [<__main__.PatchSmkt object at 0x119b92bd0>], [<__main__.PatchSmkt object at 0x11ad97050>], [<__main__.PatchSmkt object at 0x119b92c10>], [<__main__.PatchSmkt object at 0x119b9d650>], [<__main__.PatchSmkt object at 0x11ad97090>]]\n",
      "not_filled_with_turtles = [ True  True  True  True  True  True  True  True]\n",
      "selected_neighbors before reshufling = [[ 8 21]\n",
      " [ 9 21]\n",
      " [10 21]\n",
      " [ 8 22]\n",
      " [10 22]\n",
      " [ 8 23]\n",
      " [ 9 23]\n",
      " [10 23]]\n",
      "selected_neighbors after reshuffling = [(8, 23), (10, 22), (10, 21), (9, 23), (8, 21), (8, 22), (9, 21), (10, 23)]\n",
      "selected_neighbors[0] = (8, 23)\n",
      "new pos = (8, 23)\n",
      "After Turtle moves:  pos = (8, 23) ppos =(9, 22)\n",
      "number of turtles found in (22, 18) -->1\n",
      "number of turtles found in (8, 23) -->1\n",
      "total number of encounters this step =0\n",
      " step 3\n",
      "Before Turtle moves:  pos = (22, 18) ppos =(23, 18)\n",
      "Position neighbors = [[21 17]\n",
      " [22 17]\n",
      " [23 17]\n",
      " [21 18]\n",
      " [23 18]\n",
      " [21 19]\n",
      " [22 19]\n",
      " [23 19]]\n",
      "Hot spots = [False False False False False False False False]\n",
      "Wait in hot spot = False\n",
      "payment_spots = [False False False False False False False False]\n",
      "Wait in payment? = False\n",
      "allowed_neighbors = [[21 17]\n",
      " [22 17]\n",
      " [23 17]\n",
      " [21 18]\n",
      " [23 18]\n",
      " [21 19]\n",
      " [22 19]\n",
      " [23 19]]\n",
      "cc_in_allowed_neighbors = [[<__main__.PatchSmkt object at 0x11ada5e90>], [<__main__.PatchSmkt object at 0x11ad9d8d0>], [<__main__.PatchSmkt object at 0x11ad7a310>], [<__main__.PatchSmkt object at 0x11ada5ed0>], [<__main__.PatchSmkt object at 0x11ad7a350>], [<__main__.PatchSmkt object at 0x11ada5f10>], [<__main__.PatchSmkt object at 0x11ad9d950>], [<__main__.PatchSmkt object at 0x11ad7a390>]]\n",
      "not_filled_with_turtles = [ True  True  True  True  True  True  True  True]\n",
      "selected_neighbors before reshufling = [[21 17]\n",
      " [22 17]\n",
      " [23 17]\n",
      " [21 18]\n",
      " [23 18]\n",
      " [21 19]\n",
      " [22 19]\n",
      " [23 19]]\n",
      "selected_neighbors after reshuffling = [(23, 18), (23, 17), (21, 18), (21, 17), (23, 19), (21, 19), (22, 19), (22, 17)]\n",
      "selected_neighbors[0] = (23, 18)\n",
      "new pos = (23, 18)\n",
      "After Turtle moves:  pos = (23, 18) ppos =(22, 18)\n",
      "Before Turtle moves:  pos = (8, 23) ppos =(9, 22)\n",
      "Position neighbors = [[ 7 22]\n",
      " [ 8 22]\n",
      " [ 9 22]\n",
      " [ 7 23]\n",
      " [ 9 23]\n",
      " [ 7 24]\n",
      " [ 8 24]\n",
      " [ 9 24]]\n",
      "Hot spots = [False False False False False False False False]\n",
      "Wait in hot spot = False\n",
      "payment_spots = [False False False False False False False False]\n",
      "Wait in payment? = False\n",
      "allowed_neighbors = [[ 7 22]\n",
      " [ 8 22]\n",
      " [ 9 22]\n",
      " [ 7 23]\n",
      " [ 9 23]]\n",
      "cc_in_allowed_neighbors = [[<__main__.PatchSmkt object at 0x119b921d0>], [<__main__.PatchSmkt object at 0x119b92bd0>], [<__main__.PatchSmkt object at 0x119b9d610>], [<__main__.PatchSmkt object at 0x119b92210>], [<__main__.PatchSmkt object at 0x119b9d650>]]\n",
      "not_filled_with_turtles = [ True  True  True  True  True]\n",
      "selected_neighbors before reshufling = [[ 7 22]\n",
      " [ 8 22]\n",
      " [ 9 22]\n",
      " [ 7 23]\n",
      " [ 9 23]]\n",
      "selected_neighbors after reshuffling = [(8, 22), (9, 22), (7, 22), (9, 23), (7, 23)]\n",
      "selected_neighbors[0] = (8, 22)\n",
      "new pos = (8, 22)\n",
      "After Turtle moves:  pos = (8, 22) ppos =(8, 23)\n",
      "number of turtles found in (23, 18) -->1\n",
      "number of turtles found in (8, 22) -->1\n",
      "total number of encounters this step =0\n",
      " step 4\n",
      "Before Turtle moves:  pos = (8, 22) ppos =(8, 23)\n",
      "Position neighbors = [[ 7 21]\n",
      " [ 8 21]\n",
      " [ 9 21]\n",
      " [ 7 22]\n",
      " [ 9 22]\n",
      " [ 7 23]\n",
      " [ 8 23]\n",
      " [ 9 23]]\n",
      "Hot spots = [False False False False False False False False]\n",
      "Wait in hot spot = False\n",
      "payment_spots = [False False False False False False False False]\n",
      "Wait in payment? = False\n",
      "allowed_neighbors = [[ 7 21]\n",
      " [ 8 21]\n",
      " [ 9 21]\n",
      " [ 7 22]\n",
      " [ 9 22]\n",
      " [ 7 23]\n",
      " [ 8 23]\n",
      " [ 9 23]]\n",
      "cc_in_allowed_neighbors = [[<__main__.PatchSmkt object at 0x119b92190>], [<__main__.PatchSmkt object at 0x119b92b90>], [<__main__.PatchSmkt object at 0x119b9d5d0>], [<__main__.PatchSmkt object at 0x119b921d0>], [<__main__.PatchSmkt object at 0x119b9d610>], [<__main__.PatchSmkt object at 0x119b92210>], [<__main__.PatchSmkt object at 0x119b92c10>], [<__main__.PatchSmkt object at 0x119b9d650>]]\n",
      "not_filled_with_turtles = [ True  True  True  True  True  True  True  True]\n",
      "selected_neighbors before reshufling = [[ 7 21]\n",
      " [ 8 21]\n",
      " [ 9 21]\n",
      " [ 7 22]\n",
      " [ 9 22]\n",
      " [ 7 23]\n",
      " [ 8 23]\n",
      " [ 9 23]]\n",
      "selected_neighbors after reshuffling = [(9, 22), (8, 23), (7, 22), (9, 23), (8, 21), (7, 23), (9, 21), (7, 21)]\n",
      "selected_neighbors[0] = (9, 22)\n",
      "new pos = (9, 22)\n",
      "After Turtle moves:  pos = (9, 22) ppos =(8, 22)\n",
      "Before Turtle moves:  pos = (23, 18) ppos =(22, 18)\n",
      "Position neighbors = [[22 17]\n",
      " [23 17]\n",
      " [24 17]\n",
      " [22 18]\n",
      " [24 18]\n",
      " [22 19]\n",
      " [23 19]\n",
      " [24 19]]\n",
      "Hot spots = [False False False False False False False False]\n",
      "Wait in hot spot = False\n",
      "payment_spots = [False False False False False False False False]\n",
      "Wait in payment? = False\n",
      "allowed_neighbors = [[22 17]\n",
      " [23 17]\n",
      " [24 17]\n",
      " [22 18]\n",
      " [24 18]\n",
      " [22 19]\n",
      " [23 19]\n",
      " [24 19]]\n",
      "cc_in_allowed_neighbors = [[<__main__.PatchSmkt object at 0x11ad9d8d0>], [<__main__.PatchSmkt object at 0x11ad7a310>], [<__main__.PatchSmkt object at 0x11ad7ad10>], [<__main__.PatchSmkt object at 0x11ad9d910>], [<__main__.PatchSmkt object at 0x11ad7ad50>], [<__main__.PatchSmkt object at 0x11ad9d950>], [<__main__.PatchSmkt object at 0x11ad7a390>], [<__main__.PatchSmkt object at 0x11ad7ad90>]]\n",
      "not_filled_with_turtles = [ True  True  True  True  True  True  True  True]\n",
      "selected_neighbors before reshufling = [[22 17]\n",
      " [23 17]\n",
      " [24 17]\n",
      " [22 18]\n",
      " [24 18]\n",
      " [22 19]\n",
      " [23 19]\n",
      " [24 19]]\n",
      "selected_neighbors after reshuffling = [(23, 19), (23, 17), (22, 17), (24, 17), (24, 19), (22, 19), (22, 18), (24, 18)]\n",
      "selected_neighbors[0] = (23, 19)\n",
      "new pos = (23, 19)\n",
      "After Turtle moves:  pos = (23, 19) ppos =(23, 18)\n",
      "number of turtles found in (23, 19) -->1\n",
      "number of turtles found in (9, 22) -->1\n",
      "total number of encounters this step =0\n",
      " step 5\n",
      "Before Turtle moves:  pos = (23, 19) ppos =(23, 18)\n",
      "Position neighbors = [[22 18]\n",
      " [23 18]\n",
      " [24 18]\n",
      " [22 19]\n",
      " [24 19]\n",
      " [22 20]\n",
      " [23 20]\n",
      " [24 20]]\n",
      "Hot spots = [False False False False False False False False]\n",
      "Wait in hot spot = False\n",
      "payment_spots = [False False False False False False False False]\n",
      "Wait in payment? = False\n",
      "allowed_neighbors = [[22 18]\n",
      " [23 18]\n",
      " [24 18]\n",
      " [22 19]\n",
      " [24 19]]\n",
      "cc_in_allowed_neighbors = [[<__main__.PatchSmkt object at 0x11ad9d910>], [<__main__.PatchSmkt object at 0x11ad7a350>], [<__main__.PatchSmkt object at 0x11ad7ad50>], [<__main__.PatchSmkt object at 0x11ad9d950>], [<__main__.PatchSmkt object at 0x11ad7ad90>]]\n",
      "not_filled_with_turtles = [ True  True  True  True  True]\n",
      "selected_neighbors before reshufling = [[22 18]\n",
      " [23 18]\n",
      " [24 18]\n",
      " [22 19]\n",
      " [24 19]]\n",
      "selected_neighbors after reshuffling = [(22, 18), (22, 19), (24, 18), (24, 19), (23, 18)]\n",
      "selected_neighbors[0] = (22, 18)\n",
      "new pos = (22, 18)\n",
      "After Turtle moves:  pos = (22, 18) ppos =(23, 19)\n",
      "Before Turtle moves:  pos = (9, 22) ppos =(8, 22)\n",
      "Position neighbors = [[ 8 21]\n",
      " [ 9 21]\n",
      " [10 21]\n",
      " [ 8 22]\n",
      " [10 22]\n",
      " [ 8 23]\n",
      " [ 9 23]\n",
      " [10 23]]\n",
      "Hot spots = [False False False False False False False False]\n",
      "Wait in hot spot = False\n",
      "payment_spots = [False False False False False False False False]\n",
      "Wait in payment? = False\n",
      "allowed_neighbors = [[ 8 21]\n",
      " [ 9 21]\n",
      " [10 21]\n",
      " [ 8 22]\n",
      " [10 22]\n",
      " [ 8 23]\n",
      " [ 9 23]\n",
      " [10 23]]\n",
      "cc_in_allowed_neighbors = [[<__main__.PatchSmkt object at 0x119b92b90>], [<__main__.PatchSmkt object at 0x119b9d5d0>], [<__main__.PatchSmkt object at 0x119b9dfd0>], [<__main__.PatchSmkt object at 0x119b92bd0>], [<__main__.PatchSmkt object at 0x11ad97050>], [<__main__.PatchSmkt object at 0x119b92c10>], [<__main__.PatchSmkt object at 0x119b9d650>], [<__main__.PatchSmkt object at 0x11ad97090>]]\n",
      "not_filled_with_turtles = [ True  True  True  True  True  True  True  True]\n",
      "selected_neighbors before reshufling = [[ 8 21]\n",
      " [ 9 21]\n",
      " [10 21]\n",
      " [ 8 22]\n",
      " [10 22]\n",
      " [ 8 23]\n",
      " [ 9 23]\n",
      " [10 23]]\n",
      "selected_neighbors after reshuffling = [(10, 22), (8, 23), (8, 21), (9, 23), (9, 21), (8, 22), (10, 21), (10, 23)]\n",
      "selected_neighbors[0] = (10, 22)\n",
      "new pos = (10, 22)\n",
      "After Turtle moves:  pos = (10, 22) ppos =(9, 22)\n",
      "number of turtles found in (22, 18) -->1\n",
      "number of turtles found in (10, 22) -->1\n",
      "total number of encounters this step =0\n",
      " step 6\n",
      "Before Turtle moves:  pos = (10, 22) ppos =(9, 22)\n",
      "Position neighbors = [[ 9 21]\n",
      " [10 21]\n",
      " [11 21]\n",
      " [ 9 22]\n",
      " [11 22]\n",
      " [ 9 23]\n",
      " [10 23]\n",
      " [11 23]]\n",
      "Hot spots = [False False False False False False False False]\n",
      "Wait in hot spot = False\n",
      "payment_spots = [False False False False False False False False]\n",
      "Wait in payment? = False\n",
      "allowed_neighbors = [[ 9 21]\n",
      " [10 21]\n",
      " [11 21]\n",
      " [ 9 22]\n",
      " [11 22]\n",
      " [ 9 23]\n",
      " [10 23]\n",
      " [11 23]]\n",
      "cc_in_allowed_neighbors = [[<__main__.PatchSmkt object at 0x119b9d5d0>], [<__main__.PatchSmkt object at 0x119b9dfd0>], [<__main__.PatchSmkt object at 0x11ad97a10>], [<__main__.PatchSmkt object at 0x119b9d610>], [<__main__.PatchSmkt object at 0x11ad97a50>], [<__main__.PatchSmkt object at 0x119b9d650>], [<__main__.PatchSmkt object at 0x11ad97090>], [<__main__.PatchSmkt object at 0x11ad97a90>]]\n",
      "not_filled_with_turtles = [ True  True  True  True  True  True  True  True]\n",
      "selected_neighbors before reshufling = [[ 9 21]\n",
      " [10 21]\n",
      " [11 21]\n",
      " [ 9 22]\n",
      " [11 22]\n",
      " [ 9 23]\n",
      " [10 23]\n",
      " [11 23]]\n",
      "selected_neighbors after reshuffling = [(9, 21), (9, 23), (11, 22), (9, 22), (10, 21), (11, 23), (11, 21), (10, 23)]\n",
      "selected_neighbors[0] = (9, 21)\n",
      "new pos = (9, 21)\n",
      "After Turtle moves:  pos = (9, 21) ppos =(10, 22)\n",
      "Before Turtle moves:  pos = (22, 18) ppos =(23, 19)\n",
      "Position neighbors = [[21 17]\n",
      " [22 17]\n",
      " [23 17]\n",
      " [21 18]\n",
      " [23 18]\n",
      " [21 19]\n",
      " [22 19]\n",
      " [23 19]]\n",
      "Hot spots = [False False False False False False False False]\n",
      "Wait in hot spot = False\n",
      "payment_spots = [False False False False False False False False]\n",
      "Wait in payment? = False\n",
      "allowed_neighbors = [[21 17]\n",
      " [22 17]\n",
      " [23 17]\n",
      " [21 18]\n",
      " [23 18]\n",
      " [21 19]\n",
      " [22 19]\n",
      " [23 19]]\n",
      "cc_in_allowed_neighbors = [[<__main__.PatchSmkt object at 0x11ada5e90>], [<__main__.PatchSmkt object at 0x11ad9d8d0>], [<__main__.PatchSmkt object at 0x11ad7a310>], [<__main__.PatchSmkt object at 0x11ada5ed0>], [<__main__.PatchSmkt object at 0x11ad7a350>], [<__main__.PatchSmkt object at 0x11ada5f10>], [<__main__.PatchSmkt object at 0x11ad9d950>], [<__main__.PatchSmkt object at 0x11ad7a390>]]\n",
      "not_filled_with_turtles = [ True  True  True  True  True  True  True  True]\n",
      "selected_neighbors before reshufling = [[21 17]\n",
      " [22 17]\n",
      " [23 17]\n",
      " [21 18]\n",
      " [23 18]\n",
      " [21 19]\n",
      " [22 19]\n",
      " [23 19]]\n",
      "selected_neighbors after reshuffling = [(22, 19), (23, 17), (21, 18), (21, 19), (22, 17), (23, 18), (23, 19), (21, 17)]\n",
      "selected_neighbors[0] = (22, 19)\n",
      "new pos = (22, 19)\n",
      "After Turtle moves:  pos = (22, 19) ppos =(22, 18)\n",
      "number of turtles found in (22, 19) -->1\n",
      "number of turtles found in (9, 21) -->1\n",
      "total number of encounters this step =0\n",
      " step 7\n",
      "Before Turtle moves:  pos = (22, 19) ppos =(22, 18)\n",
      "Position neighbors = [[21 18]\n",
      " [22 18]\n",
      " [23 18]\n",
      " [21 19]\n",
      " [23 19]\n",
      " [21 20]\n",
      " [22 20]\n",
      " [23 20]]\n",
      "Hot spots = [False False False False False False False False]\n",
      "Wait in hot spot = False\n",
      "payment_spots = [False False False False False False False False]\n",
      "Wait in payment? = False\n",
      "allowed_neighbors = [[21 18]\n",
      " [22 18]\n",
      " [23 18]\n",
      " [21 19]\n",
      " [23 19]]\n",
      "cc_in_allowed_neighbors = [[<__main__.PatchSmkt object at 0x11ada5ed0>], [<__main__.PatchSmkt object at 0x11ad9d910>], [<__main__.PatchSmkt object at 0x11ad7a350>], [<__main__.PatchSmkt object at 0x11ada5f10>], [<__main__.PatchSmkt object at 0x11ad7a390>]]\n",
      "not_filled_with_turtles = [ True  True  True  True  True]\n",
      "selected_neighbors before reshufling = [[21 18]\n",
      " [22 18]\n",
      " [23 18]\n",
      " [21 19]\n",
      " [23 19]]\n",
      "selected_neighbors after reshuffling = [(23, 18), (23, 19), (22, 18), (21, 18), (21, 19)]\n",
      "selected_neighbors[0] = (23, 18)\n",
      "new pos = (23, 18)\n",
      "After Turtle moves:  pos = (23, 18) ppos =(22, 19)\n",
      "Before Turtle moves:  pos = (9, 21) ppos =(10, 22)\n",
      "Position neighbors = [[ 8 20]\n",
      " [ 9 20]\n",
      " [10 20]\n",
      " [ 8 21]\n",
      " [10 21]\n",
      " [ 8 22]\n",
      " [ 9 22]\n",
      " [10 22]]\n",
      "Hot spots = [False False False False False False False False]\n",
      "Wait in hot spot = False\n",
      "payment_spots = [False False False False False False False False]\n",
      "Wait in payment? = False\n",
      "allowed_neighbors = [[ 8 21]\n",
      " [10 21]\n",
      " [ 8 22]\n",
      " [ 9 22]\n",
      " [10 22]]\n",
      "cc_in_allowed_neighbors = [[<__main__.PatchSmkt object at 0x119b92b90>], [<__main__.PatchSmkt object at 0x119b9dfd0>], [<__main__.PatchSmkt object at 0x119b92bd0>], [<__main__.PatchSmkt object at 0x119b9d610>], [<__main__.PatchSmkt object at 0x11ad97050>]]\n",
      "not_filled_with_turtles = [ True  True  True  True  True]\n",
      "selected_neighbors before reshufling = [[ 8 21]\n",
      " [10 21]\n",
      " [ 8 22]\n",
      " [ 9 22]\n",
      " [10 22]]\n",
      "selected_neighbors after reshuffling = [(10, 21), (9, 22), (8, 21), (8, 22), (10, 22)]\n",
      "selected_neighbors[0] = (10, 21)\n",
      "new pos = (10, 21)\n",
      "After Turtle moves:  pos = (10, 21) ppos =(9, 21)\n",
      "number of turtles found in (23, 18) -->1\n",
      "number of turtles found in (10, 21) -->1\n",
      "total number of encounters this step =0\n",
      " step 8\n",
      "Before Turtle moves:  pos = (10, 21) ppos =(9, 21)\n",
      "Position neighbors = [[ 9 20]\n",
      " [10 20]\n",
      " [11 20]\n",
      " [ 9 21]\n",
      " [11 21]\n",
      " [ 9 22]\n",
      " [10 22]\n",
      " [11 22]]\n",
      "Hot spots = [False False False False False False False False]\n",
      "Wait in hot spot = False\n",
      "payment_spots = [False False False False False False False False]\n",
      "Wait in payment? = False\n",
      "allowed_neighbors = [[ 9 21]\n",
      " [11 21]\n",
      " [ 9 22]\n",
      " [10 22]\n",
      " [11 22]]\n",
      "cc_in_allowed_neighbors = [[<__main__.PatchSmkt object at 0x119b9d5d0>], [<__main__.PatchSmkt object at 0x11ad97a10>], [<__main__.PatchSmkt object at 0x119b9d610>], [<__main__.PatchSmkt object at 0x11ad97050>], [<__main__.PatchSmkt object at 0x11ad97a50>]]\n",
      "not_filled_with_turtles = [ True  True  True  True  True]\n",
      "selected_neighbors before reshufling = [[ 9 21]\n",
      " [11 21]\n",
      " [ 9 22]\n",
      " [10 22]\n",
      " [11 22]]\n",
      "selected_neighbors after reshuffling = [(9, 21), (11, 22), (9, 22), (11, 21), (10, 22)]\n",
      "selected_neighbors[0] = (9, 21)\n",
      "new pos = (9, 21)\n",
      "After Turtle moves:  pos = (9, 21) ppos =(10, 21)\n",
      "Before Turtle moves:  pos = (23, 18) ppos =(22, 19)\n",
      "Position neighbors = [[22 17]\n",
      " [23 17]\n",
      " [24 17]\n",
      " [22 18]\n",
      " [24 18]\n",
      " [22 19]\n",
      " [23 19]\n",
      " [24 19]]\n",
      "Hot spots = [False False False False False False False False]\n",
      "Wait in hot spot = False\n",
      "payment_spots = [False False False False False False False False]\n",
      "Wait in payment? = False\n",
      "allowed_neighbors = [[22 17]\n",
      " [23 17]\n",
      " [24 17]\n",
      " [22 18]\n",
      " [24 18]\n",
      " [22 19]\n",
      " [23 19]\n",
      " [24 19]]\n",
      "cc_in_allowed_neighbors = [[<__main__.PatchSmkt object at 0x11ad9d8d0>], [<__main__.PatchSmkt object at 0x11ad7a310>], [<__main__.PatchSmkt object at 0x11ad7ad10>], [<__main__.PatchSmkt object at 0x11ad9d910>], [<__main__.PatchSmkt object at 0x11ad7ad50>], [<__main__.PatchSmkt object at 0x11ad9d950>], [<__main__.PatchSmkt object at 0x11ad7a390>], [<__main__.PatchSmkt object at 0x11ad7ad90>]]\n",
      "not_filled_with_turtles = [ True  True  True  True  True  True  True  True]\n",
      "selected_neighbors before reshufling = [[22 17]\n",
      " [23 17]\n",
      " [24 17]\n",
      " [22 18]\n",
      " [24 18]\n",
      " [22 19]\n",
      " [23 19]\n",
      " [24 19]]\n",
      "selected_neighbors after reshuffling = [(23, 19), (22, 18), (24, 18), (23, 17), (22, 17), (24, 19), (24, 17), (22, 19)]\n",
      "selected_neighbors[0] = (23, 19)\n",
      "new pos = (23, 19)\n",
      "After Turtle moves:  pos = (23, 19) ppos =(23, 18)\n",
      "number of turtles found in (23, 19) -->1\n",
      "number of turtles found in (9, 21) -->1\n",
      "total number of encounters this step =0\n",
      " step 9\n",
      "Before Turtle moves:  pos = (9, 21) ppos =(10, 21)\n",
      "Position neighbors = [[ 8 20]\n",
      " [ 9 20]\n",
      " [10 20]\n",
      " [ 8 21]\n",
      " [10 21]\n",
      " [ 8 22]\n",
      " [ 9 22]\n",
      " [10 22]]\n",
      "Hot spots = [False False False False False False False False]\n",
      "Wait in hot spot = False\n",
      "payment_spots = [False False False False False False False False]\n",
      "Wait in payment? = False\n",
      "allowed_neighbors = [[ 8 21]\n",
      " [10 21]\n",
      " [ 8 22]\n",
      " [ 9 22]\n",
      " [10 22]]\n",
      "cc_in_allowed_neighbors = [[<__main__.PatchSmkt object at 0x119b92b90>], [<__main__.PatchSmkt object at 0x119b9dfd0>], [<__main__.PatchSmkt object at 0x119b92bd0>], [<__main__.PatchSmkt object at 0x119b9d610>], [<__main__.PatchSmkt object at 0x11ad97050>]]\n",
      "not_filled_with_turtles = [ True  True  True  True  True]\n",
      "selected_neighbors before reshufling = [[ 8 21]\n",
      " [10 21]\n",
      " [ 8 22]\n",
      " [ 9 22]\n",
      " [10 22]]\n",
      "selected_neighbors after reshuffling = [(10, 21), (8, 22), (9, 22), (8, 21), (10, 22)]\n",
      "selected_neighbors[0] = (10, 21)\n",
      "new pos = (10, 21)\n",
      "After Turtle moves:  pos = (10, 21) ppos =(9, 21)\n",
      "Before Turtle moves:  pos = (23, 19) ppos =(23, 18)\n",
      "Position neighbors = [[22 18]\n",
      " [23 18]\n",
      " [24 18]\n",
      " [22 19]\n",
      " [24 19]\n",
      " [22 20]\n",
      " [23 20]\n",
      " [24 20]]\n",
      "Hot spots = [False False False False False False False False]\n",
      "Wait in hot spot = False\n",
      "payment_spots = [False False False False False False False False]\n",
      "Wait in payment? = False\n",
      "allowed_neighbors = [[22 18]\n",
      " [23 18]\n",
      " [24 18]\n",
      " [22 19]\n",
      " [24 19]]\n",
      "cc_in_allowed_neighbors = [[<__main__.PatchSmkt object at 0x11ad9d910>], [<__main__.PatchSmkt object at 0x11ad7a350>], [<__main__.PatchSmkt object at 0x11ad7ad50>], [<__main__.PatchSmkt object at 0x11ad9d950>], [<__main__.PatchSmkt object at 0x11ad7ad90>]]\n",
      "not_filled_with_turtles = [ True  True  True  True  True]\n",
      "selected_neighbors before reshufling = [[22 18]\n",
      " [23 18]\n",
      " [24 18]\n",
      " [22 19]\n",
      " [24 19]]\n",
      "selected_neighbors after reshuffling = [(22, 19), (24, 18), (23, 18), (22, 18), (24, 19)]\n",
      "selected_neighbors[0] = (22, 19)\n",
      "new pos = (22, 19)\n",
      "After Turtle moves:  pos = (22, 19) ppos =(23, 19)\n",
      "number of turtles found in (22, 19) -->1\n",
      "number of turtles found in (10, 21) -->1\n",
      "total number of encounters this step =0\n",
      "Done!\n"
     ]
    },
    {
     "data": {
      "text/html": [
       "<div>\n",
       "<style scoped>\n",
       "    .dataframe tbody tr th:only-of-type {\n",
       "        vertical-align: middle;\n",
       "    }\n",
       "\n",
       "    .dataframe tbody tr th {\n",
       "        vertical-align: top;\n",
       "    }\n",
       "\n",
       "    .dataframe thead th {\n",
       "        text-align: right;\n",
       "    }\n",
       "</style>\n",
       "<table border=\"1\" class=\"dataframe\">\n",
       "  <thead>\n",
       "    <tr style=\"text-align: right;\">\n",
       "      <th></th>\n",
       "      <th>NumberOfEncounters</th>\n",
       "    </tr>\n",
       "  </thead>\n",
       "  <tbody>\n",
       "    <tr>\n",
       "      <th>0</th>\n",
       "      <td>0</td>\n",
       "    </tr>\n",
       "    <tr>\n",
       "      <th>1</th>\n",
       "      <td>0</td>\n",
       "    </tr>\n",
       "    <tr>\n",
       "      <th>2</th>\n",
       "      <td>0</td>\n",
       "    </tr>\n",
       "    <tr>\n",
       "      <th>3</th>\n",
       "      <td>0</td>\n",
       "    </tr>\n",
       "    <tr>\n",
       "      <th>4</th>\n",
       "      <td>0</td>\n",
       "    </tr>\n",
       "    <tr>\n",
       "      <th>5</th>\n",
       "      <td>0</td>\n",
       "    </tr>\n",
       "    <tr>\n",
       "      <th>6</th>\n",
       "      <td>0</td>\n",
       "    </tr>\n",
       "    <tr>\n",
       "      <th>7</th>\n",
       "      <td>0</td>\n",
       "    </tr>\n",
       "    <tr>\n",
       "      <th>8</th>\n",
       "      <td>0</td>\n",
       "    </tr>\n",
       "    <tr>\n",
       "      <th>9</th>\n",
       "      <td>0</td>\n",
       "    </tr>\n",
       "    <tr>\n",
       "      <th>10</th>\n",
       "      <td>0</td>\n",
       "    </tr>\n",
       "  </tbody>\n",
       "</table>\n",
       "</div>"
      ],
      "text/plain": [
       "    NumberOfEncounters\n",
       "0                    0\n",
       "1                    0\n",
       "2                    0\n",
       "3                    0\n",
       "4                    0\n",
       "5                    0\n",
       "6                    0\n",
       "7                    0\n",
       "8                    0\n",
       "9                    0\n",
       "10                   0"
      ]
     },
     "execution_count": 398,
     "metadata": {},
     "output_type": "execute_result"
    }
   ],
   "source": [
    "run_turtles(turtles=2, steps=10, wait_hotspot = 0.5, wait_payment = 0.7, map_file=\"barrio-tortuga-smkt.txt\", \n",
    "                prtl=PrtLvl.Verbose, prtf = 1)"
   ]
  },
  {
   "cell_type": "markdown",
   "metadata": {},
   "source": [
    "## First. No social distancing. Assume that all turtles go out at the same time, with large social affinity (0.8) "
   ]
  },
  {
   "cell_type": "code",
   "execution_count": 239,
   "metadata": {},
   "outputs": [
    {
     "name": "stdout",
     "output_type": "stream",
     "text": [
      " Running Barrio Tortuga with 220  turtles, for 500 steps.\n",
      "loaded barrio tortuga map with dimensions ->(100, 100)\n",
      "social affinity ->0.8\n",
      "number of doors = 804\n",
      " step 0\n",
      " step 100\n",
      " step 200\n",
      " step 300\n",
      " step 400\n",
      "Done!\n"
     ]
    }
   ],
   "source": [
    "dft = run_turtles(turtles=220, social_affinity = 0.8, steps=500, nd=2)"
   ]
  },
  {
   "cell_type": "code",
   "execution_count": 240,
   "metadata": {},
   "outputs": [
    {
     "data": {
      "text/plain": [
       "array([[<matplotlib.axes._subplots.AxesSubplot object at 0x116591050>]],\n",
       "      dtype=object)"
      ]
     },
     "execution_count": 240,
     "metadata": {},
     "output_type": "execute_result"
    },
    {
     "data": {
      "image/png": "[encoded data removed]",
      "text/plain": [
       "<Figure size 720x576 with 1 Axes>"
      ]
     },
     "metadata": {
      "needs_background": "light"
     },
     "output_type": "display_data"
    }
   ],
   "source": [
    "dft.hist(\"NumberOfEncounters\")"
   ]
  },
  {
   "cell_type": "code",
   "execution_count": 241,
   "metadata": {},
   "outputs": [
    {
     "data": {
      "text/plain": [
       "NumberOfEncounters    48.732\n",
       "dtype: float64"
      ]
     },
     "execution_count": 241,
     "metadata": {},
     "output_type": "execute_result"
    }
   ],
   "source": [
    "dft.sum() /500"
   ]
  },
  {
   "cell_type": "code",
   "execution_count": 242,
   "metadata": {},
   "outputs": [
    {
     "data": {
      "text/plain": [
       "NumberOfEncounters    48.634731\n",
       "dtype: float64"
      ]
     },
     "execution_count": 242,
     "metadata": {},
     "output_type": "execute_result"
    }
   ],
   "source": [
    "dft.mean()"
   ]
  },
  {
   "cell_type": "code",
   "execution_count": 243,
   "metadata": {},
   "outputs": [
    {
     "data": {
      "text/plain": [
       "NumberOfEncounters    4.596554\n",
       "dtype: float64"
      ]
     },
     "execution_count": 243,
     "metadata": {},
     "output_type": "execute_result"
    }
   ],
   "source": [
    "dft.std()"
   ]
  },
  {
   "cell_type": "markdown",
   "metadata": {},
   "source": [
    "## Social distancing (I). Still all turtles go out, but not social_affinity=9"
   ]
  },
  {
   "cell_type": "code",
   "execution_count": 244,
   "metadata": {},
   "outputs": [
    {
     "name": "stdout",
     "output_type": "stream",
     "text": [
      " Running Barrio Tortuga with 220  turtles, for 500 steps.\n",
      "loaded barrio tortuga map with dimensions ->(100, 100)\n",
      "social affinity ->0.0\n",
      "number of doors = 804\n",
      " step 0\n",
      " step 100\n",
      " step 200\n",
      " step 300\n",
      " step 400\n",
      "Done!\n"
     ]
    }
   ],
   "source": [
    "dft = run_turtles(turtles=220, social_affinity = 0.0, steps=500, nd=2)"
   ]
  },
  {
   "cell_type": "code",
   "execution_count": 245,
   "metadata": {},
   "outputs": [
    {
     "data": {
      "text/plain": [
       "array([[<matplotlib.axes._subplots.AxesSubplot object at 0x119e6e290>]],\n",
       "      dtype=object)"
      ]
     },
     "execution_count": 245,
     "metadata": {},
     "output_type": "execute_result"
    },
    {
     "data": {
      "image/png": "[encoded data removed]",
      "text/plain": [
       "<Figure size 720x576 with 1 Axes>"
      ]
     },
     "metadata": {
      "needs_background": "light"
     },
     "output_type": "display_data"
    }
   ],
   "source": [
    "dft.hist(\"NumberOfEncounters\")"
   ]
  },
  {
   "cell_type": "code",
   "execution_count": 246,
   "metadata": {},
   "outputs": [
    {
     "data": {
      "text/plain": [
       "NumberOfEncounters    4.838323\n",
       "dtype: float64"
      ]
     },
     "execution_count": 246,
     "metadata": {},
     "output_type": "execute_result"
    }
   ],
   "source": [
    "dft.mean()"
   ]
  },
  {
   "cell_type": "code",
   "execution_count": 247,
   "metadata": {},
   "outputs": [
    {
     "data": {
      "text/plain": [
       "NumberOfEncounters    2.337479\n",
       "dtype: float64"
      ]
     },
     "execution_count": 247,
     "metadata": {},
     "output_type": "execute_result"
    }
   ],
   "source": [
    "dft.std()"
   ]
  },
  {
   "cell_type": "markdown",
   "metadata": {},
   "source": [
    "## Social distancing (II). Still all turtles go out, but they try to avoid each other: social_affinity = -0.8"
   ]
  },
  {
   "cell_type": "code",
   "execution_count": 249,
   "metadata": {},
   "outputs": [
    {
     "name": "stdout",
     "output_type": "stream",
     "text": [
      " Running Barrio Tortuga with 220  turtles, for 500 steps.\n",
      "loaded barrio tortuga map with dimensions ->(100, 100)\n",
      "avoid awareness ->0.8\n",
      "number of doors = 804\n",
      " step 0\n",
      " step 100\n",
      " step 200\n",
      " step 300\n",
      " step 400\n",
      "Done!\n"
     ]
    }
   ],
   "source": [
    "dft = run_turtles(turtles=220, social_affinity = -0.8, steps=500, nd=2)"
   ]
  },
  {
   "cell_type": "code",
   "execution_count": 250,
   "metadata": {},
   "outputs": [
    {
     "data": {
      "text/plain": [
       "array([[<matplotlib.axes._subplots.AxesSubplot object at 0x1192d4510>]],\n",
       "      dtype=object)"
      ]
     },
     "execution_count": 250,
     "metadata": {},
     "output_type": "execute_result"
    },
    {
     "data": {
      "image/png": "[encoded data removed]",
      "text/plain": [
       "<Figure size 720x576 with 1 Axes>"
      ]
     },
     "metadata": {
      "needs_background": "light"
     },
     "output_type": "display_data"
    }
   ],
   "source": [
    "dft.hist(\"NumberOfEncounters\")"
   ]
  },
  {
   "cell_type": "code",
   "execution_count": 251,
   "metadata": {},
   "outputs": [
    {
     "data": {
      "text/plain": [
       "NumberOfEncounters    0.942116\n",
       "dtype: float64"
      ]
     },
     "execution_count": 251,
     "metadata": {},
     "output_type": "execute_result"
    }
   ],
   "source": [
    "dft.mean()"
   ]
  },
  {
   "cell_type": "code",
   "execution_count": 252,
   "metadata": {},
   "outputs": [
    {
     "data": {
      "text/plain": [
       "NumberOfEncounters    1.426409\n",
       "dtype: float64"
      ]
     },
     "execution_count": 252,
     "metadata": {},
     "output_type": "execute_result"
    }
   ],
   "source": [
    "dft.std()"
   ]
  },
  {
   "cell_type": "markdown",
   "metadata": {},
   "source": [
    "## Social distancing (III). A large part of the population stay home. Only a fraction go out for a walk or spot. F = 30%. Social_affinity = -0.8"
   ]
  },
  {
   "cell_type": "code",
   "execution_count": 256,
   "metadata": {},
   "outputs": [
    {
     "name": "stdout",
     "output_type": "stream",
     "text": [
      " Running Barrio Tortuga with 66.0  turtles, for 500 steps.\n",
      "loaded barrio tortuga map with dimensions ->(100, 100)\n",
      "avoid awareness ->0.8\n",
      "number of doors = 804\n",
      " step 0\n",
      " step 100\n",
      " step 200\n",
      " step 300\n",
      " step 400\n",
      "Done!\n"
     ]
    }
   ],
   "source": [
    "dft = run_turtles(turtles=220 * 0.3, social_affinity = -0.8, steps=500, nd=2)"
   ]
  },
  {
   "cell_type": "code",
   "execution_count": 257,
   "metadata": {},
   "outputs": [
    {
     "data": {
      "text/plain": [
       "array([[<matplotlib.axes._subplots.AxesSubplot object at 0x1165a5490>]],\n",
       "      dtype=object)"
      ]
     },
     "execution_count": 257,
     "metadata": {},
     "output_type": "execute_result"
    },
    {
     "data": {
      "image/png": "[encoded data removed]",
      "text/plain": [
       "<Figure size 720x576 with 1 Axes>"
      ]
     },
     "metadata": {
      "needs_background": "light"
     },
     "output_type": "display_data"
    }
   ],
   "source": [
    "dft.hist(\"NumberOfEncounters\")"
   ]
  },
  {
   "cell_type": "code",
   "execution_count": 258,
   "metadata": {},
   "outputs": [
    {
     "data": {
      "text/plain": [
       "NumberOfEncounters    0.0499\n",
       "dtype: float64"
      ]
     },
     "execution_count": 258,
     "metadata": {},
     "output_type": "execute_result"
    }
   ],
   "source": [
    "dft.mean()"
   ]
  },
  {
   "cell_type": "code",
   "execution_count": 259,
   "metadata": {},
   "outputs": [
    {
     "name": "stdout",
     "output_type": "stream",
     "text": [
      " Running Barrio Tortuga with 22.0  turtles, for 500 steps.\n",
      "loaded barrio tortuga map with dimensions ->(100, 100)\n",
      "avoid awareness ->0.8\n",
      "number of doors = 804\n",
      " step 0\n",
      " step 100\n",
      " step 200\n",
      " step 300\n",
      " step 400\n",
      "Done!\n"
     ]
    }
   ],
   "source": [
    "dft = run_turtles(turtles=220 * 0.1, social_affinity = -0.8, steps=500, nd=2)"
   ]
  },
  {
   "cell_type": "code",
   "execution_count": 260,
   "metadata": {},
   "outputs": [
    {
     "data": {
      "text/plain": [
       "array([[<matplotlib.axes._subplots.AxesSubplot object at 0x11955e450>]],\n",
       "      dtype=object)"
      ]
     },
     "execution_count": 260,
     "metadata": {},
     "output_type": "execute_result"
    },
    {
     "data": {
      "image/png": "[encoded data removed]",
      "text/plain": [
       "<Figure size 720x576 with 1 Axes>"
      ]
     },
     "metadata": {
      "needs_background": "light"
     },
     "output_type": "display_data"
    }
   ],
   "source": [
    "dft.hist(\"NumberOfEncounters\")"
   ]
  },
  {
   "cell_type": "code",
   "execution_count": 261,
   "metadata": {},
   "outputs": [
    {
     "data": {
      "text/plain": [
       "NumberOfEncounters    0.00998\n",
       "dtype: float64"
      ]
     },
     "execution_count": 261,
     "metadata": {},
     "output_type": "execute_result"
    }
   ],
   "source": [
    "dft.mean()"
   ]
  },
  {
   "cell_type": "code",
   "execution_count": 262,
   "metadata": {},
   "outputs": [
    {
     "data": {
      "text/plain": [
       "66.0"
      ]
     },
     "execution_count": 262,
     "metadata": {},
     "output_type": "execute_result"
    }
   ],
   "source": [
    "220 * 0.3"
   ]
  },
  {
   "cell_type": "code",
   "execution_count": 264,
   "metadata": {},
   "outputs": [
    {
     "data": {
      "text/plain": [
       "8.333333333333334"
      ]
     },
     "execution_count": 264,
     "metadata": {},
     "output_type": "execute_result"
    }
   ],
   "source": [
    "350E+3 /(30 * 1.4e+3)"
   ]
  },
  {
   "cell_type": "code",
   "execution_count": null,
   "metadata": {},
   "outputs": [],
   "source": []
  }
 ],
 "metadata": {
  "kernelspec": {
   "display_name": "Python 3",
   "language": "python",
   "name": "python3"
  },
  "language_info": {
   "codemirror_mode": {
    "name": "ipython",
    "version": 3
   },
   "file_extension": ".py",
   "mimetype": "text/x-python",
   "name": "python",
   "nbconvert_exporter": "python",
   "pygments_lexer": "ipython3",
   "version": "3.7.6"
  }
 },
 "nbformat": 4,
 "nbformat_minor": 4
}
